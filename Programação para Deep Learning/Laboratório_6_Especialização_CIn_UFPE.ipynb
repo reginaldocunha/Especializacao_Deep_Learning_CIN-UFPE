{
  "nbformat": 4,
  "nbformat_minor": 0,
  "metadata": {
    "colab": {
      "provenance": []
    },
    "kernelspec": {
      "name": "python3",
      "display_name": "Python 3"
    },
    "language_info": {
      "name": "python"
    }
  },
  "cells": [
    {
      "cell_type": "markdown",
      "metadata": {
        "id": "5b0JgHd19utr"
      },
      "source": [
        "#### Assunto do Laboratório 6:\n",
        "- Funções"
      ]
    },
    {
      "cell_type": "markdown",
      "metadata": {
        "id": "S20Kdlr691MV"
      },
      "source": [
        "### Questão 1:\n",
        "\n",
        "Faça uma função que imprima o seguinte texto:\n",
        "\n",
        "\\*\\*\\*\\*\\*\\*\\*\\*\\*\\*\\*\\*\\*\\*\\*\\*\\*\\*\\*\\*\\*\\*\\*\n",
        "\n",
        "Especialização em Deep Learning\n",
        "\n",
        "\\*\\*\\*\\*\\*\\*\\*\\*\\*\\*\\*\\*\\*\\*\\*\\*\\*\\*\\*\\*\\*\\*\\*\n"
      ]
    },
    {
      "cell_type": "code",
      "metadata": {
        "id": "BwOxhAeg-ACp"
      },
      "source": [
        "#codigo vai aqui"
      ],
      "execution_count": null,
      "outputs": []
    },
    {
      "cell_type": "markdown",
      "metadata": {
        "id": "vZCKFy6Q-A9g"
      },
      "source": [
        "### Questão 2:\n",
        "\n",
        "Escreva uma função _desenha_retangulo_solido_ que exibe um retângulo sólido composto inteiramente do mesmo caractere. A função deverá ser capaz de desenhar retângulos de tamanho parametrizável, de modo que os parâmetros deverão incluir quantidade de linhas, quantidade de\n",
        "colunas e caractere desejado. Por exemplo, se a quantidade de linhas for 5, quantidade de colunas for 20 e o caractere for ’M’, a função deverá exibir:\n",
        "\n",
        "\n",
        "MMMMMMMMMMMMMMMMMMMM\n",
        "\n",
        "MMMMMMMMMMMMMMMMMMMM\n",
        "\n",
        "MMMMMMMMMMMMMMMMMMMM\n",
        "\n",
        "MMMMMMMMMMMMMMMMMMMM\n",
        "\n",
        "MMMMMMMMMMMMMMMMMMMM"
      ]
    },
    {
      "cell_type": "code",
      "metadata": {
        "id": "gqr3RF75-Joi"
      },
      "source": [
        "#codigo vai aqui"
      ],
      "execution_count": null,
      "outputs": []
    },
    {
      "cell_type": "markdown",
      "metadata": {
        "id": "J2FhRnwM9Ms2"
      },
      "source": [
        "### Questão 3:\n",
        "\n",
        "Fazer um programa que receba um número que corresponda a um mês. A função deve retornar a string do nome do mês correspondente. Caso o usuário digite um número fora do intervalo permitido, deverá retornar uma mensagem de erro \"MÊS INVALIDO\"."
      ]
    },
    {
      "cell_type": "code",
      "metadata": {
        "id": "opwem2_G9O42"
      },
      "source": [
        "#codigo vai aqui\n"
      ],
      "execution_count": null,
      "outputs": []
    },
    {
      "cell_type": "markdown",
      "metadata": {
        "id": "aWCv-i7t9QCq"
      },
      "source": [
        "### Questão 4:\n",
        "\n",
        " Fazer uma função que calcula e retorna o fatorial de um número inteiro qualquer."
      ]
    },
    {
      "cell_type": "code",
      "metadata": {
        "id": "9uXEEBsH9U93"
      },
      "source": [
        "#codigo vai aqui\n"
      ],
      "execution_count": null,
      "outputs": []
    },
    {
      "cell_type": "markdown",
      "metadata": {
        "id": "0F86MPIp-MxF"
      },
      "source": [
        "### Questão 5:\n",
        "\n",
        "Fazer uma função que receba um caractere como parâmetro e retorne 1 caso o caractere seja uma consoante, ou 0 caso contrário."
      ]
    },
    {
      "cell_type": "code",
      "metadata": {
        "id": "WZ-NICgO-Q35"
      },
      "source": [
        "#codigo vai aqui\n"
      ],
      "execution_count": null,
      "outputs": []
    },
    {
      "cell_type": "markdown",
      "metadata": {
        "id": "-Gr7xwMW-UY7"
      },
      "source": [
        "### Questão 6:\n",
        "\n",
        "Construa uma função chamada _to_lower_case_ que receba uma string. A função deverá retornar uma outra string cujo conteúdo seja o\n",
        "mesmo da string original, mas com todas as letras minúsculas. Considere que pode haver caracteres ASCII que não são letras, como pontos e vírgula.  Considere que não será passado caracteres com acentuação ou marcação especial (acento, trema, cedilha)."
      ]
    },
    {
      "cell_type": "code",
      "metadata": {
        "id": "iZgxIV8K-d87"
      },
      "source": [
        "# codigo vai aqui\n"
      ],
      "execution_count": null,
      "outputs": []
    },
    {
      "cell_type": "markdown",
      "metadata": {
        "id": "ZPpt0X7pUNSE"
      },
      "source": [
        "### Questão 7:\n",
        "\n",
        "Escreva\t uma\t função\t que\t receba 3\t notas\t de\t um\t aluno\t e\t uma\t letra.\t Se\t a\tletra\tfor\t\"A\"\ta\tfunção\tretorna a\tmédia\taritmética\tdas\tnotas do\taluno,\tse\tfor\t\"P\",\t a\t sua\t média\t ponderada\t (pesos:\t 5,\t 3\t e\t 2)\t e\t se\t for\t \"H\",\t a\t sua\t média\tharmônica."
      ]
    },
    {
      "cell_type": "code",
      "metadata": {
        "id": "L3gLGbUdUWsx"
      },
      "source": [
        "# codigo vai aqui\n"
      ],
      "execution_count": null,
      "outputs": []
    },
    {
      "cell_type": "markdown",
      "metadata": {
        "id": "r04DPX4oVKiB"
      },
      "source": [
        "### Questão 8:\n",
        "\n",
        "Faça uma função que recebe uma lista de strings (por exemplo: [\"Fernando\", \"José\", \"Maria\", \"Pedro\"]) que representa uma lista de convidados, assim como recebe como entrada um nome como uma string. A função deve retornar *True* se essa string está na lista de convidados, ou *False* caso contrário.\n"
      ]
    },
    {
      "cell_type": "code",
      "metadata": {
        "id": "X05kEu0zVGag"
      },
      "source": [
        "# codigo vai aqui\n"
      ],
      "execution_count": null,
      "outputs": []
    },
    {
      "cell_type": "markdown",
      "metadata": {
        "id": "OxTjURugUaGu"
      },
      "source": [
        "### Questão 9:\n",
        "\n",
        "Faça uma função que recebe uma lista de listas com produtos e valores\n",
        "(por exemplo: [ [\"Feijão\", 9.95], [\"Macarrão\", 4.32], [\"Arroz\", 7.43]]), e uma lista de compras (por exemplo: [\"Feijão\", \"Arroz\"]).\n",
        "\n",
        "Sua função deve retornar o valor a ser pago por essa lista de compras."
      ]
    },
    {
      "cell_type": "code",
      "metadata": {
        "id": "8Snir4J2V07-"
      },
      "source": [
        "# codigo vai aqui\n"
      ],
      "execution_count": null,
      "outputs": []
    },
    {
      "cell_type": "markdown",
      "metadata": {
        "id": "0GmoqyGaV3Lq"
      },
      "source": [
        "### Questão 10:\n",
        "\n",
        "Faça um programa que use a função _valorPagamento_ para determinar o valor a ser pago por uma prestação de uma conta. O programa deverá solicitar ao usuário o valor da prestação e o número de dias em atraso e passar estes valores para a função valorPagamento, que calculará o valor a ser pago e devolverá este valor ao programa que a chamou. O programa deverá então exibir o valor a ser pago na tela. Após a execução o programa deverá voltar a pedir outro valor de prestação e assim continuar até que seja informado um valor igual a zero para a prestação. Neste momento o programa deverá ser encerrado, exibindo o relatório do dia, que conterá a quantidade e o valor total de prestações pagas no dia. O cálculo do valor a ser pago é feito da seguinte forma. Para pagamentos sem atraso, cobrar o valor da prestação. Quando houver atraso, cobrar 3% de multa, mais 0,1% de juros por dia de atraso."
      ]
    },
    {
      "cell_type": "code",
      "metadata": {
        "id": "e9GZTiPbWV91"
      },
      "source": [],
      "execution_count": null,
      "outputs": []
    }
  ]
}