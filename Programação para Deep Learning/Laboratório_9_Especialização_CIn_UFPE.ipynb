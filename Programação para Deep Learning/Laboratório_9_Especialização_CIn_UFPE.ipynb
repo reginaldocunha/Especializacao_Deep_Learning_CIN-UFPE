{
  "nbformat": 4,
  "nbformat_minor": 0,
  "metadata": {
    "colab": {
      "provenance": []
    },
    "kernelspec": {
      "name": "python3",
      "display_name": "Python 3"
    },
    "language_info": {
      "name": "python"
    }
  },
  "cells": [
    {
      "cell_type": "markdown",
      "metadata": {
        "id": "tXaXWavE0wbL"
      },
      "source": [
        "#### Assunto do Laboratório 9:\n",
        "- Uso de vetores e matrizes da biblioteca NUMPY."
      ]
    },
    {
      "cell_type": "markdown",
      "metadata": {
        "id": "YzYMWhKC0yh0"
      },
      "source": [
        "### Questão 1:\n",
        "\n",
        "Construa um programa que preenche um vetor de inteiros de 100 números, colocando 0 nas posições pares e 1 nas ímpares.\n"
      ]
    },
    {
      "cell_type": "code",
      "metadata": {
        "id": "RERdAgNd0vsU"
      },
      "source": [
        "##codigo vai aqui\n"
      ],
      "execution_count": null,
      "outputs": []
    },
    {
      "cell_type": "markdown",
      "metadata": {
        "id": "FwJsKotI06EJ"
      },
      "source": [
        "### Questão 2:\n",
        "\n",
        "Construa um programa que lê, soma e imprime o resultado da soma de um vetor de inteiros de 10 posições.\n"
      ]
    },
    {
      "cell_type": "code",
      "metadata": {
        "id": "5jo5Wx7109aG"
      },
      "source": [
        "##codigo vai aqui\n"
      ],
      "execution_count": null,
      "outputs": []
    },
    {
      "cell_type": "markdown",
      "metadata": {
        "id": "XhaW_BzU0_Bb"
      },
      "source": [
        "### Questão 3:\n",
        "\n",
        "Construa um programa que multiplique os valores de um vetor de reais de 20 posições pelos valores de um outro vetor de reais de 20 posições. O primeiro vetor deve ser inicializado com valores crescentes a partir de 1 e o segundo vetor com valores decrescentes a partir de 20. Os resultados das multiplicações devem ser armazenados num terceiro vetor.\n"
      ]
    },
    {
      "cell_type": "code",
      "metadata": {
        "id": "Z1XZle0w1COP"
      },
      "source": [
        "##codigo vai aqui\n"
      ],
      "execution_count": null,
      "outputs": []
    },
    {
      "cell_type": "markdown",
      "metadata": {
        "id": "Fbe5FYjW1D9g"
      },
      "source": [
        "### Questão 4:\n",
        "\n",
        "Leia um vetor de 16 posições e troque os 8 primeiros valores pelos 8 últimos e vice-versa. Escreva ao final o vetor obtido.\n"
      ]
    },
    {
      "cell_type": "code",
      "metadata": {
        "id": "oUKcB_Dg1HB0"
      },
      "source": [
        "##codigo vai aqui\n"
      ],
      "execution_count": null,
      "outputs": []
    },
    {
      "cell_type": "markdown",
      "metadata": {
        "id": "f1f9SQWE1IF5"
      },
      "source": [
        "### Questão 5\n",
        "\n",
        "Refaça as questões anteriores criando uma função para cada uma delas."
      ]
    },
    {
      "cell_type": "code",
      "metadata": {
        "id": "EaB2tbWT1Mlr"
      },
      "source": [
        "##codigo vai aqui\n"
      ],
      "execution_count": null,
      "outputs": []
    },
    {
      "cell_type": "markdown",
      "metadata": {
        "id": "te8fv3b81R-W"
      },
      "source": [
        "### Questão 6:\n",
        "\n",
        "Construa um algoritmo que efetue e apresente o resultado da soma entre duas matrizes 3 x 5. Inicialize a matriz com valores quaisquer e imprima o resultado na tela.\n"
      ]
    },
    {
      "cell_type": "code",
      "metadata": {
        "id": "0jM3Vn7z1NxC"
      },
      "source": [
        "##codigo vai aqui\n"
      ],
      "execution_count": null,
      "outputs": []
    },
    {
      "cell_type": "markdown",
      "metadata": {
        "id": "bISoZPfB1V6E"
      },
      "source": [
        "### Questão 7:\n",
        "Faça um programa que multiplica uma matriz 3 x 3 de inteiros por um escalar k e imprima o resultado na tela. O usuário deve fornecer os valores da matriz e de k.\n"
      ]
    },
    {
      "cell_type": "code",
      "metadata": {
        "id": "sCYqV3Vu1Ylm"
      },
      "source": [
        "#codigo vai aqui\n"
      ],
      "execution_count": null,
      "outputs": []
    },
    {
      "cell_type": "markdown",
      "metadata": {
        "id": "OzIzJ84M1Zws"
      },
      "source": [
        "### Questão 8:\n",
        "Leia uma matriz 20 x 20. Leia também um valor X. O programa deverá fazer uma busca desse valor na matriz e, ao final escrever a localização (linha e coluna) ou uma mensagem de “não encontrado”.\n"
      ]
    },
    {
      "cell_type": "code",
      "metadata": {
        "id": "0thIFpbb1c5D"
      },
      "source": [
        "##codigo vai aqui\n"
      ],
      "execution_count": null,
      "outputs": []
    },
    {
      "cell_type": "markdown",
      "metadata": {
        "id": "68o_kwr-1eGd"
      },
      "source": [
        "### Questão 9:\n",
        "\n",
        "Dada uma matriz 5x5, elabore um algoritmo que imprima:\n",
        "\n",
        "- A diagonal principal\n",
        "\n",
        "- A diagonal secundária\n",
        "\n",
        "- A soma da linha 4\n",
        "- A soma da coluna 2\n",
        "\n",
        "- Tudo, exceto a diagonal principal\n"
      ]
    },
    {
      "cell_type": "code",
      "metadata": {
        "id": "MIlE9sfB1jNL"
      },
      "source": [
        "## o codigo vai aqui\n"
      ],
      "execution_count": null,
      "outputs": []
    },
    {
      "cell_type": "markdown",
      "metadata": {
        "id": "ODjF9wgX1qOi"
      },
      "source": [
        "### Questão 10:\n",
        "\n",
        "Faça um programa para multiplicar duas matrizes com tamanho até 10x10, armazenando o resultado em uma terceira matriz.\n",
        "\n",
        "- O programa deve solicitar ao usuário as duas dimensões das duas matrizes;\n",
        "\n",
        "- O programa deve verificar se as matrizes podem ser multiplicadas e apresentar uma mensagem de erro, caso não seja possível.\n"
      ]
    },
    {
      "cell_type": "code",
      "metadata": {
        "id": "_DPrLvAg1suk"
      },
      "source": [
        "## codigo vai aqui\n"
      ],
      "execution_count": null,
      "outputs": []
    },
    {
      "cell_type": "markdown",
      "metadata": {
        "id": "WWW7T-bV1uIb"
      },
      "source": [
        "### Questão 11:\n",
        "Refaça o programa anterior transformando apenas o código que faz a multiplicação das matrizes em uma função.\n",
        "- A função recebe como parâmetro as três matrizes e as dimensões das duas primeiras matrizes.  O resultado da multiplicação das duas primeiras matrizes deve ser armazenado na terceira matriz.;\n",
        "\n",
        "- A função deve retornar falso se não for possível multiplicar as matrizes, e verdadeiro caso contrário.\n",
        "\n",
        "- A função não deve ler as matrizes, imprimir o resultado, nem a mensagem de erro. Isto deve ser feito na função principal.\n"
      ]
    },
    {
      "cell_type": "code",
      "metadata": {
        "id": "wLZVZh_-12Xf"
      },
      "source": [
        "## o codigo vai aqui"
      ],
      "execution_count": null,
      "outputs": []
    }
  ]
}