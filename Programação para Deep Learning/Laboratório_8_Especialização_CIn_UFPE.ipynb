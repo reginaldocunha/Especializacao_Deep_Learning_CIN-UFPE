{
  "nbformat": 4,
  "nbformat_minor": 0,
  "metadata": {
    "colab": {
      "provenance": []
    },
    "kernelspec": {
      "name": "python3",
      "display_name": "Python 3"
    },
    "language_info": {
      "name": "python"
    }
  },
  "cells": [
    {
      "cell_type": "markdown",
      "metadata": {
        "id": "5b0JgHd19utr"
      },
      "source": [
        "#### Assunto do Laboratório 8:\n",
        "- Dicionários"
      ]
    },
    {
      "cell_type": "markdown",
      "metadata": {
        "id": "S20Kdlr691MV"
      },
      "source": [
        "### Questão 1:\n",
        "\n",
        "Crie uma função que receba como parâmetro um dicionário.\n",
        "Sua função deve imprimir todas as chaves e valores respectivos deste dicionário."
      ]
    },
    {
      "cell_type": "code",
      "metadata": {
        "id": "BwOxhAeg-ACp"
      },
      "source": [
        "#codigo vai aqui"
      ],
      "execution_count": null,
      "outputs": []
    },
    {
      "cell_type": "markdown",
      "metadata": {
        "id": "WMG3Jf7hd-8C"
      },
      "source": [
        "### Questão 2:\n",
        "\n",
        "Crie uma função sem parâmetros. Esta função deve perguntar ao usuário quantos clientes vão ser cadastrados. Deverá ser pedido o nome do cliente e o CNPJ da empresa. Em seguida, sua função deve cadastrá-los em um dicionário, considerando o CNPJ como chave. Retorne o dicionário criado."
      ]
    },
    {
      "cell_type": "code",
      "metadata": {
        "id": "w79xkPy8d0f1"
      },
      "source": [
        "### codigo vai aqui"
      ],
      "execution_count": null,
      "outputs": []
    },
    {
      "cell_type": "markdown",
      "metadata": {
        "id": "bcV9CPLSddH-"
      },
      "source": [
        "### Questão 3:\n",
        "\n",
        "Um dicionário armazena o CPF de clientes como chave, e para cada cliente inserido, armazena uma lista com as datas que houve compra daquele cliente na empresa.\n",
        "\n",
        "Seu programa deve ter 3 opções:\n",
        "\n",
        "1- Inserir nova data de compra para um dado cliente (solicitar como entrada essas duas informações ao usuário);\n",
        "\n",
        "2- Remover alguma data de compra para um dado cliente (solicitar como entrada essas duas informações ao usuário);\n",
        "\n",
        "3- Imprimir todas as datas de compras para um dado cliente (solicitar como entrada essa informação ao usuário);"
      ]
    },
    {
      "cell_type": "code",
      "metadata": {
        "id": "eWqWJUhof8rP"
      },
      "source": [
        "### codigo vai aqui"
      ],
      "execution_count": null,
      "outputs": []
    }
  ]
}