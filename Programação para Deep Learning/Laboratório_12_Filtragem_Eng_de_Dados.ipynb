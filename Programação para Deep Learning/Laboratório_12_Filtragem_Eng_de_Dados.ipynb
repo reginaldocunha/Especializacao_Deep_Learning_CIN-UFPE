{
  "nbformat": 4,
  "nbformat_minor": 0,
  "metadata": {
    "colab": {
      "provenance": []
    },
    "kernelspec": {
      "name": "python3",
      "display_name": "Python 3"
    },
    "language_info": {
      "name": "python"
    }
  },
  "cells": [
    {
      "cell_type": "markdown",
      "metadata": {
        "id": "B17enD2MbYDX"
      },
      "source": [
        "Laboratório 12:\n",
        "\n",
        "- Atualização\n",
        "- União de Dataframes\n",
        "- Consultas"
      ]
    },
    {
      "cell_type": "markdown",
      "metadata": {
        "id": "L3pctAz7bqvX"
      },
      "source": [
        "### Questão 1\n",
        "\n",
        "Quantas avaliações com 2 estrelas foram feitas por usuários que possuem mais de 40 anos?"
      ]
    },
    {
      "cell_type": "code",
      "metadata": {
        "id": "1pDUR1QybW4p"
      },
      "source": [
        "## código vai aqui"
      ],
      "execution_count": null,
      "outputs": []
    },
    {
      "cell_type": "markdown",
      "metadata": {
        "id": "ZNDPJ6pmb8FX"
      },
      "source": [
        "### Questão 2\n",
        "c) De 1998 a 2010, quantas avaliações foram feitas com 5 estrelas por pessoas do sexo feminino?\n"
      ]
    },
    {
      "cell_type": "code",
      "metadata": {
        "id": "PauCXMFScek1"
      },
      "source": [
        "## codigo vai aqui"
      ],
      "execution_count": null,
      "outputs": []
    },
    {
      "cell_type": "markdown",
      "metadata": {
        "id": "RwEI8Q-cgVjA"
      },
      "source": [
        "### Questão 3\n",
        "c) Realize a normalização da coluna de idade da base Usuários. Use a normalização Min-Max entre os valores 0 e 1.\n",
        "\n"
      ]
    },
    {
      "cell_type": "code",
      "metadata": {
        "id": "yY4Y8Ez4gbX-"
      },
      "source": [
        "## codigo vai aqui"
      ],
      "execution_count": null,
      "outputs": []
    },
    {
      "cell_type": "markdown",
      "metadata": {
        "id": "Rf61lBuVgcI-"
      },
      "source": [
        "### Questão 4\n",
        "\n",
        "Realize a normalização da coluna de idade da base Usuários. Use a normalização Min-Max entre os valores 0 e 1.\n"
      ]
    },
    {
      "cell_type": "code",
      "metadata": {
        "id": "UDj_1qq2gcUn"
      },
      "source": [
        "### codigo vai aqui"
      ],
      "execution_count": null,
      "outputs": []
    },
    {
      "cell_type": "markdown",
      "metadata": {
        "id": "71em9sIMgccs"
      },
      "source": [
        "### Questão 5\n",
        "Quantos dados faltantes há nesta base?"
      ]
    },
    {
      "cell_type": "code",
      "metadata": {
        "id": "viJn-YwSgclr"
      },
      "source": [
        "### codigo vai aqui"
      ],
      "execution_count": null,
      "outputs": []
    },
    {
      "cell_type": "markdown",
      "metadata": {
        "id": "CRBAyxgngcsz"
      },
      "source": [
        "### Questão 6\n",
        "Qual a média de avaliações dos usuários por profissão?"
      ]
    },
    {
      "cell_type": "code",
      "metadata": {
        "id": "fcXQ1rEwgc4W"
      },
      "source": [
        "### codigo vai aqui"
      ],
      "execution_count": null,
      "outputs": []
    },
    {
      "cell_type": "markdown",
      "metadata": {
        "id": "dcz86yD0gnVo"
      },
      "source": [
        "### Questão 7\n",
        "Gere um dataframe em que possua apenas os usuários que possuem gênero masculino e trabalham como programadores e que tenham idade acima de 20 anos."
      ]
    },
    {
      "cell_type": "code",
      "metadata": {
        "id": "m_SKf6BsgwdM"
      },
      "source": [
        "### codigo vai aqui"
      ],
      "execution_count": null,
      "outputs": []
    },
    {
      "cell_type": "markdown",
      "metadata": {
        "id": "-595uU2JgxL4"
      },
      "source": [
        "### Questão 8\n",
        "Quantos alunos que são programadores e que são do sexo feminino?"
      ]
    },
    {
      "cell_type": "code",
      "metadata": {
        "id": "W-wFBotng0iP"
      },
      "source": [
        "### codigo vai aqui"
      ],
      "execution_count": null,
      "outputs": []
    }
  ]
}