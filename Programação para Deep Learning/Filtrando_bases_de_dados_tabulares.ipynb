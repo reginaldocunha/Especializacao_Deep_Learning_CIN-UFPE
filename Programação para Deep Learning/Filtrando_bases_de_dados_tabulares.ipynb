{
 "nbformat": 4,
 "nbformat_minor": 0,
 "metadata": {
  "colab": {
   "provenance": []
  },
  "kernelspec": {
   "name": "python3",
   "language": "python",
   "display_name": "Python 3 (ipykernel)"
  },
  "language_info": {
   "name": "python"
  }
 },
 "cells": [
  {
   "cell_type": "code",
   "source": [
    "import pandas as pd"
   ],
   "metadata": {
    "id": "WVWKMU18_L2d",
    "ExecuteTime": {
     "end_time": "2024-01-28T03:35:56.961776Z",
     "start_time": "2024-01-28T03:35:56.689977Z"
    }
   },
   "execution_count": 1,
   "outputs": []
  },
  {
   "cell_type": "code",
   "source": [
    "df = pd.read_csv('/Users/reginaldocunha/Documents/Especialização em Deep Learning/Programação pra Deep Learning/Atividade avaliativa 1/cereal.csv')"
   ],
   "metadata": {
    "id": "qYmDvoPLMYvI",
    "ExecuteTime": {
     "end_time": "2024-01-28T03:38:03.004390Z",
     "start_time": "2024-01-28T03:38:02.997025Z"
    }
   },
   "execution_count": 3,
   "outputs": []
  },
  {
   "cell_type": "code",
   "source": [
    "dados = df.values.tolist()\n",
    "dados"
   ],
   "metadata": {
    "colab": {
     "base_uri": "https://localhost:8080/"
    },
    "id": "1lzxJSqZiqrf",
    "outputId": "8622be57-1d2d-4bc7-c91b-45ab421ea985",
    "ExecuteTime": {
     "end_time": "2024-01-28T03:38:46.119417Z",
     "start_time": "2024-01-28T03:38:46.097889Z"
    }
   },
   "execution_count": 6,
   "outputs": [
    {
     "data": {
      "text/plain": "[['100% Bran',\n  'N',\n  'C',\n  70,\n  4,\n  1,\n  130,\n  10.0,\n  5.0,\n  6,\n  280,\n  25,\n  3,\n  1.0,\n  0.33,\n  '68.402973;;'],\n ['100% Natural Bran',\n  'Q',\n  'C',\n  120,\n  3,\n  5,\n  15,\n  2.0,\n  8.0,\n  8,\n  135,\n  0,\n  3,\n  1.0,\n  1.0,\n  '33.983679;;'],\n ['All-Bran',\n  'K',\n  'C',\n  70,\n  4,\n  1,\n  260,\n  9.0,\n  7.0,\n  5,\n  320,\n  25,\n  3,\n  1.0,\n  0.33,\n  '59.425505;;'],\n ['All-Bran with Extra Fiber',\n  'K',\n  'C',\n  50,\n  4,\n  0,\n  140,\n  14.0,\n  8.0,\n  0,\n  330,\n  25,\n  3,\n  1.0,\n  0.5,\n  '93.704912;;'],\n ['Almond Delight',\n  'R',\n  'C',\n  110,\n  2,\n  2,\n  200,\n  1.0,\n  14.0,\n  8,\n  -1,\n  25,\n  3,\n  1.0,\n  0.75,\n  '34.384843;;'],\n ['Apple Cinnamon Cheerios',\n  'G',\n  'C',\n  110,\n  2,\n  2,\n  180,\n  1.5,\n  10.5,\n  10,\n  70,\n  25,\n  1,\n  1.0,\n  0.75,\n  '29.509541;;'],\n ['Apple Jacks',\n  'K',\n  'C',\n  110,\n  2,\n  0,\n  125,\n  1.0,\n  11.0,\n  14,\n  30,\n  25,\n  2,\n  1.0,\n  1.0,\n  '33.174094;;'],\n ['Basic 4',\n  'G',\n  'C',\n  130,\n  3,\n  2,\n  210,\n  2.0,\n  18.0,\n  8,\n  100,\n  25,\n  3,\n  1.33,\n  0.75,\n  '37.038562;;'],\n ['Bran Chex',\n  'R',\n  'C',\n  90,\n  2,\n  1,\n  200,\n  4.0,\n  15.0,\n  6,\n  125,\n  25,\n  1,\n  1.0,\n  0.67,\n  '49.120253;;'],\n ['Bran Flakes',\n  'P',\n  'C',\n  90,\n  3,\n  0,\n  210,\n  5.0,\n  13.0,\n  5,\n  190,\n  25,\n  3,\n  1.0,\n  0.67,\n  '53.313813;;'],\n [\"Cap'n'Crunch\",\n  'Q',\n  'C',\n  120,\n  1,\n  2,\n  220,\n  0.0,\n  12.0,\n  12,\n  35,\n  25,\n  2,\n  1.0,\n  0.75,\n  '18.042851;;'],\n ['Cheerios',\n  'G',\n  'C',\n  110,\n  6,\n  2,\n  290,\n  2.0,\n  17.0,\n  1,\n  105,\n  25,\n  1,\n  1.0,\n  1.25,\n  '50.764999;;'],\n ['Cinnamon Toast Crunch',\n  'G',\n  'C',\n  120,\n  1,\n  3,\n  210,\n  0.0,\n  13.0,\n  9,\n  45,\n  25,\n  2,\n  1.0,\n  0.75,\n  '19.823573;;'],\n ['Clusters',\n  'G',\n  'C',\n  110,\n  3,\n  2,\n  140,\n  2.0,\n  13.0,\n  7,\n  105,\n  25,\n  3,\n  1.0,\n  0.5,\n  '40.400208;;'],\n ['Cocoa Puffs',\n  'G',\n  'C',\n  110,\n  1,\n  1,\n  180,\n  0.0,\n  12.0,\n  13,\n  55,\n  25,\n  2,\n  1.0,\n  1.0,\n  '22.736446;;'],\n ['Corn Chex',\n  'R',\n  'C',\n  110,\n  2,\n  0,\n  280,\n  0.0,\n  22.0,\n  3,\n  25,\n  25,\n  1,\n  1.0,\n  1.0,\n  '41.445019;;'],\n ['Corn Flakes',\n  'K',\n  'C',\n  100,\n  2,\n  0,\n  290,\n  1.0,\n  21.0,\n  2,\n  35,\n  25,\n  1,\n  1.0,\n  1.0,\n  '45.863324;;'],\n ['Corn Pops',\n  'K',\n  'C',\n  110,\n  1,\n  0,\n  90,\n  1.0,\n  13.0,\n  12,\n  20,\n  25,\n  2,\n  1.0,\n  1.0,\n  '35.782791;;'],\n ['Count Chocula',\n  'G',\n  'C',\n  110,\n  1,\n  1,\n  180,\n  0.0,\n  12.0,\n  13,\n  65,\n  25,\n  2,\n  1.0,\n  1.0,\n  '22.396513;;'],\n [\"Cracklin' Oat Bran\",\n  'K',\n  'C',\n  110,\n  3,\n  3,\n  140,\n  4.0,\n  10.0,\n  7,\n  160,\n  25,\n  3,\n  1.0,\n  0.5,\n  '40.448772;;'],\n ['Cream of Wheat (Quick)',\n  'N',\n  'H',\n  100,\n  3,\n  0,\n  80,\n  1.0,\n  21.0,\n  0,\n  -1,\n  0,\n  2,\n  1.0,\n  1.0,\n  '64.533816;;'],\n ['Crispix',\n  'K',\n  'C',\n  110,\n  2,\n  0,\n  220,\n  1.0,\n  21.0,\n  3,\n  30,\n  25,\n  3,\n  1.0,\n  1.0,\n  '46.895644;;'],\n ['Crispy Wheat & Raisins',\n  'G',\n  'C',\n  100,\n  2,\n  1,\n  140,\n  2.0,\n  11.0,\n  10,\n  120,\n  25,\n  3,\n  1.0,\n  0.75,\n  '36.176196;;'],\n ['Double Chex',\n  'R',\n  'C',\n  100,\n  2,\n  0,\n  190,\n  1.0,\n  18.0,\n  5,\n  80,\n  25,\n  3,\n  1.0,\n  0.75,\n  '44.330856;;'],\n ['Froot Loops',\n  'K',\n  'C',\n  110,\n  2,\n  1,\n  125,\n  1.0,\n  11.0,\n  13,\n  30,\n  25,\n  2,\n  1.0,\n  1.0,\n  '32.207582;;'],\n ['Frosted Flakes',\n  'K',\n  'C',\n  110,\n  1,\n  0,\n  200,\n  1.0,\n  14.0,\n  11,\n  25,\n  25,\n  1,\n  1.0,\n  0.75,\n  '31.435973;;'],\n ['Frosted Mini-Wheats',\n  'K',\n  'C',\n  100,\n  3,\n  0,\n  0,\n  3.0,\n  14.0,\n  7,\n  100,\n  25,\n  2,\n  1.0,\n  0.8,\n  '58.345141;;'],\n ['Fruit & Fibre Dates; Walnuts; and Oats',\n  'P',\n  'C',\n  120,\n  3,\n  2,\n  160,\n  5.0,\n  12.0,\n  10,\n  200,\n  25,\n  3,\n  1.25,\n  0.67,\n  '40.917047'],\n ['Fruitful Bran',\n  'K',\n  'C',\n  120,\n  3,\n  0,\n  240,\n  5.0,\n  14.0,\n  12,\n  190,\n  25,\n  3,\n  1.33,\n  0.67,\n  '41.015492;;'],\n ['Fruity Pebbles',\n  'P',\n  'C',\n  110,\n  1,\n  1,\n  135,\n  0.0,\n  13.0,\n  12,\n  25,\n  25,\n  2,\n  1.0,\n  0.75,\n  '28.025765;;'],\n ['Golden Crisp',\n  'P',\n  'C',\n  100,\n  2,\n  0,\n  45,\n  0.0,\n  11.0,\n  15,\n  40,\n  25,\n  1,\n  1.0,\n  0.88,\n  '35.252444;;'],\n ['Golden Grahams',\n  'G',\n  'C',\n  110,\n  1,\n  1,\n  280,\n  0.0,\n  15.0,\n  9,\n  45,\n  25,\n  2,\n  1.0,\n  0.75,\n  '23.804043;;'],\n ['Grape Nuts Flakes',\n  'P',\n  'C',\n  100,\n  3,\n  1,\n  140,\n  3.0,\n  15.0,\n  5,\n  85,\n  25,\n  3,\n  1.0,\n  0.88,\n  '52.076897;;'],\n ['Grape-Nuts',\n  'P',\n  'C',\n  110,\n  3,\n  0,\n  170,\n  3.0,\n  17.0,\n  3,\n  90,\n  25,\n  3,\n  1.0,\n  0.25,\n  '53.371007;;'],\n ['Great Grains Pecan',\n  'P',\n  'C',\n  120,\n  3,\n  3,\n  75,\n  3.0,\n  13.0,\n  4,\n  100,\n  25,\n  3,\n  1.0,\n  0.33,\n  '45.811716;;'],\n ['Honey Graham Ohs',\n  'Q',\n  'C',\n  120,\n  1,\n  2,\n  220,\n  1.0,\n  12.0,\n  11,\n  45,\n  25,\n  2,\n  1.0,\n  1.0,\n  '21.871292;;'],\n ['Honey Nut Cheerios',\n  'G',\n  'C',\n  110,\n  3,\n  1,\n  250,\n  1.5,\n  11.5,\n  10,\n  90,\n  25,\n  1,\n  1.0,\n  0.75,\n  '31.072217;;'],\n ['Honey-comb',\n  'P',\n  'C',\n  110,\n  1,\n  0,\n  180,\n  0.0,\n  14.0,\n  11,\n  35,\n  25,\n  1,\n  1.0,\n  1.33,\n  '28.742414;;'],\n ['Just Right Crunchy  Nuggets',\n  'K',\n  'C',\n  110,\n  2,\n  1,\n  170,\n  1.0,\n  17.0,\n  6,\n  60,\n  100,\n  3,\n  1.0,\n  1.0,\n  '36.523683;;'],\n ['Just Right Fruit & Nut',\n  'K',\n  'C',\n  140,\n  3,\n  1,\n  170,\n  2.0,\n  20.0,\n  9,\n  95,\n  100,\n  3,\n  1.3,\n  0.75,\n  '36.471512;;'],\n ['Kix',\n  'G',\n  'C',\n  110,\n  2,\n  1,\n  260,\n  0.0,\n  21.0,\n  3,\n  40,\n  25,\n  2,\n  1.0,\n  1.5,\n  '39.241114;;'],\n ['Life',\n  'Q',\n  'C',\n  100,\n  4,\n  2,\n  150,\n  2.0,\n  12.0,\n  6,\n  95,\n  25,\n  2,\n  1.0,\n  0.67,\n  '45.328074;;'],\n ['Lucky Charms',\n  'G',\n  'C',\n  110,\n  2,\n  1,\n  180,\n  0.0,\n  12.0,\n  12,\n  55,\n  25,\n  2,\n  1.0,\n  1.0,\n  '26.734515;;'],\n ['Maypo',\n  'A',\n  'H',\n  100,\n  4,\n  1,\n  0,\n  0.0,\n  16.0,\n  3,\n  95,\n  25,\n  2,\n  1.0,\n  1.0,\n  '54.850917;;'],\n ['Muesli Raisins; Dates; & Almonds',\n  'R',\n  'C',\n  150,\n  4,\n  3,\n  95,\n  3.0,\n  16.0,\n  11,\n  170,\n  25,\n  3,\n  1.0,\n  1.0,\n  '37.136863'],\n ['Muesli Raisins; Peaches; & Pecans',\n  'R',\n  'C',\n  150,\n  4,\n  3,\n  150,\n  3.0,\n  16.0,\n  11,\n  170,\n  25,\n  3,\n  1.0,\n  1.0,\n  '34.139765'],\n ['Mueslix Crispy Blend',\n  'K',\n  'C',\n  160,\n  3,\n  2,\n  150,\n  3.0,\n  17.0,\n  13,\n  160,\n  25,\n  3,\n  1.5,\n  0.67,\n  '30.313351;;'],\n ['Multi-Grain Cheerios',\n  'G',\n  'C',\n  100,\n  2,\n  1,\n  220,\n  2.0,\n  15.0,\n  6,\n  90,\n  25,\n  1,\n  1.0,\n  1.0,\n  '40.105965;;'],\n ['Nut&Honey Crunch',\n  'K',\n  'C',\n  120,\n  2,\n  1,\n  190,\n  0.0,\n  15.0,\n  9,\n  40,\n  25,\n  2,\n  1.0,\n  0.67,\n  '29.924285;;'],\n ['Nutri-Grain Almond-Raisin',\n  'K',\n  'C',\n  140,\n  3,\n  2,\n  220,\n  3.0,\n  21.0,\n  7,\n  130,\n  25,\n  3,\n  1.33,\n  0.67,\n  '40.692320;;'],\n ['Nutri-grain Wheat',\n  'K',\n  'C',\n  90,\n  3,\n  0,\n  170,\n  3.0,\n  18.0,\n  2,\n  90,\n  25,\n  3,\n  1.0,\n  1.0,\n  '59.642837;;'],\n ['Oatmeal Raisin Crisp',\n  'G',\n  'C',\n  130,\n  3,\n  2,\n  170,\n  1.5,\n  13.5,\n  10,\n  120,\n  25,\n  3,\n  1.25,\n  0.5,\n  '30.450843;;'],\n ['Post Nat. Raisin Bran',\n  'P',\n  'C',\n  120,\n  3,\n  1,\n  200,\n  6.0,\n  11.0,\n  14,\n  260,\n  25,\n  3,\n  1.33,\n  0.67,\n  '37.840594;;'],\n ['Product 19',\n  'K',\n  'C',\n  100,\n  3,\n  0,\n  320,\n  1.0,\n  20.0,\n  3,\n  45,\n  100,\n  3,\n  1.0,\n  1.0,\n  '41.503540;;'],\n ['Puffed Rice',\n  'Q',\n  'C',\n  50,\n  1,\n  0,\n  0,\n  0.0,\n  13.0,\n  0,\n  15,\n  0,\n  3,\n  0.5,\n  1.0,\n  '60.756112;;'],\n ['Puffed Wheat',\n  'Q',\n  'C',\n  50,\n  2,\n  0,\n  0,\n  1.0,\n  10.0,\n  0,\n  50,\n  0,\n  3,\n  0.5,\n  1.0,\n  '63.005645;;'],\n ['Quaker Oat Squares',\n  'Q',\n  'C',\n  100,\n  4,\n  1,\n  135,\n  2.0,\n  14.0,\n  6,\n  110,\n  25,\n  3,\n  1.0,\n  0.5,\n  '49.511874;;'],\n ['Quaker Oatmeal',\n  'Q',\n  'H',\n  100,\n  5,\n  2,\n  0,\n  2.7,\n  -1.0,\n  -1,\n  110,\n  0,\n  1,\n  1.0,\n  0.67,\n  '50.828392;;'],\n ['Raisin Bran',\n  'K',\n  'C',\n  120,\n  3,\n  1,\n  210,\n  5.0,\n  14.0,\n  12,\n  240,\n  25,\n  2,\n  1.33,\n  0.75,\n  '39.259197;;'],\n ['Raisin Nut Bran',\n  'G',\n  'C',\n  100,\n  3,\n  2,\n  140,\n  2.5,\n  10.5,\n  8,\n  140,\n  25,\n  3,\n  1.0,\n  0.5,\n  '39.703400;;'],\n ['Raisin Squares',\n  'K',\n  'C',\n  90,\n  2,\n  0,\n  0,\n  2.0,\n  15.0,\n  6,\n  110,\n  25,\n  3,\n  1.0,\n  0.5,\n  '55.333142;;'],\n ['Rice Chex',\n  'R',\n  'C',\n  110,\n  1,\n  0,\n  240,\n  0.0,\n  23.0,\n  2,\n  30,\n  25,\n  1,\n  1.0,\n  1.13,\n  '41.998933;;'],\n ['Rice Krispies',\n  'K',\n  'C',\n  110,\n  2,\n  0,\n  290,\n  0.0,\n  22.0,\n  3,\n  35,\n  25,\n  1,\n  1.0,\n  1.0,\n  '40.560159;;'],\n ['Shredded Wheat',\n  'N',\n  'C',\n  80,\n  2,\n  0,\n  0,\n  3.0,\n  16.0,\n  0,\n  95,\n  0,\n  1,\n  0.83,\n  1.0,\n  '68.235885;;'],\n [\"Shredded Wheat 'n'Bran\",\n  'N',\n  'C',\n  90,\n  3,\n  0,\n  0,\n  4.0,\n  19.0,\n  0,\n  140,\n  0,\n  1,\n  1.0,\n  0.67,\n  '74.472949;;'],\n ['Shredded Wheat spoon size',\n  'N',\n  'C',\n  90,\n  3,\n  0,\n  0,\n  3.0,\n  20.0,\n  0,\n  120,\n  0,\n  1,\n  1.0,\n  0.67,\n  '72.801787;;'],\n ['Smacks',\n  'K',\n  'C',\n  110,\n  2,\n  1,\n  70,\n  1.0,\n  9.0,\n  15,\n  40,\n  25,\n  2,\n  1.0,\n  0.75,\n  '31.230054;;'],\n ['Special K',\n  'K',\n  'C',\n  110,\n  6,\n  0,\n  230,\n  1.0,\n  16.0,\n  3,\n  55,\n  25,\n  1,\n  1.0,\n  1.0,\n  '53.131324;;'],\n ['Strawberry Fruit Wheats',\n  'N',\n  'C',\n  90,\n  2,\n  0,\n  15,\n  3.0,\n  15.0,\n  5,\n  90,\n  25,\n  2,\n  1.0,\n  1.0,\n  '59.363993;;'],\n ['Total Corn Flakes',\n  'G',\n  'C',\n  110,\n  2,\n  1,\n  200,\n  0.0,\n  21.0,\n  3,\n  35,\n  100,\n  3,\n  1.0,\n  1.0,\n  '38.839746;;'],\n ['Total Raisin Bran',\n  'G',\n  'C',\n  140,\n  3,\n  1,\n  190,\n  4.0,\n  15.0,\n  14,\n  230,\n  100,\n  3,\n  1.5,\n  1.0,\n  '28.592785;;'],\n ['Total Whole Grain',\n  'G',\n  'C',\n  100,\n  3,\n  1,\n  200,\n  3.0,\n  16.0,\n  3,\n  110,\n  100,\n  3,\n  1.0,\n  1.0,\n  '46.658844;;'],\n ['Triples',\n  'G',\n  'C',\n  110,\n  2,\n  1,\n  250,\n  0.0,\n  21.0,\n  3,\n  60,\n  25,\n  3,\n  1.0,\n  0.75,\n  '39.106174;;'],\n ['Trix',\n  'G',\n  'C',\n  110,\n  1,\n  1,\n  140,\n  0.0,\n  13.0,\n  12,\n  25,\n  25,\n  2,\n  1.0,\n  1.0,\n  '27.753301;;'],\n ['Wheat Chex',\n  'R',\n  'C',\n  100,\n  3,\n  1,\n  230,\n  3.0,\n  17.0,\n  3,\n  115,\n  25,\n  1,\n  1.0,\n  0.67,\n  '49.787445;;'],\n ['Wheaties',\n  'G',\n  'C',\n  100,\n  3,\n  1,\n  200,\n  3.0,\n  17.0,\n  3,\n  110,\n  25,\n  1,\n  1.0,\n  1.0,\n  '51.592193;;'],\n ['Wheaties Honey Gold',\n  'G',\n  'C',\n  110,\n  2,\n  1,\n  200,\n  1.0,\n  16.0,\n  8,\n  60,\n  25,\n  1,\n  1.0,\n  0.75,\n  '36.187559;;']]"
     },
     "execution_count": 6,
     "metadata": {},
     "output_type": "execute_result"
    }
   ]
  },
  {
   "cell_type": "markdown",
   "source": [
    "## Questão 1\n",
    "Substitua na coluna \"mfr\"\n",
    "['A', 'G', 'K', 'N', 'P', 'Q', 'R', 'H', 'C'],\n",
    "por: ['AHFP', 'GM', 'Kelloggs', 'Nabisco', 'Post', 'Quaker', 'Purina', 'Hot', 'Cold'])\n"
   ],
   "metadata": {
    "id": "yqycDmk8lOeV"
   }
  },
  {
   "cell_type": "code",
   "source": [
    "for i in range(len(dados)):\n",
    "  if dados[i][1] == 'A':\n",
    "    dados[i][1] = 'AHFP'\n",
    "  elif dados[i][1] == 'G':\n",
    "    dados[i][1] = 'GM'\n",
    "  elif dados[i][1] == 'K':\n",
    "    dados[i][1] = 'Kelloggs'\n",
    "  elif dados[i][1] == 'N':\n",
    "    dados[i][1] = 'Nabisco'\n",
    "  elif dados[i][1] == 'P':\n",
    "    dados[i][1] = 'Post'\n",
    "  elif dados[i][1] == 'Q':\n",
    "    dados[i][1] = 'Quaker'\n",
    "  elif dados[i][1] == 'R':\n",
    "    dados[i][1] = 'Purina'\n",
    "  elif dados[i][1] == 'H':\n",
    "    dados[i][1] = 'Hot'\n",
    "  else:\n",
    "    dados[i][1] = 'Cold'\n",
    "\n",
    "dados[0][1]"
   ],
   "metadata": {
    "colab": {
     "base_uri": "https://localhost:8080/",
     "height": 35
    },
    "id": "utAwj05OfPKE",
    "outputId": "0d3f8f95-ab2c-46fd-d275-451fa75086d2",
    "ExecuteTime": {
     "end_time": "2024-01-28T03:38:54.212172Z",
     "start_time": "2024-01-28T03:38:54.207408Z"
    }
   },
   "execution_count": 7,
   "outputs": [
    {
     "data": {
      "text/plain": "'Nabisco'"
     },
     "execution_count": 7,
     "metadata": {},
     "output_type": "execute_result"
    }
   ]
  },
  {
   "cell_type": "markdown",
   "source": [
    "## Questão 2\n",
    "Na coluna de \"rating\", há um probleminha nos valores. Conserte. Dica: veja se o tipo está correto, e se tem mais informações do que deveria na string.\n"
   ],
   "metadata": {
    "id": "NWmTSGb7lZNQ"
   }
  },
  {
   "cell_type": "code",
   "source": [
    "for i in range(len(dados)):\n",
    "  valor = dados[i][15]\n",
    "  dados[i][15] = float(valor.replace(';;', ''))\n",
    "\n",
    "dados[0][15]"
   ],
   "metadata": {
    "colab": {
     "base_uri": "https://localhost:8080/"
    },
    "id": "ZJBmpI7Yi6SW",
    "outputId": "74ec7923-689e-4965-c5ef-1194467a153f",
    "ExecuteTime": {
     "end_time": "2024-01-28T03:38:56.892308Z",
     "start_time": "2024-01-28T03:38:56.875379Z"
    }
   },
   "execution_count": 8,
   "outputs": [
    {
     "data": {
      "text/plain": "68.402973"
     },
     "execution_count": 8,
     "metadata": {},
     "output_type": "execute_result"
    }
   ]
  },
  {
   "cell_type": "markdown",
   "source": [
    "## Questão 3\n",
    "Qual a porcentagem de cereais quentes e cereais frios?\n"
   ],
   "metadata": {
    "id": "bUiooT5VmDGk"
   }
  },
  {
   "cell_type": "code",
   "source": [
    "cold = 0\n",
    "hot = 0\n",
    "\n",
    "for i in range(len(dados)):\n",
    "  valor = dados[i][2]\n",
    "  if valor == 'C':\n",
    "    cold += 1\n",
    "  else:\n",
    "    hot += 1\n",
    "\n",
    "Percent_hot = (hot / (hot + cold))*100\n",
    "Percent_cold = (cold / (hot + cold))*100\n",
    "\n",
    "print('A quantidade de Cereais quentes é: ', hot, 'e seu percentual é: ', Percent_hot, '%')\n",
    "print('A quantidade de Cereais frios é: ', cold, 'e seu percentual é: ', Percent_cold, '%')\n"
   ],
   "metadata": {
    "colab": {
     "base_uri": "https://localhost:8080/"
    },
    "id": "G7TUXxGNk-Kt",
    "outputId": "a72cef42-ab74-4d7b-a19f-27029bf5f932",
    "ExecuteTime": {
     "end_time": "2024-01-28T03:39:07.414422Z",
     "start_time": "2024-01-28T03:39:07.409257Z"
    }
   },
   "execution_count": 9,
   "outputs": [
    {
     "name": "stdout",
     "output_type": "stream",
     "text": [
      "A quantidade de Cereais quentes é:  3 e seu percentual é:  3.896103896103896 %\n",
      "A quantidade de Cereais frios é:  74 e seu percentual é:  96.1038961038961 %\n"
     ]
    }
   ]
  },
  {
   "cell_type": "markdown",
   "source": [
    "## Questão 4\n",
    "Quais os cereais que foram melhor avaliados (>70)?"
   ],
   "metadata": {
    "id": "HCCNAFrepa2w"
   }
  },
  {
   "cell_type": "code",
   "source": [
    "melhor_avaliados = []\n",
    "\n",
    "for i in range(len(dados)):\n",
    "  valor = dados[i][15]\n",
    "  nome = dados[i][0]\n",
    "  if valor > 70:\n",
    "    melhor_avaliados.append(nome)\n",
    "\n",
    "melhor_avaliados\n"
   ],
   "metadata": {
    "colab": {
     "base_uri": "https://localhost:8080/"
    },
    "id": "59FC7YG5nqGQ",
    "outputId": "3ae4de71-98e8-4794-9f92-ae5385aab845",
    "ExecuteTime": {
     "end_time": "2024-01-28T03:39:12.089300Z",
     "start_time": "2024-01-28T03:39:12.084246Z"
    }
   },
   "execution_count": 10,
   "outputs": [
    {
     "data": {
      "text/plain": "['All-Bran with Extra Fiber',\n \"Shredded Wheat 'n'Bran\",\n 'Shredded Wheat spoon size']"
     },
     "execution_count": 10,
     "metadata": {},
     "output_type": "execute_result"
    }
   ]
  },
  {
   "cell_type": "markdown",
   "source": [
    "## Questão 5\n",
    "Quais os cereais que possuem mais do que (incluído) 2 em fibra, possui vitamina e é servido quente?"
   ],
   "metadata": {
    "id": "_hrP9RaXsHr4"
   }
  },
  {
   "cell_type": "code",
   "source": [
    "selecionados = []\n",
    "\n",
    "for i in range(len(dados)):\n",
    "  nome = dados[i][0]\n",
    "  temperatura = dados[i][2]\n",
    "  fibra = dados[i][7]\n",
    "  vitamina = dados[i][11]\n",
    "\n",
    "  if fibra > 2 and vitamina > 0 and temperatura == 'H':\n",
    "    selecionados.append(nome)\n",
    "\n",
    "selecionados\n"
   ],
   "metadata": {
    "colab": {
     "base_uri": "https://localhost:8080/"
    },
    "id": "uElRcNPJr6ek",
    "outputId": "bc6cf155-104b-4ad3-ab01-f40e39f8cf24",
    "ExecuteTime": {
     "end_time": "2024-01-28T03:39:16.026838Z",
     "start_time": "2024-01-28T03:39:16.024067Z"
    }
   },
   "execution_count": 11,
   "outputs": [
    {
     "data": {
      "text/plain": "[]"
     },
     "execution_count": 11,
     "metadata": {},
     "output_type": "execute_result"
    }
   ]
  },
  {
   "cell_type": "markdown",
   "source": [
    "## Questão 6\n",
    "Verifique se existe uma correlação:\n",
    "\n",
    "\n"
   ],
   "metadata": {
    "id": "Sws4iP0HWFyw"
   }
  },
  {
   "cell_type": "markdown",
   "source": [
    "#### Definir função"
   ],
   "metadata": {
    "id": "3l6kPpol6sxl"
   }
  },
  {
   "cell_type": "code",
   "source": [
    "def calcular_correlacao(dados, coluna_x, coluna_y):\n",
    "    soma_x = 0\n",
    "    soma_y = 0\n",
    "    cont = 0\n",
    "\n",
    "    while cont < len(dados):\n",
    "        soma_x += dados[cont][coluna_x]\n",
    "        soma_y += dados[cont][coluna_y]\n",
    "        cont += 1\n",
    "\n",
    "    media_x = soma_x / len(dados)\n",
    "    media_y = soma_y / len(dados)\n",
    "    dividendo = 0\n",
    "    divisor_x = 0\n",
    "    divisor_y = 0\n",
    "\n",
    "    for j in range(len(dados)):\n",
    "        xj = dados[j][coluna_x]\n",
    "        yj = dados[j][coluna_y]\n",
    "        dividendo += (xj - media_x) * (yj - media_y)\n",
    "        divisor_x += ((xj - media_x)**2)\n",
    "        divisor_y += ((yj - media_y)**2)\n",
    "\n",
    "    correlacao = dividendo / ((divisor_x * divisor_y)**0.5)\n",
    "    return correlacao\n",
    "\n",
    "def interpretar_correlacao(correlacao):\n",
    "    if correlacao < 0 and correlacao >= -0.3:\n",
    "        return 'Logo, a correlação é negativa e desprezível.'\n",
    "    elif correlacao < -0.3 and correlacao >= -0.5:\n",
    "        return 'Logo, a correlação é negativa e fraca.'\n",
    "    elif correlacao < -0.5 and correlacao >= -0.7:\n",
    "        return 'Logo, a correlação é negativa e moderada.'\n",
    "    elif correlacao < -0.7 and correlacao >= -0.9:\n",
    "        return 'Logo, a correlação é negativa e forte.'\n",
    "    elif correlacao < -0.9 and correlacao >= -1:\n",
    "        return 'Logo, a correlação é negativa e muito forte.'\n",
    "    elif correlacao > 0 and correlacao <= 0.3:\n",
    "        return 'Logo, a correlação é positiva e desprezível.'\n",
    "    elif correlacao > 0.3 and correlacao <= 0.5:\n",
    "        return 'Logo, a correlação é positiva e fraca.'\n",
    "    elif correlacao > 0.5 and correlacao <= 0.7:\n",
    "        return 'Logo, a correlação é positiva e moderada.'\n",
    "    elif correlacao > 0.7 and correlacao <= 0.9:\n",
    "        return 'Logo, a correlação é positiva e forte.'\n",
    "    else:\n",
    "        return 'Logo, a correlação é positiva e muito forte.'\n"
   ],
   "metadata": {
    "id": "7RRtd05O6q2U",
    "ExecuteTime": {
     "end_time": "2024-01-28T03:39:23.179308Z",
     "start_time": "2024-01-28T03:39:23.174261Z"
    }
   },
   "execution_count": 12,
   "outputs": []
  },
  {
   "cell_type": "markdown",
   "source": [
    "#### a)entre a coluna de fibras e carboidratos"
   ],
   "metadata": {
    "id": "pZkFJ04P3HDs"
   }
  },
  {
   "cell_type": "code",
   "source": [
    "coluna_x = 7\n",
    "coluna_y = 8\n",
    "\n",
    "correlacao_resultado = calcular_correlacao(dados, coluna_x, coluna_y)\n",
    "interpretacao_resultado = interpretar_correlacao(correlacao_resultado)\n",
    "\n",
    "print(f'A correlação entre as colunas {coluna_x} e {coluna_y} é: {correlacao_resultado}')\n",
    "print(interpretacao_resultado)"
   ],
   "metadata": {
    "colab": {
     "base_uri": "https://localhost:8080/"
    },
    "id": "F2w9zFzE7F2G",
    "outputId": "7bbee010-cc36-457a-8afc-b050d4fd7102",
    "ExecuteTime": {
     "end_time": "2024-01-28T03:40:48.400147Z",
     "start_time": "2024-01-28T03:40:48.395825Z"
    }
   },
   "execution_count": 14,
   "outputs": [
    {
     "name": "stdout",
     "output_type": "stream",
     "text": [
      "A correlação entre as colunas 7 e 8 é: -0.3560827401234511\n",
      "Logo, a correlação é negativa e fraca.\n"
     ]
    }
   ]
  },
  {
   "cell_type": "markdown",
   "source": [
    "#### b) entre a coluna de calorias e carboidratos"
   ],
   "metadata": {
    "id": "OLUxGZMejZcE"
   }
  },
  {
   "cell_type": "code",
   "source": [
    "coluna_x = 3\n",
    "coluna_y = 8\n",
    "\n",
    "correlacao_resultado = calcular_correlacao(dados, coluna_x, coluna_y)\n",
    "interpretacao_resultado = interpretar_correlacao(correlacao_resultado)\n",
    "\n",
    "print(f'A correlação entre as colunas {coluna_x} e {coluna_y} é: {correlacao_resultado}')\n",
    "print(interpretacao_resultado)"
   ],
   "metadata": {
    "colab": {
     "base_uri": "https://localhost:8080/"
    },
    "id": "Un1e0pVt7NMJ",
    "outputId": "af5492bb-d7f6-48e7-fee2-97fc8c8cbe52",
    "ExecuteTime": {
     "end_time": "2024-01-28T03:40:53.357923Z",
     "start_time": "2024-01-28T03:40:53.348891Z"
    }
   },
   "execution_count": 15,
   "outputs": [
    {
     "name": "stdout",
     "output_type": "stream",
     "text": [
      "A correlação entre as colunas 3 e 8 é: 0.25068091469892767\n",
      "Logo, a correlação é positiva e desprezível.\n"
     ]
    }
   ]
  },
  {
   "cell_type": "markdown",
   "source": [
    "#### c) entre a coluna de proteína e rating."
   ],
   "metadata": {
    "id": "iHdeB97qjb9S"
   }
  },
  {
   "cell_type": "code",
   "source": [
    "coluna_x = 4\n",
    "coluna_y = 15\n",
    "\n",
    "correlacao_resultado = calcular_correlacao(dados, coluna_x, coluna_y)\n",
    "interpretacao_resultado = interpretar_correlacao(correlacao_resultado)\n",
    "\n",
    "print(f'A correlação entre as colunas {coluna_x} e {coluna_y} é: {correlacao_resultado}')\n",
    "print(interpretacao_resultado)"
   ],
   "metadata": {
    "colab": {
     "base_uri": "https://localhost:8080/"
    },
    "id": "IaLQp96V7XCc",
    "outputId": "6641cfee-738a-4ac0-e8d2-2f1a4fa053a3",
    "ExecuteTime": {
     "end_time": "2024-01-28T03:40:57.828627Z",
     "start_time": "2024-01-28T03:40:57.819919Z"
    }
   },
   "execution_count": 16,
   "outputs": [
    {
     "name": "stdout",
     "output_type": "stream",
     "text": [
      "A correlação entre as colunas 4 e 15 é: 0.4706184645492595\n",
      "Logo, a correlação é positiva e fraca.\n"
     ]
    }
   ]
  },
  {
   "cell_type": "markdown",
   "source": [
    "## Questão 7\n",
    "Ordene os cereais por rating.\n",
    "\n",
    "#### criando uma nova lista de listas apenas com o nome e o rating"
   ],
   "metadata": {
    "id": "fDOITOs7_O-m"
   }
  },
  {
   "cell_type": "code",
   "source": [
    "indices_colunas_desejadas = [0, 15]\n",
    "dados_2 = [[linha[i] for i in indices_colunas_desejadas] for linha in dados]\n",
    "dados_2"
   ],
   "metadata": {
    "colab": {
     "base_uri": "https://localhost:8080/"
    },
    "id": "hZ829LPoEBZx",
    "outputId": "9823de24-477f-4a4d-cc7a-f71293ec5499",
    "ExecuteTime": {
     "end_time": "2024-01-28T03:41:13.913575Z",
     "start_time": "2024-01-28T03:41:13.911248Z"
    }
   },
   "execution_count": 17,
   "outputs": [
    {
     "data": {
      "text/plain": "[['100% Bran', 68.402973],\n ['100% Natural Bran', 33.983679],\n ['All-Bran', 59.425505],\n ['All-Bran with Extra Fiber', 93.704912],\n ['Almond Delight', 34.384843],\n ['Apple Cinnamon Cheerios', 29.509541],\n ['Apple Jacks', 33.174094],\n ['Basic 4', 37.038562],\n ['Bran Chex', 49.120253],\n ['Bran Flakes', 53.313813],\n [\"Cap'n'Crunch\", 18.042851],\n ['Cheerios', 50.764999],\n ['Cinnamon Toast Crunch', 19.823573],\n ['Clusters', 40.400208],\n ['Cocoa Puffs', 22.736446],\n ['Corn Chex', 41.445019],\n ['Corn Flakes', 45.863324],\n ['Corn Pops', 35.782791],\n ['Count Chocula', 22.396513],\n [\"Cracklin' Oat Bran\", 40.448772],\n ['Cream of Wheat (Quick)', 64.533816],\n ['Crispix', 46.895644],\n ['Crispy Wheat & Raisins', 36.176196],\n ['Double Chex', 44.330856],\n ['Froot Loops', 32.207582],\n ['Frosted Flakes', 31.435973],\n ['Frosted Mini-Wheats', 58.345141],\n ['Fruit & Fibre Dates; Walnuts; and Oats', 40.917047],\n ['Fruitful Bran', 41.015492],\n ['Fruity Pebbles', 28.025765],\n ['Golden Crisp', 35.252444],\n ['Golden Grahams', 23.804043],\n ['Grape Nuts Flakes', 52.076897],\n ['Grape-Nuts', 53.371007],\n ['Great Grains Pecan', 45.811716],\n ['Honey Graham Ohs', 21.871292],\n ['Honey Nut Cheerios', 31.072217],\n ['Honey-comb', 28.742414],\n ['Just Right Crunchy  Nuggets', 36.523683],\n ['Just Right Fruit & Nut', 36.471512],\n ['Kix', 39.241114],\n ['Life', 45.328074],\n ['Lucky Charms', 26.734515],\n ['Maypo', 54.850917],\n ['Muesli Raisins; Dates; & Almonds', 37.136863],\n ['Muesli Raisins; Peaches; & Pecans', 34.139765],\n ['Mueslix Crispy Blend', 30.313351],\n ['Multi-Grain Cheerios', 40.105965],\n ['Nut&Honey Crunch', 29.924285],\n ['Nutri-Grain Almond-Raisin', 40.69232],\n ['Nutri-grain Wheat', 59.642837],\n ['Oatmeal Raisin Crisp', 30.450843],\n ['Post Nat. Raisin Bran', 37.840594],\n ['Product 19', 41.50354],\n ['Puffed Rice', 60.756112],\n ['Puffed Wheat', 63.005645],\n ['Quaker Oat Squares', 49.511874],\n ['Quaker Oatmeal', 50.828392],\n ['Raisin Bran', 39.259197],\n ['Raisin Nut Bran', 39.7034],\n ['Raisin Squares', 55.333142],\n ['Rice Chex', 41.998933],\n ['Rice Krispies', 40.560159],\n ['Shredded Wheat', 68.235885],\n [\"Shredded Wheat 'n'Bran\", 74.472949],\n ['Shredded Wheat spoon size', 72.801787],\n ['Smacks', 31.230054],\n ['Special K', 53.131324],\n ['Strawberry Fruit Wheats', 59.363993],\n ['Total Corn Flakes', 38.839746],\n ['Total Raisin Bran', 28.592785],\n ['Total Whole Grain', 46.658844],\n ['Triples', 39.106174],\n ['Trix', 27.753301],\n ['Wheat Chex', 49.787445],\n ['Wheaties', 51.592193],\n ['Wheaties Honey Gold', 36.187559]]"
     },
     "execution_count": 17,
     "metadata": {},
     "output_type": "execute_result"
    }
   ]
  },
  {
   "cell_type": "markdown",
   "source": [
    "#### Ordenando os dados de forma decrescente com itemgetter e sorted"
   ],
   "metadata": {
    "id": "hPLm1PvQGVX0"
   }
  },
  {
   "cell_type": "code",
   "source": [
    "from operator import itemgetter\n",
    "get_n = itemgetter(1)\n",
    "\n",
    "dados_ordenados = sorted(dados_2, key=get_n, reverse=True)\n",
    "\n",
    "dados_ordenados"
   ],
   "metadata": {
    "colab": {
     "base_uri": "https://localhost:8080/"
    },
    "id": "cRCdn7X0_KMN",
    "outputId": "6bf899a1-70bd-422e-9cfa-171f75ab8ed3",
    "ExecuteTime": {
     "end_time": "2024-01-28T03:41:16.491073Z",
     "start_time": "2024-01-28T03:41:16.488006Z"
    }
   },
   "execution_count": 18,
   "outputs": [
    {
     "data": {
      "text/plain": "[['All-Bran with Extra Fiber', 93.704912],\n [\"Shredded Wheat 'n'Bran\", 74.472949],\n ['Shredded Wheat spoon size', 72.801787],\n ['100% Bran', 68.402973],\n ['Shredded Wheat', 68.235885],\n ['Cream of Wheat (Quick)', 64.533816],\n ['Puffed Wheat', 63.005645],\n ['Puffed Rice', 60.756112],\n ['Nutri-grain Wheat', 59.642837],\n ['All-Bran', 59.425505],\n ['Strawberry Fruit Wheats', 59.363993],\n ['Frosted Mini-Wheats', 58.345141],\n ['Raisin Squares', 55.333142],\n ['Maypo', 54.850917],\n ['Grape-Nuts', 53.371007],\n ['Bran Flakes', 53.313813],\n ['Special K', 53.131324],\n ['Grape Nuts Flakes', 52.076897],\n ['Wheaties', 51.592193],\n ['Quaker Oatmeal', 50.828392],\n ['Cheerios', 50.764999],\n ['Wheat Chex', 49.787445],\n ['Quaker Oat Squares', 49.511874],\n ['Bran Chex', 49.120253],\n ['Crispix', 46.895644],\n ['Total Whole Grain', 46.658844],\n ['Corn Flakes', 45.863324],\n ['Great Grains Pecan', 45.811716],\n ['Life', 45.328074],\n ['Double Chex', 44.330856],\n ['Rice Chex', 41.998933],\n ['Product 19', 41.50354],\n ['Corn Chex', 41.445019],\n ['Fruitful Bran', 41.015492],\n ['Fruit & Fibre Dates; Walnuts; and Oats', 40.917047],\n ['Nutri-Grain Almond-Raisin', 40.69232],\n ['Rice Krispies', 40.560159],\n [\"Cracklin' Oat Bran\", 40.448772],\n ['Clusters', 40.400208],\n ['Multi-Grain Cheerios', 40.105965],\n ['Raisin Nut Bran', 39.7034],\n ['Raisin Bran', 39.259197],\n ['Kix', 39.241114],\n ['Triples', 39.106174],\n ['Total Corn Flakes', 38.839746],\n ['Post Nat. Raisin Bran', 37.840594],\n ['Muesli Raisins; Dates; & Almonds', 37.136863],\n ['Basic 4', 37.038562],\n ['Just Right Crunchy  Nuggets', 36.523683],\n ['Just Right Fruit & Nut', 36.471512],\n ['Wheaties Honey Gold', 36.187559],\n ['Crispy Wheat & Raisins', 36.176196],\n ['Corn Pops', 35.782791],\n ['Golden Crisp', 35.252444],\n ['Almond Delight', 34.384843],\n ['Muesli Raisins; Peaches; & Pecans', 34.139765],\n ['100% Natural Bran', 33.983679],\n ['Apple Jacks', 33.174094],\n ['Froot Loops', 32.207582],\n ['Frosted Flakes', 31.435973],\n ['Smacks', 31.230054],\n ['Honey Nut Cheerios', 31.072217],\n ['Oatmeal Raisin Crisp', 30.450843],\n ['Mueslix Crispy Blend', 30.313351],\n ['Nut&Honey Crunch', 29.924285],\n ['Apple Cinnamon Cheerios', 29.509541],\n ['Honey-comb', 28.742414],\n ['Total Raisin Bran', 28.592785],\n ['Fruity Pebbles', 28.025765],\n ['Trix', 27.753301],\n ['Lucky Charms', 26.734515],\n ['Golden Grahams', 23.804043],\n ['Cocoa Puffs', 22.736446],\n ['Count Chocula', 22.396513],\n ['Honey Graham Ohs', 21.871292],\n ['Cinnamon Toast Crunch', 19.823573],\n [\"Cap'n'Crunch\", 18.042851]]"
     },
     "execution_count": 18,
     "metadata": {},
     "output_type": "execute_result"
    }
   ]
  },
  {
   "cell_type": "code",
   "source": [],
   "metadata": {
    "id": "mCw3hCWWDLoY"
   },
   "execution_count": null,
   "outputs": []
  }
 ]
}
