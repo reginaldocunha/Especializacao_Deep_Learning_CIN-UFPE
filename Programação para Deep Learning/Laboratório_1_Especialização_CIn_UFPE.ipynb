{
  "nbformat": 4,
  "nbformat_minor": 0,
  "metadata": {
    "colab": {
      "provenance": []
    },
    "kernelspec": {
      "name": "python3",
      "display_name": "Python 3"
    },
    "language_info": {
      "name": "python"
    }
  },
  "cells": [
    {
      "cell_type": "markdown",
      "metadata": {
        "id": "JlH5Cvoa5eJj"
      },
      "source": [
        "#### Assuntos do Laboratório 1:\n",
        "- Tipos de variáveis\n",
        "- Operações aritméticas\n",
        "- Operações lógicas\n"
      ]
    },
    {
      "cell_type": "markdown",
      "metadata": {
        "id": "pTsmyiWA5UK3"
      },
      "source": [
        "### Questão 0:\n",
        "Escreva um programa que declara a variável **x** com o valor inicial 10."
      ]
    },
    {
      "cell_type": "code",
      "metadata": {
        "id": "PLyJ6kWZ5cic"
      },
      "source": [
        "# codigo vai aqui\n",
        "x = 10\n"
      ],
      "execution_count": null,
      "outputs": []
    },
    {
      "cell_type": "markdown",
      "metadata": {
        "id": "EMvmwDWswVo1"
      },
      "source": [
        "###Questao 1:\n",
        "\n",
        "Crie um programa que possua 4 variáveis (anoNascimento, anoAtual, idade, mesesVividos). anoNascimento será inicializada com o ano do seu nascimento, anoAtual será inicializada com o ano atual e a idade será o cálculo da diferença entre as duas variáveis anoAtual e anoNascimento, e mesesVividos armazenará a quantidade de meses vividos."
      ]
    },
    {
      "cell_type": "code",
      "metadata": {
        "id": "PMvN35cJvwWf",
        "colab": {
          "base_uri": "https://localhost:8080/"
        },
        "outputId": "52f48c12-48a6-45c4-98b4-efc82f7adc78"
      },
      "source": [
        "#codigo vai aqui\n",
        "anoNascimento = 1981\n",
        "anoAtual = 2023\n",
        "idade = anoAtual - anoNascimento\n",
        "mesesVividos = idade * 12\n",
        "print(mesesVividos)\n"
      ],
      "execution_count": null,
      "outputs": [
        {
          "output_type": "stream",
          "name": "stdout",
          "text": [
            "504\n"
          ]
        }
      ]
    },
    {
      "cell_type": "markdown",
      "metadata": {
        "id": "eA61dQhWxPVU"
      },
      "source": [
        "### Questao 2:\n",
        "\n",
        "Faça um programa que considera que existem caminhões de vacina em Pernambuco que transportam  10283 vacinas em cada caminhão. Sabendo que há 2.493.219 que precisam ser vacinados, depois da viagem de quantos caminhões essa população estará vacinada?"
      ]
    },
    {
      "cell_type": "code",
      "metadata": {
        "id": "wDeAwoFhxb6D",
        "colab": {
          "base_uri": "https://localhost:8080/"
        },
        "outputId": "4617715b-0bd8-40b7-cec8-240f390440c7"
      },
      "source": [
        "# codigo vai aqui\n",
        "import math\n",
        "caminhoes = 10283\n",
        "pessoas = 2493219\n",
        "viagens1 = pessoas // caminhoes + int(pessoas % caminhoes > 0)\n",
        "viagens2 = math.ceil(pessoas / caminhoes)\n",
        "print('Precisará de', viagens1, 'Caminhoes.')\n",
        "print(viagens2)"
      ],
      "execution_count": null,
      "outputs": [
        {
          "output_type": "stream",
          "name": "stdout",
          "text": [
            "Precisará de 243 Caminhoes\n",
            "243\n"
          ]
        }
      ]
    },
    {
      "cell_type": "markdown",
      "metadata": {
        "id": "dcqGWjtyxdRq"
      },
      "source": [
        "### Questão 3:\n",
        "\n",
        "Peça ao usuário 3 valores Booleanos (b1, b2, b3) e imprima o resultado da expressão (b1 and b2) or b3\n"
      ]
    },
    {
      "cell_type": "code",
      "metadata": {
        "id": "g4RlHMWnxgc2",
        "colab": {
          "base_uri": "https://localhost:8080/"
        },
        "outputId": "4bc6e6e0-467a-4a9a-b911-5cf1bb8554a8"
      },
      "source": [
        "#codigo vai aqui\n",
        "b1 = input('Digite verdadeiro ou falso de acordo com sua preferencia: ')\n",
        "b2 = input('Digite verdadeiro ou falso de acordo com sua preferencia: ')\n",
        "b3 = input('Digite verdadeiro ou falso de acordo com sua preferencia: ')\n",
        "\n",
        "print((b1 and b2) or b3)\n",
        "\n"
      ],
      "execution_count": null,
      "outputs": [
        {
          "output_type": "stream",
          "name": "stdout",
          "text": [
            "Digite verdadeiro ou falso de acordo com sua preferencia: True\n",
            "Digite verdadeiro ou falso de acordo com sua preferencia: False\n",
            "Digite verdadeiro ou falso de acordo com sua preferencia: True\n",
            "False\n"
          ]
        }
      ]
    },
    {
      "cell_type": "markdown",
      "metadata": {
        "id": "iUa6I3VaxdZT"
      },
      "source": [
        "### Questão 4:\n",
        "\n",
        "Escreva um programa que receba do usuário um número inteiro x de três dígitos (exemplo: 498) e imprima na tela um número contendo os dígitos invertidos de x (894). Use somente os operadores aritméticos vistos nessa aula.\n",
        "\n"
      ]
    },
    {
      "cell_type": "code",
      "metadata": {
        "id": "Df-myMkuxrAh",
        "colab": {
          "base_uri": "https://localhost:8080/"
        },
        "outputId": "946dfeb0-f66a-4760-bbb9-2c7177f18005"
      },
      "source": [
        "# o codigo vai aqui\n",
        "numero = input('Digite um numero inteiro com tres caracteres de acordo com sua preferencia: ')\n",
        "\n",
        "print(int(numero[::-1]))\n"
      ],
      "execution_count": null,
      "outputs": [
        {
          "output_type": "stream",
          "name": "stdout",
          "text": [
            "Digite um numero inteiro com tres caracteres de acordo com sua preferencia: 894\n",
            "498\n"
          ]
        }
      ]
    }
  ]
}