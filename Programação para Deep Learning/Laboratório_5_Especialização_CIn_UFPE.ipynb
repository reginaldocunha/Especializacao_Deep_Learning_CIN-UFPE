{
  "nbformat": 4,
  "nbformat_minor": 0,
  "metadata": {
    "colab": {
      "provenance": []
    },
    "kernelspec": {
      "name": "python3",
      "display_name": "Python 3"
    },
    "language_info": {
      "name": "python"
    }
  },
  "cells": [
    {
      "cell_type": "markdown",
      "metadata": {
        "id": "5b0JgHd19utr"
      },
      "source": [
        "#### Assunto do Laboratório 5:\n",
        "- Strings"
      ]
    },
    {
      "cell_type": "markdown",
      "metadata": {
        "id": "S20Kdlr691MV"
      },
      "source": [
        "### Questão 1:\n",
        "\n",
        "Escreva um programa que receba uma string como entrada do usuário e imprima o tamanho da string."
      ]
    },
    {
      "cell_type": "code",
      "metadata": {
        "id": "BwOxhAeg-ACp"
      },
      "source": [
        "#codigo vai aqui"
      ],
      "execution_count": null,
      "outputs": []
    },
    {
      "cell_type": "markdown",
      "metadata": {
        "id": "vZCKFy6Q-A9g"
      },
      "source": [
        "### Questão 2:\n",
        "\n",
        "Escreva um programa que receba uma string como entrada do usuário e imprima a quantidade de vogais."
      ]
    },
    {
      "cell_type": "code",
      "metadata": {
        "id": "gqr3RF75-Joi"
      },
      "source": [
        "#codigo vai aqui"
      ],
      "execution_count": null,
      "outputs": []
    },
    {
      "cell_type": "markdown",
      "metadata": {
        "id": "J2FhRnwM9Ms2"
      },
      "source": [
        "### Questão 3:\n",
        "\n",
        "Implemente um programa que solicita o tamanho da lista de palavras que o usuário dará como entrada. Após o usuário inserir as palavras, o programa deve imprimir as palavras da lista que sejam diferentes da palavra “segredo”.\n"
      ]
    },
    {
      "cell_type": "code",
      "metadata": {
        "id": "opwem2_G9O42"
      },
      "source": [
        "#codigo vai aqui\n"
      ],
      "execution_count": null,
      "outputs": []
    },
    {
      "cell_type": "markdown",
      "metadata": {
        "id": "aWCv-i7t9QCq"
      },
      "source": [
        "### Questão 4:\n",
        "\n",
        "Implemente um programa que solicita para o usuário vários nomes de alunos até que ele dê como entrada uma string vazia. Por fim, exiba aqueles nomes que começam com as letras de A até M.\n"
      ]
    },
    {
      "cell_type": "code",
      "metadata": {
        "id": "9uXEEBsH9U93"
      },
      "source": [
        "#codigo vai aqui\n"
      ],
      "execution_count": null,
      "outputs": []
    },
    {
      "cell_type": "markdown",
      "metadata": {
        "id": "0F86MPIp-MxF"
      },
      "source": [
        "### Questão 5:\n",
        "\n",
        "Implemente um programa que solicita 5 nomes para o usuário. Seu programa deve transformar os nomes fornecidos para os mesmos nomes com caracteres maiúsculos\n"
      ]
    },
    {
      "cell_type": "code",
      "metadata": {
        "id": "WZ-NICgO-Q35",
        "colab": {
          "base_uri": "https://localhost:8080/"
        },
        "outputId": "cd5dba5b-3cf4-44fa-b6d0-16ef0e8ef33e"
      },
      "source": [],
      "execution_count": null,
      "outputs": [
        {
          "output_type": "stream",
          "text": [
            "Digite um nome: ioAJSDIAJS(*y*A&TD76g`masdkmasd, \n",
            "Digite um nome: AOIDJasoIDA<@*(@#(@1\n",
            "Digite um nome: LAKSDMALSKDMlasdmkasld\n",
            "Digite um nome: ASDJOIAJSDoasij90q098\n",
            "Digite um nome: aOISDJoaisjd90u112\n",
            "IOAJSDIAJS(*Y*A&TD76G`MASDKMASD, \n",
            "AOIDJASOIDA<@*(@#(@1\n",
            "LAKSDMALSKDMLASDMKASLD\n",
            "ASDJOIAJSDOASIJ90Q098\n",
            "AOISDJOAISJD90U112\n"
          ],
          "name": "stdout"
        }
      ]
    },
    {
      "cell_type": "markdown",
      "metadata": {
        "id": "-Gr7xwMW-UY7"
      },
      "source": [
        "### Questão 6:\n",
        "\n",
        "Implemente um programa que receba uma frase do usuário. O programa deve imprimir a frase com todas as palavras começando com a letra maiúscula e todas as outras começando com a letra minúscula.\n",
        "Exemplo:\n",
        "\n",
        "Input:“o GATO roeu a roupa DO REI de roMA”\n",
        "\n",
        "Output: “O Gato Roeu A Roupa Do Rei De Roma”\n"
      ]
    },
    {
      "cell_type": "code",
      "metadata": {
        "id": "iZgxIV8K-d87"
      },
      "source": [
        "# codigo vai aqui\n"
      ],
      "execution_count": null,
      "outputs": []
    },
    {
      "cell_type": "code",
      "metadata": {
        "id": "f7PmUlS6e_ww"
      },
      "source": [],
      "execution_count": null,
      "outputs": []
    }
  ]
}