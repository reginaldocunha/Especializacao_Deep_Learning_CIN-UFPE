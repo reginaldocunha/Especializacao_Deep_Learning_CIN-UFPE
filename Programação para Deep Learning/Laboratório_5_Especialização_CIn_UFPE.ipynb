{
 "nbformat": 4,
 "nbformat_minor": 0,
 "metadata": {
  "colab": {
   "provenance": []
  },
  "kernelspec": {
   "name": "python3",
   "language": "python",
   "display_name": "Python 3 (ipykernel)"
  },
  "language_info": {
   "name": "python"
  }
 },
 "cells": [
  {
   "cell_type": "markdown",
   "metadata": {
    "id": "5b0JgHd19utr"
   },
   "source": [
    "#### Assunto do Laboratório 5:\n",
    "- Strings"
   ]
  },
  {
   "cell_type": "markdown",
   "metadata": {
    "id": "S20Kdlr691MV"
   },
   "source": [
    "### Questão 1:\n",
    "\n",
    "Escreva um programa que receba uma string como entrada do usuário e imprima o tamanho da string."
   ]
  },
  {
   "cell_type": "code",
   "metadata": {
    "id": "BwOxhAeg-ACp",
    "ExecuteTime": {
     "end_time": "2024-01-04T00:57:01.872626Z",
     "start_time": "2024-01-04T00:56:22.842312Z"
    }
   },
   "source": [
    "#codigo vai aqui\n",
    "frase = input(\"Digite uma frase: \")\n",
    "print(len(frase))"
   ],
   "execution_count": 1,
   "outputs": [
    {
     "name": "stdout",
     "output_type": "stream",
     "text": [
      "60\n"
     ]
    }
   ]
  },
  {
   "cell_type": "markdown",
   "metadata": {
    "id": "vZCKFy6Q-A9g"
   },
   "source": [
    "### Questão 2:\n",
    "\n",
    "Escreva um programa que receba uma string como entrada do usuário e imprima a quantidade de vogais."
   ]
  },
  {
   "cell_type": "code",
   "metadata": {
    "id": "gqr3RF75-Joi",
    "ExecuteTime": {
     "end_time": "2024-01-04T12:02:41.299933Z",
     "start_time": "2024-01-04T12:02:34.460257Z"
    }
   },
   "source": [
    "#codigo vai aqui\n",
    "def contar_vogais(texto):\n",
    "    texto = texto.lower()\n",
    "    vogais = 'aeiou'\n",
    "    qtd_vogais = sum(texto.count(vogal) for vogal in vogais)\n",
    "    print(f'A quantidade de vogais no texto \"{texto}\" é: {qtd_vogais}')\n",
    "\n",
    "texto = input(\"Digite uma frase: \")\n",
    "\n",
    "contar_vogais(texto)"
   ],
   "execution_count": 13,
   "outputs": [
    {
     "name": "stdout",
     "output_type": "stream",
     "text": [
      "A quantidade de vogais no texto \"jesus amado\" é: 5\n"
     ]
    }
   ]
  },
  {
   "cell_type": "markdown",
   "metadata": {
    "id": "J2FhRnwM9Ms2"
   },
   "source": [
    "### Questão 3:\n",
    "\n",
    "Implemente um programa que solicita o tamanho da lista de palavras que o usuário dará como entrada. Após o usuário inserir as palavras, o programa deve imprimir as palavras da lista que sejam diferentes da palavra “segredo”.\n"
   ]
  },
  {
   "cell_type": "code",
   "metadata": {
    "id": "opwem2_G9O42",
    "ExecuteTime": {
     "end_time": "2024-01-04T12:39:54.050214Z",
     "start_time": "2024-01-04T12:39:46.285566Z"
    }
   },
   "source": [
    "#codigo vai aqui\n",
    "texto = list(input(\"Digite o texto que deseja: \").lower().split())\n",
    "for palavra in texto:\n",
    "    if palavra != 'segredo':\n",
    "        print(palavra)"
   ],
   "execution_count": 26,
   "outputs": [
    {
     "name": "stdout",
     "output_type": "stream",
     "text": [
      "jesus\n",
      "é\n",
      "a\n",
      "minha\n",
      "salvação\n"
     ]
    }
   ]
  },
  {
   "cell_type": "markdown",
   "metadata": {
    "id": "aWCv-i7t9QCq"
   },
   "source": [
    "### Questão 4:\n",
    "\n",
    "Implemente um programa que solicita para o usuário vários nomes de alunos até que ele dê como entrada uma string vazia. Por fim, exiba aqueles nomes que começam com as letras de A até M.\n"
   ]
  },
  {
   "cell_type": "code",
   "execution_count": 15,
   "outputs": [
    {
     "name": "stdout",
     "output_type": "stream",
     "text": [
      "Nomes que começam com as letras de A até M:\n",
      "['Cunha', 'Junior']\n"
     ]
    }
   ],
   "source": [
    "letras_a_m = 'abcdefghijklm'\n",
    "nomes = []\n",
    "\n",
    "while True:\n",
    "    nome = input(\"Digite o nome do aluno (ou pressione Enter para encerrar): \")\n",
    "\n",
    "    if not nome.strip():  # Verifica se a string é vazia\n",
    "        break\n",
    "\n",
    "    inicial_nome = nome[0].lower()\n",
    "    \n",
    "    if inicial_nome in letras_a_m:\n",
    "        nomes.append(nome)\n",
    "\n",
    "print(\"Nomes que começam com as letras de A até M:\")\n",
    "print(nomes)"
   ],
   "metadata": {
    "collapsed": false,
    "ExecuteTime": {
     "end_time": "2024-01-04T23:54:27.067555Z",
     "start_time": "2024-01-04T23:54:14.334511Z"
    }
   }
  },
  {
   "cell_type": "markdown",
   "metadata": {
    "id": "0F86MPIp-MxF"
   },
   "source": [
    "### Questão 5:\n",
    "\n",
    "Implemente um programa que solicita 5 nomes para o usuário. Seu programa deve transformar os nomes fornecidos para os mesmos nomes com caracteres maiúsculos\n"
   ]
  },
  {
   "cell_type": "code",
   "metadata": {
    "id": "WZ-NICgO-Q35",
    "colab": {
     "base_uri": "https://localhost:8080/"
    },
    "outputId": "cd5dba5b-3cf4-44fa-b6d0-16ef0e8ef33e",
    "ExecuteTime": {
     "end_time": "2024-01-05T00:06:16.696502Z",
     "start_time": "2024-01-05T00:06:04.546438Z"
    }
   },
   "source": [
    "for _ in range(5):\n",
    "    nome = input(\"Digite o nome: \")\n",
    "    print(nome.lower())"
   ],
   "execution_count": 1,
   "outputs": [
    {
     "name": "stdout",
     "output_type": "stream",
     "text": [
      "reginaldo\n",
      "cunha\n",
      "sales\n",
      "junior\n",
      "silva\n"
     ]
    }
   ]
  },
  {
   "cell_type": "markdown",
   "metadata": {
    "id": "-Gr7xwMW-UY7"
   },
   "source": [
    "### Questão 6:\n",
    "\n",
    "Implemente um programa que receba uma frase do usuário. O programa deve imprimir a frase com todas as palavras começando com a letra maiúscula e todas as outras começando com a letra minúscula.\n",
    "Exemplo:\n",
    "\n",
    "Input:“o GATO roeu a roupa DO REI de roMA”\n",
    "\n",
    "Output: “O Gato Roeu A Roupa Do Rei De Roma”\n"
   ]
  },
  {
   "cell_type": "code",
   "metadata": {
    "id": "iZgxIV8K-d87"
   },
   "source": [
    "# codigo vai aqui\n"
   ],
   "execution_count": null,
   "outputs": []
  },
  {
   "cell_type": "code",
   "metadata": {
    "id": "f7PmUlS6e_ww"
   },
   "source": [],
   "execution_count": null,
   "outputs": []
  }
 ]
}
