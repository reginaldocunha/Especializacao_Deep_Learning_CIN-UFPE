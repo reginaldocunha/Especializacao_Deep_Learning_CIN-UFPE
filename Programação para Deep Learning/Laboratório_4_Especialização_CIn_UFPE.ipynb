{
 "nbformat": 4,
 "nbformat_minor": 0,
 "metadata": {
  "colab": {
   "provenance": []
  },
  "kernelspec": {
   "name": "python3",
   "language": "python",
   "display_name": "Python 3 (ipykernel)"
  },
  "language_info": {
   "name": "python"
  }
 },
 "cells": [
  {
   "cell_type": "markdown",
   "metadata": {
    "id": "SBP_iLT85zx6"
   },
   "source": [
    "#### Assunto do Laboratório 4:\n",
    "- Listas\n",
    "- Comando de iteração FOR"
   ]
  },
  {
   "cell_type": "markdown",
   "metadata": {
    "id": "FoJl0XJo7ZYa"
   },
   "source": [
    "### Questão 1:\n",
    "\n",
    "Faça um programa que leia 10 números reais e mostre-os na ordem inversa."
   ]
  },
  {
   "cell_type": "code",
   "metadata": {
    "id": "dRXGY9JV7eNK",
    "ExecuteTime": {
     "end_time": "2023-12-16T14:25:26.429855Z",
     "start_time": "2023-12-16T14:25:19.341938Z"
    }
   },
   "source": [
    "numeros = []\n",
    "for numero in range(10):\n",
    "    numeros.append(float(input('Digite o numero: ')))\n",
    "print(numeros[::-1])"
   ],
   "execution_count": 4,
   "outputs": [
    {
     "name": "stdout",
     "output_type": "stream",
     "text": [
      "[9.0, 8.0, 7.0, 6.0, 5.0, 4.0, 3.0, 2.0, 1.0, 0.0]\n"
     ]
    }
   ]
  },
  {
   "cell_type": "markdown",
   "metadata": {
    "id": "MlQA7wfu6448"
   },
   "source": [
    "### Questão 2:\n",
    "\n",
    "Crie um programa que armazena vários números inteiros. A leitura deve parar até que o usuário dê como entrada um valor negativo.\n",
    "Em seguida, peça ao usuário um outro número $x$.\n",
    "Deve-se imprimir todos os números lidos menores que $x$."
   ]
  },
  {
   "cell_type": "code",
   "metadata": {
    "id": "a5ZVp1aC7N8E",
    "ExecuteTime": {
     "end_time": "2023-12-16T14:42:51.246002Z",
     "start_time": "2023-12-16T14:42:44.605500Z"
    }
   },
   "source": [
    "listaNumeros = []\n",
    "numero = 0\n",
    "while (numero >= 0):\n",
    "    numero = int(input('Digite o numero: '))\n",
    "    listaNumeros.append(numero)\n",
    "    listaNumeros.pop()"
   ],
   "execution_count": 10,
   "outputs": []
  },
  {
   "cell_type": "code",
   "execution_count": 11,
   "outputs": [
    {
     "name": "stdout",
     "output_type": "stream",
     "text": [
      "[]\n"
     ]
    }
   ],
   "source": [
    "print(listaNumeros)"
   ],
   "metadata": {
    "collapsed": false,
    "ExecuteTime": {
     "end_time": "2023-12-16T14:42:53.329749Z",
     "start_time": "2023-12-16T14:42:53.310306Z"
    }
   }
  },
  {
   "cell_type": "markdown",
   "metadata": {
    "id": "Wkjt84777pWn"
   },
   "source": [
    "### Questão 3:\n",
    "\n",
    "Faça um programa que leia um vetor de 5 números inteiros, mostre a soma e a multiplicação desses números."
   ]
  },
  {
   "cell_type": "code",
   "metadata": {
    "id": "L1JkONx_7vDT"
   },
   "source": [
    "listaNumeros3 = []\n",
    "cont = 0\n"
   ],
   "execution_count": null,
   "outputs": []
  },
  {
   "cell_type": "markdown",
   "metadata": {
    "id": "T9qOKmZs71OP"
   },
   "source": [
    "### Questão 4:\n",
    "\n",
    "Faça um programa que leia dois vetores com 10 elementos cada. Gere um terceiro vetor de 20 elementos, cujos valores deverão ser compostos pelos elementos intercalados dos dois outros vetores."
   ]
  },
  {
   "cell_type": "code",
   "metadata": {
    "id": "uPjXiecS74Np",
    "ExecuteTime": {
     "end_time": "2023-12-16T14:46:35.392818Z",
     "start_time": "2023-12-16T14:46:35.381499Z"
    }
   },
   "source": [
    "lista1 = []\n",
    "lista2 = []\n",
    "\n",
    "print(\"LISTA 01\")\n",
    "for i in range(10):\n",
    "  numero = float(input(\"Digite um número real: \"))\n",
    "  lista1.append(numero)\n",
    "\n",
    "print(\"LISTA 03\")\n",
    "for i in range(10):\n",
    "  numero = float(input(\"Digite um número real: \"))\n",
    "  lista2.append(numero)\n",
    "\n",
    "resultado = []\n",
    "\n",
    "for a, b in zip(lista1, lista2):\n",
    "  resultado.append(a)\n",
    "  resultado.append(b)\n",
    "\n",
    "print(\"LISTA INTERCALADA\")\n",
    "print(resultado)"
   ],
   "execution_count": 13,
   "outputs": [
    {
     "ename": "TypeError",
     "evalue": "'<' not supported between instances of 'int' and 'range'",
     "output_type": "error",
     "traceback": [
      "\u001B[0;31m---------------------------------------------------------------------------\u001B[0m",
      "\u001B[0;31mTypeError\u001B[0m                                 Traceback (most recent call last)",
      "Cell \u001B[0;32mIn[13], line 3\u001B[0m\n\u001B[1;32m      1\u001B[0m vetor1 \u001B[38;5;241m=\u001B[39m []\n\u001B[1;32m      2\u001B[0m n \u001B[38;5;241m=\u001B[39m \u001B[38;5;241m0\u001B[39m\n\u001B[0;32m----> 3\u001B[0m \u001B[38;5;28;01mwhile\u001B[39;00m (\u001B[43mn\u001B[49m\u001B[43m \u001B[49m\u001B[38;5;241;43m<\u001B[39;49m\u001B[43m \u001B[49m\u001B[38;5;28;43mrange\u001B[39;49m\u001B[43m(\u001B[49m\u001B[38;5;241;43m10\u001B[39;49m\u001B[43m)\u001B[49m):\n\u001B[1;32m      4\u001B[0m     vetor1 \u001B[38;5;241m=\u001B[39m \u001B[38;5;28mint\u001B[39m(\u001B[38;5;28minput\u001B[39m(\u001B[38;5;124m'\u001B[39m\u001B[38;5;124mDigite o numero: \u001B[39m\u001B[38;5;124m'\u001B[39m))\n\u001B[1;32m      5\u001B[0m     vetor2 \u001B[38;5;241m=\u001B[39m \u001B[38;5;28mint\u001B[39m(\u001B[38;5;28minput\u001B[39m(\u001B[38;5;124m'\u001B[39m\u001B[38;5;124mDigite o numero: \u001B[39m\u001B[38;5;124m'\u001B[39m))\n",
      "\u001B[0;31mTypeError\u001B[0m: '<' not supported between instances of 'int' and 'range'"
     ]
    }
   ]
  },
  {
   "cell_type": "code",
   "execution_count": null,
   "outputs": [],
   "source": [],
   "metadata": {
    "collapsed": false
   }
  },
  {
   "cell_type": "markdown",
   "metadata": {
    "id": "_hDUBPA-8Aio"
   },
   "source": [
    "### Questão 5:\n",
    "\n",
    "Faça um programa que receba a temperatura média de cada mês do ano e armazene-as em uma lista. Após isto, calcule a média anual das temperaturas e mostre todas as temperaturas acima da média anual, e em que mês elas ocorreram (mostrar o mês por extenso: 1 – Janeiro, 2 – Fevereiro, . . . )."
   ]
  },
  {
   "cell_type": "code",
   "metadata": {
    "id": "KAKQru5T8DdQ"
   },
   "source": [
    "#codigo vai aqui\n"
   ],
   "execution_count": null,
   "outputs": []
  },
  {
   "cell_type": "markdown",
   "metadata": {
    "id": "xgARmo8p1G1S"
   },
   "source": [
    "### Questão 6:\n",
    "\n",
    "Crie um programa que lê uma sequência de números positivos do teclado, armazenando-os em uma lista. Quando o usuário digitar um número negativo, seu programa deve parar de ler os números do teclado e calcular a média e variância de todos os números armazenados e imprimir esse valor.\n",
    "\n",
    "media = $\\frac{1}{n} \\sum_{i=0}^n x_i$\n",
    "\n",
    "variancia = $\\frac{1}{n} \\sum_{i=0}^n (x_i - \\text{média})^2 $"
   ]
  },
  {
   "cell_type": "code",
   "metadata": {
    "id": "ftTZoL601LPS"
   },
   "source": [
    "## codigo vai aqui\n"
   ],
   "execution_count": null,
   "outputs": []
  },
  {
   "cell_type": "markdown",
   "metadata": {
    "id": "04SOq_-E7jo2"
   },
   "source": [
    "### Questão 7:\n",
    "\n",
    "Em uma competição de salto em distância cada atleta tem direito a cinco saltos. O resultado do atleta será determinado pela média dos cinco valores restantes. Você deve fazer um programa que receba o nome e as cinco distâncias alcançadas pelo atleta em seus saltos e depois informe o nome, os saltos e a média dos saltos. O programa deve ser encerrado quando não for informado o nome do atleta. A saída do programa deve ser conforme o exemplo abaixo:\n",
    "\n",
    "Atleta: Rodrigo Curvêllo\n",
    "\n",
    "Primeiro Salto: 6.5 m\n",
    "\n",
    "Segundo Salto: 6.1 m\n",
    "\n",
    "Terceiro Salto: 6.2 m\n",
    "\n",
    "Quarto Salto: 5.4 m\n",
    "\n",
    "Quinto Salto: 5.3 m\n",
    "\n",
    "\n",
    ".\n",
    ".\n",
    ".\n",
    "\n",
    "\n",
    "Resultado final:\n",
    "\n",
    "Atleta: Rodrigo Curvêllo\n",
    "\n",
    "Saltos: 6.5 - 6.1 - 6.2 - 5.4 - 5.3\n",
    "\n",
    "Média dos saltos: 5.9 m"
   ]
  },
  {
   "cell_type": "code",
   "metadata": {
    "id": "1j8OPmQD85wj"
   },
   "source": [
    "#codigo vai aqui\n",
    "\n"
   ],
   "execution_count": null,
   "outputs": []
  },
  {
   "cell_type": "markdown",
   "metadata": {
    "id": "ZDg_s8Nx861N"
   },
   "source": [
    "### Questão 8:\n",
    "\n",
    "Crie um programa que lê um inteiro N do teclado, calcula todos os números primos entre 1 e N e os guarda em uma lista. Ao final da execução, o programa apresenta todos, separados por vírgulas (mas sem vírgula depois do último!)\n"
   ]
  },
  {
   "cell_type": "code",
   "metadata": {
    "id": "U0gR5Nsp7i_l"
   },
   "source": [
    "#codigo vai aqui\n"
   ],
   "execution_count": null,
   "outputs": []
  },
  {
   "cell_type": "code",
   "metadata": {
    "id": "IUbJqIInVkc_"
   },
   "source": [],
   "execution_count": null,
   "outputs": []
  }
 ]
}
