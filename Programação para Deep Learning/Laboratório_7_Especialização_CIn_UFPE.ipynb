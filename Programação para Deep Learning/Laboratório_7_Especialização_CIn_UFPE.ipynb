{
  "nbformat": 4,
  "nbformat_minor": 0,
  "metadata": {
    "colab": {
      "provenance": []
    },
    "kernelspec": {
      "name": "python3",
      "display_name": "Python 3"
    },
    "language_info": {
      "name": "python"
    }
  },
  "cells": [
    {
      "cell_type": "markdown",
      "metadata": {
        "id": "5b0JgHd19utr"
      },
      "source": [
        "#### Assunto do Laboratório 7:\n",
        "- Arquivos"
      ]
    },
    {
      "cell_type": "markdown",
      "metadata": {
        "id": "S20Kdlr691MV"
      },
      "source": [
        "### Questão 1:\n",
        "\n",
        "Crie uma função que recebe uma string como parâmetro que é um nome de arquivo válido. A função deve imprimir todo o conteúdo deste arquivo. Use o arquivo _[LAB7Questao1.txt](https://drive.google.com/file/d/1e0GpRl1wlpT0Thw1StBjl4IbdQ_4Fzxf/view?usp=sharing)_ para testar seu código."
      ]
    },
    {
      "cell_type": "code",
      "metadata": {
        "id": "BwOxhAeg-ACp"
      },
      "source": [
        "#codigo vai aqui\n"
      ],
      "execution_count": null,
      "outputs": []
    },
    {
      "cell_type": "markdown",
      "metadata": {
        "id": "WMG3Jf7hd-8C"
      },
      "source": [
        "### Questão 2:\n",
        "\n",
        "Crie uma função que recebe uma lista de strings e um nome de um arquivo.\n",
        "A função deve escrever cada string da lista em uma linha do arquivo.\n",
        "Lembre-se de fechar o arquivo."
      ]
    },
    {
      "cell_type": "code",
      "metadata": {
        "id": "w79xkPy8d0f1"
      },
      "source": [
        "### codigo vai aqui"
      ],
      "execution_count": null,
      "outputs": []
    },
    {
      "cell_type": "markdown",
      "metadata": {
        "id": "bcV9CPLSddH-"
      },
      "source": [
        "### Questão 3:\n",
        "\n",
        "Crie uma função que recebe uma lista de strings e um nome de um arquivo.\n",
        "A função deve escrever cada string da lista em uma linha do arquivo.\n",
        "Lembre-se de fechar o arquivo."
      ]
    },
    {
      "cell_type": "code",
      "metadata": {
        "id": "eWqWJUhof8rP"
      },
      "source": [
        "### codigo vai aqui"
      ],
      "execution_count": null,
      "outputs": []
    },
    {
      "cell_type": "markdown",
      "metadata": {
        "id": "vZCKFy6Q-A9g"
      },
      "source": [
        "### Questão 4:\n",
        "\n",
        "Crie uma função _retorna_lista_strings_ que receba uma string como parâmetro e retorne uma lista de palavras dessa string (se quiser facilitar sua vida de programador, procure sobre a função _split_ de Python).\n",
        "\n",
        "Crie uma função que receba como parâmetro um nome de arquivo e retorne uma lista das palavras desse arquivo. Considere que esse arquivo pode ter várias linhas. Use o arquivo [LAB7Questao4Arquivo1.txt](https://drive.google.com/file/d/17ATLcjsTY1XbxaZSYIRxQUb913LPY56P/view?usp=sharing) para testar seu programa.\n",
        "\n",
        "ATENÇÃO: O arquivo está codificado em Latin-1. Mude a codificação durante a abertura do arquivo (parâmetro encoding) para \"latin-1\"."
      ]
    },
    {
      "cell_type": "code",
      "metadata": {
        "id": "gqr3RF75-Joi"
      },
      "source": [
        "#codigo vai aqui"
      ],
      "execution_count": null,
      "outputs": []
    },
    {
      "cell_type": "markdown",
      "metadata": {
        "id": "J2FhRnwM9Ms2"
      },
      "source": [
        "### Questão 5:\n",
        "\n",
        "Crie uma função que acesse o arquivo [LAB7Questao5Arquivo1.txt](https://drive.google.com/file/d/1TSDB3cLAjx24pV7yoXS4B-PlEc5R-kRt/view?usp=sharing) e verifique quais os números existentes nesse arquivo são PARES.\n",
        "Você deve criar um arquivo *LAB7Questao5Resultado1.txt* e escrever os números que foram identificados como PARES.\n",
        "\n",
        "Faça o mesmo para o arquivo [LAB7Questao5Arquivo2.txt](https://drive.google.com/file/d/1BT-hDmVRV3fcKLzLZYE_vMVOTMODu9ju/view?usp=sharing) salvando o resultado em *LAB7Questao5Resultado2.txt*. Para essa questão, considere criar e utilizar uma função que verifique se um dado número passado como parâmetro é PAR."
      ]
    },
    {
      "cell_type": "code",
      "metadata": {
        "id": "opwem2_G9O42"
      },
      "source": [
        "#codigo vai aqui\n"
      ],
      "execution_count": null,
      "outputs": []
    },
    {
      "cell_type": "markdown",
      "metadata": {
        "id": "0F86MPIp-MxF"
      },
      "source": [
        "### Questão 6:\n",
        "\n",
        "Crie um programa que lê uma lista de convidados que está em um arquivo chamado _lista_convidados.txt_. Neste arquivo é armazenado o nome e cidade do convidado.\n",
        "Seu programa deve ter a opção de perguntar se o usuário quer checar alguém na lista de convidados, ou se quer imprimir todos os convidados para uma dada cidade (fornecida pelo usuário)."
      ]
    },
    {
      "cell_type": "code",
      "metadata": {
        "id": "U1hJqHOoigyE"
      },
      "source": [
        "#codigo vai aqui\n"
      ],
      "execution_count": null,
      "outputs": []
    },
    {
      "cell_type": "markdown",
      "metadata": {
        "id": "aWCv-i7t9QCq"
      },
      "source": [
        "### Questão 7:\n",
        "\n",
        "Crie um programa que cadastra o nome e telefone de várias pessoas. Esse programa deve ter as seguintes funções:\n",
        "\n",
        "criaContato(listaDeContato): a função criaContato recebe uma lista de contatos e adiciona nessa lista uma lista contendo um novo contato. As informações deste novo contato precisa ser solicitado pelo usuário. Cada contato possui nome e telefone.\n",
        "\n",
        "buscaContatoPorNome(listaDeContato, nome): essa função busca o contato que possui o nome fornecido como parâmetro na lista fornecida também como parâmetro. Lembrando que cada contato é uma lista que possui nome, telefone. A função retorna os dados do contato.\n",
        "\n",
        "removeContato(listaDeContato, telefone): essa função remove da listaDeContato o contato que possui o telefone fornecido como parâmetro.\n",
        "\n",
        "salvaArquivo(listaDeContato, nomeArquivo): essa função salva no arquivo a lista de contatos em um arquivo de nome nomeArquivo.\n",
        "\n",
        "lerArquivo(listaDeContato, nomeArquivo): essa função lê do arquivo *nomeArquivo* a lista de contatos existente lá.\n",
        "\n",
        "retornaQuantidadeContatos(listaDeContato): essa função retorna a quantidade de contatos cadastrados na *listaDeContato*.\n",
        "\n",
        "imprimeMenu(): essa função imprime na tela as opções de cadastrar, buscar, remover, salvar no arquivo, ler do arquivo e retornar a quantidade de contatos.\n",
        "\n",
        "Crie uma agenda telefônica a partir das funções que você criou acima.\n"
      ]
    },
    {
      "cell_type": "code",
      "metadata": {
        "id": "9uXEEBsH9U93"
      },
      "source": [
        "#codigo vai aqui\n"
      ],
      "execution_count": null,
      "outputs": []
    },
    {
      "cell_type": "markdown",
      "metadata": {
        "id": "o9erD_tAiwvx"
      },
      "source": [
        "## Questão 8:\n",
        "\n",
        "A ACME Inc., uma empresa de 500 funcionários, está tendo problemas de espaço em disco no seu servidor de arquivos. Para tentar resolver este problema, o Administrador de Rede precisa saber qual o espaço ocupado pelos usuários, e identificar os usuários com maior espaço ocupado. Através de um programa, baixado da Internet, ele conseguiu gerar o seguinte arquivo, chamado \"usuarios.txt\":\n",
        "\n",
        "alexandre       456123789\n",
        "\n",
        "anderson        1245698456\n",
        "\n",
        "antonio         123456456\n",
        "\n",
        "carlos          91257581\n",
        "\n",
        "cesar           987458\n",
        "\n",
        "rosemary        789456125\n",
        "\n",
        "A partir deste arquivo, você deve criar um programa que gere um relatório, chamado \"relatório.txt\", no seguinte formato:\n",
        "\n",
        "\\-\\-\\-\\-\\-\\-\\-\\-\\-\\-\\-\\-\\-\\-\\-\\-\\-\\-\\-\\-\\-\\-\\-\\-\\-\\-\\-\\-\\-\\-\n",
        "\n",
        "ACME Inc.               Uso do espaço em disco pelos usuários\n",
        "\n",
        "\\-\\-\\-\\-\\-\\-\\-\\-\\-\\-\\-\\-\\-\\-\\-\\-\\-\\-\\-\\-\\-\\-\\-\\-\\-\\-\\-\\-\\-\\-\n",
        "\n",
        "Nr.  | Usuário        Espaço utilizado     % do uso\n",
        "\n",
        "1    | alexandre       | 434,99 MB            |  16,85%\n",
        "\n",
        "2    | anderson        | 1187,99 MB           |  46,02%\n",
        "\n",
        "3    | antonio         | 117,73 MB            |  4,56%\n",
        "\n",
        "4    | carlos          | 87,03 MB             | 3,37%\n",
        "\n",
        "5    | cesar           |  0,94 MB             | 0,04%\n",
        "\n",
        "6    | rosemary        | 752,88 MB            | 29,16%\n",
        "\n",
        "Espaço total ocupado: 2581,57 MB\n",
        "\n",
        "Espaço médio ocupado: 430,26 MB\n",
        "\n",
        "O arquivo de entrada deve ser lido uma única vez, e os dados armazenados em memória, caso sejam necessários, de forma a agilizar a execução do programa. A conversão da espaço ocupado em disco, de bytes para megabytes deverá ser feita através de uma função separada, que será chamada pelo programa principal. O cálculo do percentual de uso também deverá ser feito através de uma função, que será chamada pelo programa principal.\n",
        "\n",
        "Fórmula de conversão:\n",
        "$ 1MB = \\frac{B}{{1024}^2}$"
      ]
    },
    {
      "cell_type": "code",
      "metadata": {
        "id": "4mcP0rQ3k1iC"
      },
      "source": [],
      "execution_count": null,
      "outputs": []
    }
  ]
}