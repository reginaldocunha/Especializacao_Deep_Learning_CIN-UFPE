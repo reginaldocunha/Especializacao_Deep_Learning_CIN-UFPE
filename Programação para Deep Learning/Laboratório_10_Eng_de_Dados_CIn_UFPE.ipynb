{
  "nbformat": 4,
  "nbformat_minor": 0,
  "metadata": {
    "colab": {
      "provenance": []
    },
    "kernelspec": {
      "name": "python3",
      "display_name": "Python 3"
    },
    "language_info": {
      "name": "python"
    }
  },
  "cells": [
    {
      "cell_type": "markdown",
      "metadata": {
        "id": "tXaXWavE0wbL"
      },
      "source": [
        "#### Assunto do Laboratório 10:\n",
        "- Prática da biblioteca NUMPY."
      ]
    },
    {
      "cell_type": "markdown",
      "metadata": {
        "id": "YzYMWhKC0yh0"
      },
      "source": [
        "### Questão 1:\n",
        "\n",
        "Construa uma função que recebe uma matriz de números float e imprime os dados estatísticos de cada coluna: média, mediana, desvio padrão, valor mínimo, valor máximo.\n",
        "\n",
        "Use a função criada \"\"geraMatriz\" para testar sua função."
      ]
    },
    {
      "cell_type": "code",
      "metadata": {
        "id": "RERdAgNd0vsU"
      },
      "source": [
        "##codigo vai aqui\n",
        "\n",
        "import numpy as np\n",
        "np.random.seed(0)\n",
        "\n",
        "def geraMatriz(n,m):\n",
        "  \"\"\"\n",
        "  gera uma matriz aleatória de 'n' linhas e 'm' colunas de números reais\n",
        "  n: inteiro, representa a quantidade de linhas\n",
        "  m: inteiro, representa a quantidade de colunas\n",
        "  retorno: uma matriz numpy\n",
        "  \"\"\"\n",
        "  return np.random.rand(n,m)"
      ],
      "execution_count": null,
      "outputs": []
    },
    {
      "cell_type": "code",
      "source": [
        "def imprimeEstatisticaDescritivaMatriz(m):\n",
        "  qtde_colunas = m.shape[1]\n",
        "  for idx_coluna in range(qtde_colunas):\n",
        "    coluna = m[:, idx_coluna]\n",
        "    media = coluna.mean()\n",
        "    desv_pad = coluna.std()\n",
        "    mediana = np.median(coluna)\n",
        "    minimo = coluna.min()\n",
        "    maximo = coluna.max()\n",
        "    print(\"coluna\", idx_coluna)\n",
        "    print(\"media: \", media, \"desv_pad: \", desv_pad)\n",
        "    print(\"mediana: \", mediana)\n",
        "    print(\"min: \", minimo, \"max: \", maximo)\n",
        "\n",
        "m = geraMatriz(10,5)\n",
        "imprimeEstatisticaDescritivaMatriz(m)"
      ],
      "metadata": {
        "colab": {
          "base_uri": "https://localhost:8080/"
        },
        "id": "f8tJm0k8e957",
        "outputId": "370ba272-feeb-4da7-fc81-2d2710658f23"
      },
      "execution_count": null,
      "outputs": [
        {
          "output_type": "stream",
          "name": "stdout",
          "text": [
            "coluna 0\n",
            "media:  0.5210100487130482 desv_pad:  0.3119883933014902\n",
            "mediana:  0.6288904197699159\n",
            "min:  0.01809635820147515 max:  0.9555683939804208\n",
            "coluna 1\n",
            "media:  0.5686989002536154 desv_pad:  0.24020138850689976\n",
            "mediana:  0.6122861501769206\n",
            "min:  0.15597792803445654 max:  0.9253950252924407\n",
            "coluna 2\n",
            "media:  0.4546203907530345 desv_pad:  0.19220210662927742\n",
            "mediana:  0.430766964100247\n",
            "min:  0.23057128969382001 max:  0.8268052703690757\n",
            "coluna 3\n",
            "media:  0.5336890072931819 desv_pad:  0.3293768080227306\n",
            "mediana:  0.5056029503007102\n",
            "min:  0.019462467309300346 max:  0.9446257184221241\n",
            "coluna 4\n",
            "media:  0.5425641662062295 desv_pad:  0.3229808841841553\n",
            "mediana:  0.5166020183326463\n",
            "min:  0.10357846344837218 max:  0.9838538296816167\n"
          ]
        }
      ]
    },
    {
      "cell_type": "markdown",
      "metadata": {
        "id": "FwJsKotI06EJ"
      },
      "source": [
        "### Questão 2:\n",
        "\n",
        "Construa uma função que recebe uma matriz em que cada coluna é um atributo categórico. Um atributo categórico é uma informação que pode ser rotulada. Por exemplo: a cor de cabelo é um atributo categórico que pode ser \"louro\", \"ruivo\", \"preto\", \"branco\". Sua função deve transformar, para cada coluna, o atributo categórico em atributo numérico. Ou seja, associar para cada categoria possível, um valor numérico. Por exemplo \"\"louro\"\"=1, \"\"ruivo\"\"=2, \"\"preto\"\"=3, \"\"branco\"\"=4. A função deve retornar esta nova matriz de números inteiros. Considere cada coluna independente. Cada coluna terá seu conjunto de valores possíveis independente das outras colunas.\n",
        "\n",
        "Use a função criada \"\"geraMatriz\" para testar sua função.\n",
        "\n",
        "Dica: procure sobre as funções do NUMPY: unique e where.\n"
      ]
    },
    {
      "cell_type": "code",
      "metadata": {
        "id": "5jo5Wx7109aG"
      },
      "source": [
        "##codigo vai aqui\n",
        "\n",
        "import numpy as np\n",
        "np.random.seed(0)\n",
        "\n",
        "nCategorias = 10\n",
        "categorias = [\"tipo \"+str(i) for i in range(nCategorias)]\n",
        "\n",
        "def geraMatriz(n,m):\n",
        "  \"\"\"\n",
        "  gera uma matriz aleatoria de 'n' linhas e 'm' colunas\n",
        "  podendo ter em cada posicao uma das categorias criadas\n",
        "  no vetor anteriormente criado\n",
        "  n: inteiro, quantidade de linhas\n",
        "  m: inteiro, quantidade de colunas\n",
        "  retorno: uma matriz numpy\n",
        "  \"\"\"\n",
        "  for coluna in range(m):\n",
        "    v_n_elementos = np.random.randint(nCategorias, size=n) #gera um vetor com numeros aleatorios, de tamanho n, com os valores que vao de 0 a nCategorias.\n",
        "    colunaMatriz = np.array([[categorias[i]] for i in v_n_elementos])\n",
        "    if coluna == 0: #primeira coluna\n",
        "      matrizFinal = colunaMatriz\n",
        "    else:\n",
        "      matrizFinal = np.concatenate((matrizFinal, colunaMatriz), axis=1)\n",
        "  return matrizFinal"
      ],
      "execution_count": null,
      "outputs": []
    },
    {
      "cell_type": "markdown",
      "metadata": {
        "id": "XhaW_BzU0_Bb"
      },
      "source": [
        "### Questão 3:\n",
        "\n",
        "Crie uma função que receba uma matriz de inteiros.\n",
        "A matriz possui dados da presença/falta de funcionários de uma empresa.\n",
        "A coleta dos dados iniciou no dia 01/01/2020. Cada coluna representa um dia. Ou seja, a primeira coluna representa o dia 01/01/2020, a segunda coluna o dia 02/01/2020, e assim sucessivamente. Cada linha da matriz representa um funcionário. Funcionário 0 está na linha. 0, funcionário 1 está na linha 1, e assim sucessivamente.\n",
        "Na tabela, o valor 1 significa presente, e o valor 0 significa que o funcionário teve falta.\n",
        "\n",
        "Você precisa:\n",
        "\n",
        "a) Criar um gráfico mostrando a quantidade de faltas em cada dia.\n",
        "\n",
        "b) Criar um gráfico mostrando a quantidade de faltas a cada mês (considere que cada mês tem sempre 30 dias). Não precisa tratar anos bissextos, nem feriados.\n",
        "\n",
        "c) Criar um gráfico onde compare a quantidade de presença a cada mês dos 3 funcionários mais faltosos com os 3 funcionários mais presentes\n"
      ]
    },
    {
      "cell_type": "code",
      "metadata": {
        "id": "Z1XZle0w1COP"
      },
      "source": [
        "##codigo vai aqui\n"
      ],
      "execution_count": null,
      "outputs": []
    }
  ]
}