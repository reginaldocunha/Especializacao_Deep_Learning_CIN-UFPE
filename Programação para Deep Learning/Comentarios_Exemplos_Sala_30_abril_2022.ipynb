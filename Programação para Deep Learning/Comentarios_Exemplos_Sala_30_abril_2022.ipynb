{
  "nbformat": 4,
  "nbformat_minor": 0,
  "metadata": {
    "colab": {
      "provenance": []
    },
    "kernelspec": {
      "name": "python3",
      "display_name": "Python 3"
    },
    "language_info": {
      "name": "python"
    }
  },
  "cells": [
    {
      "cell_type": "code",
      "execution_count": null,
      "metadata": {
        "id": "Np_d9h3Niwgy"
      },
      "outputs": [],
      "source": [
        "listaNomes = [\"Fernando\", \"Willian\", \"João\", \"Tiba\"]"
      ]
    },
    {
      "cell_type": "code",
      "source": [
        "len(listaNomes)"
      ],
      "metadata": {
        "colab": {
          "base_uri": "https://localhost:8080/"
        },
        "id": "aaekHEnFi27I",
        "outputId": "e419ef9d-b0f5-4377-9fb1-05c3e246e80e"
      },
      "execution_count": null,
      "outputs": [
        {
          "output_type": "execute_result",
          "data": {
            "text/plain": [
              "4"
            ]
          },
          "metadata": {},
          "execution_count": 4
        }
      ]
    },
    {
      "cell_type": "code",
      "source": [
        "a = 3"
      ],
      "metadata": {
        "id": "e0SsFGs-i6Vo"
      },
      "execution_count": null,
      "outputs": []
    },
    {
      "cell_type": "code",
      "source": [
        "type(a)"
      ],
      "metadata": {
        "colab": {
          "base_uri": "https://localhost:8080/"
        },
        "id": "5ojxavIAjF6B",
        "outputId": "f6a925ef-4e23-4778-a257-675d45c34baf"
      },
      "execution_count": null,
      "outputs": [
        {
          "output_type": "execute_result",
          "data": {
            "text/plain": [
              "int"
            ]
          },
          "metadata": {},
          "execution_count": 10
        }
      ]
    },
    {
      "cell_type": "code",
      "source": [
        "a = 1\n",
        "b = a\n",
        "a = a+1\n",
        "\n",
        "print(b)"
      ],
      "metadata": {
        "colab": {
          "base_uri": "https://localhost:8080/"
        },
        "id": "sBgpvuvClrgO",
        "outputId": "84d1a5dc-9aa8-4378-808f-4ab9b6f74c2d"
      },
      "execution_count": null,
      "outputs": [
        {
          "output_type": "stream",
          "name": "stdout",
          "text": [
            "1\n"
          ]
        }
      ]
    },
    {
      "cell_type": "code",
      "source": [
        "a = [1,2,3]\n",
        "b = a\n",
        "a.remove(2)\n",
        "print(b)"
      ],
      "metadata": {
        "colab": {
          "base_uri": "https://localhost:8080/"
        },
        "id": "3rEcFZFHl0lU",
        "outputId": "d759707e-927e-4625-a14d-91fbf92bb172"
      },
      "execution_count": null,
      "outputs": [
        {
          "output_type": "stream",
          "name": "stdout",
          "text": [
            "[1, 2, 3]\n"
          ]
        }
      ]
    },
    {
      "cell_type": "code",
      "source": [
        "a = [1,2,3]\n",
        "b = a[::] #copia da lista\n",
        "a.remove(2)\n",
        "print(b)"
      ],
      "metadata": {
        "id": "RGOsVg3Jl1ir"
      },
      "execution_count": null,
      "outputs": []
    },
    {
      "cell_type": "code",
      "source": [
        "\n",
        "a = 1\n",
        "cont=0\n",
        "while(cont<10):\n",
        "  b = a\n",
        "  a = a+1\n",
        "  cont+=1\n",
        "\n",
        "\n",
        "print(b)"
      ],
      "metadata": {
        "id": "oOZewF8cojRi"
      },
      "execution_count": null,
      "outputs": []
    },
    {
      "cell_type": "code",
      "source": [
        "a = \"Fernando\"\n",
        "b = a\n",
        "a = \"Jose\"\n",
        "print(b)"
      ],
      "metadata": {
        "colab": {
          "base_uri": "https://localhost:8080/"
        },
        "id": "-oqJzEX5qFia",
        "outputId": "e40eaa21-2fcc-421e-d5b9-8b6076db9b8d"
      },
      "execution_count": null,
      "outputs": [
        {
          "output_type": "stream",
          "name": "stdout",
          "text": [
            "Fernando\n"
          ]
        }
      ]
    },
    {
      "cell_type": "code",
      "source": [
        "produto = [\"OMO Multi acao\", 34.21, 4]"
      ],
      "metadata": {
        "id": "RBiYxuvRqJbD"
      },
      "execution_count": null,
      "outputs": []
    },
    {
      "cell_type": "code",
      "source": [
        "produto[2] = 5"
      ],
      "metadata": {
        "id": "IwwUOi3aqhzn"
      },
      "execution_count": null,
      "outputs": []
    },
    {
      "cell_type": "code",
      "source": [
        "produto"
      ],
      "metadata": {
        "colab": {
          "base_uri": "https://localhost:8080/"
        },
        "id": "ry7eAi9fqjBq",
        "outputId": "46ce7fb0-4ad6-46e1-b5fd-034792e105cc"
      },
      "execution_count": null,
      "outputs": [
        {
          "output_type": "execute_result",
          "data": {
            "text/plain": [
              "['OMO Multi acao', 34.21, 5]"
            ]
          },
          "metadata": {},
          "execution_count": 24
        }
      ]
    },
    {
      "cell_type": "code",
      "source": [
        "nome = \"Fernando\""
      ],
      "metadata": {
        "id": "QUqiXZuwq3TT"
      },
      "execution_count": null,
      "outputs": []
    },
    {
      "cell_type": "code",
      "source": [
        "nome[0] = \"J\""
      ],
      "metadata": {
        "colab": {
          "base_uri": "https://localhost:8080/",
          "height": 166
        },
        "id": "nwyouG4Uq7KI",
        "outputId": "a4e191e3-371b-49b7-9fbc-cfcd718a6ecc"
      },
      "execution_count": null,
      "outputs": [
        {
          "output_type": "error",
          "ename": "TypeError",
          "evalue": "ignored",
          "traceback": [
            "\u001b[0;31m---------------------------------------------------------------------------\u001b[0m",
            "\u001b[0;31mTypeError\u001b[0m                                 Traceback (most recent call last)",
            "\u001b[0;32m<ipython-input-28-ea989d16f2b5>\u001b[0m in \u001b[0;36m<module>\u001b[0;34m()\u001b[0m\n\u001b[0;32m----> 1\u001b[0;31m \u001b[0mnome\u001b[0m\u001b[0;34m[\u001b[0m\u001b[0;36m0\u001b[0m\u001b[0;34m]\u001b[0m \u001b[0;34m=\u001b[0m \u001b[0;34m\"J\"\u001b[0m\u001b[0;34m\u001b[0m\u001b[0;34m\u001b[0m\u001b[0m\n\u001b[0m",
            "\u001b[0;31mTypeError\u001b[0m: 'str' object does not support item assignment"
          ]
        }
      ]
    },
    {
      "cell_type": "code",
      "source": [
        "listaPacientes = [\n",
        "\t\t\t[\"João José Bonifácio\", 39, 38.4, -1],\n",
        "[\"Maria Catarina Silva\",  57, 35.33, 3],\n",
        "[\"Pedro de Souza\",  75, 36.3, -1]\n",
        "]\n"
      ],
      "metadata": {
        "id": "q6bnpaZxq8gm"
      },
      "execution_count": null,
      "outputs": []
    },
    {
      "cell_type": "code",
      "source": [
        "listaPacientes[0][3]"
      ],
      "metadata": {
        "colab": {
          "base_uri": "https://localhost:8080/"
        },
        "id": "dDuf1ml2uckf",
        "outputId": "9b1732d3-4d72-445f-eb59-c1feee20fdf5"
      },
      "execution_count": null,
      "outputs": [
        {
          "output_type": "execute_result",
          "data": {
            "text/plain": [
              "-1"
            ]
          },
          "metadata": {},
          "execution_count": 37
        }
      ]
    },
    {
      "cell_type": "code",
      "source": [
        "lista = []\n",
        "a = [1]\n",
        "lista.append(a)\n",
        "a.append(4)\n",
        "print(lista)"
      ],
      "metadata": {
        "colab": {
          "base_uri": "https://localhost:8080/"
        },
        "id": "7lDIf6ZUueRY",
        "outputId": "f1bfaf2f-6f9e-47aa-d4de-199795c0aa23"
      },
      "execution_count": null,
      "outputs": [
        {
          "output_type": "stream",
          "name": "stdout",
          "text": [
            "[[1, 4]]\n"
          ]
        }
      ]
    },
    {
      "cell_type": "code",
      "source": [
        "lista = []\n",
        "a = 1\n",
        "lista.append(a)\n",
        "a=3\n",
        "print(lista)"
      ],
      "metadata": {
        "colab": {
          "base_uri": "https://localhost:8080/"
        },
        "id": "KZdPwZ-Myf59",
        "outputId": "a375ffcf-828f-45b6-b902-a46ca3cf9955"
      },
      "execution_count": null,
      "outputs": [
        {
          "output_type": "stream",
          "name": "stdout",
          "text": [
            "[1]\n"
          ]
        }
      ]
    },
    {
      "cell_type": "code",
      "source": [
        "a = [1,2,3]"
      ],
      "metadata": {
        "id": "H_1oEhduyy5f"
      },
      "execution_count": null,
      "outputs": []
    },
    {
      "cell_type": "code",
      "source": [
        "3*a"
      ],
      "metadata": {
        "colab": {
          "base_uri": "https://localhost:8080/"
        },
        "id": "VET2kX0C4GdX",
        "outputId": "c6de688f-8088-409a-e101-2798388168e6"
      },
      "execution_count": null,
      "outputs": [
        {
          "output_type": "execute_result",
          "data": {
            "text/plain": [
              "[1, 2, 3, 1, 2, 3, 1, 2, 3]"
            ]
          },
          "metadata": {},
          "execution_count": 42
        }
      ]
    },
    {
      "cell_type": "code",
      "source": [
        "3*[0]"
      ],
      "metadata": {
        "colab": {
          "base_uri": "https://localhost:8080/"
        },
        "id": "rNqAPloM4HFs",
        "outputId": "21c137f0-9e71-406a-ca8e-1664a49fe80d"
      },
      "execution_count": null,
      "outputs": [
        {
          "output_type": "execute_result",
          "data": {
            "text/plain": [
              "[0, 0, 0]"
            ]
          },
          "metadata": {},
          "execution_count": 43
        }
      ]
    },
    {
      "cell_type": "code",
      "source": [
        "listaPacientes = [\n",
        "\t\t\t[\"João José Bonifácio\", 39, 38.4],\n",
        "[\"Maria Catarina Silva\",  57, 35.33],\n",
        "[\"Pedro de Souza\",  75, 36.3]\n",
        "]\n"
      ],
      "metadata": {
        "id": "X_aU2v-t4MeV"
      },
      "execution_count": null,
      "outputs": []
    },
    {
      "cell_type": "code",
      "source": [
        "for paciente in listaPacientes:\n",
        "  print(\"\", paciente[0]) #a primeira posicao sempre armazena o nome"
      ],
      "metadata": {
        "colab": {
          "base_uri": "https://localhost:8080/"
        },
        "id": "QHbui0--7IcZ",
        "outputId": "ee9b727f-97c1-4127-d520-ff73cdb801e1"
      },
      "execution_count": null,
      "outputs": [
        {
          "output_type": "stream",
          "name": "stdout",
          "text": [
            "Nome:  João José Bonifácio\n",
            "Nome:  Maria Catarina Silva\n",
            "Nome:  Pedro de Souza\n"
          ]
        }
      ]
    },
    {
      "cell_type": "code",
      "source": [
        "for nome, idade, temperatura in listaPacientes:\n",
        "  print(\"Nome: \", nome)"
      ],
      "metadata": {
        "colab": {
          "base_uri": "https://localhost:8080/"
        },
        "id": "d9acXk6J7PZf",
        "outputId": "76ddb36a-9689-4067-b8e8-c39b12bab58d"
      },
      "execution_count": null,
      "outputs": [
        {
          "output_type": "stream",
          "name": "stdout",
          "text": [
            "Nome:  João José Bonifácio\n",
            "Nome:  Maria Catarina Silva\n",
            "Nome:  Pedro de Souza\n"
          ]
        }
      ]
    },
    {
      "cell_type": "code",
      "source": [
        "listaNumeros = []\n",
        "\n",
        "for i in range(100):\n",
        "  numero = float(input(\"digite um numero: \"))\n",
        "  listaNumeros.append(numero)"
      ],
      "metadata": {
        "colab": {
          "base_uri": "https://localhost:8080/"
        },
        "id": "YaGJJ65z8COh",
        "outputId": "fe45a1c0-f259-4bcb-89bb-2512ae124980"
      },
      "execution_count": null,
      "outputs": [
        {
          "name": "stdout",
          "output_type": "stream",
          "text": [
            "digite um numero: 3\n",
            "digite um numero: 2\n",
            "digite um numero: 30\n",
            "digite um numero: 45\n",
            "digite um numero: 21\n",
            "digite um numero: 54\n",
            "digite um numero: 32\n",
            "digite um numero: 18\n",
            "digite um numero: 54\n",
            "digite um numero: 32\n"
          ]
        }
      ]
    },
    {
      "cell_type": "code",
      "source": [
        "listaNumeros"
      ],
      "metadata": {
        "colab": {
          "base_uri": "https://localhost:8080/"
        },
        "id": "O7DleRod9W19",
        "outputId": "e873617d-f7e8-40ae-f388-45de5678deae"
      },
      "execution_count": null,
      "outputs": [
        {
          "output_type": "execute_result",
          "data": {
            "text/plain": [
              "[3.0, 2.0, 30.0, 45.0, 21.0, 54.0, 32.0, 18.0, 54.0, 32.0]"
            ]
          },
          "metadata": {},
          "execution_count": 56
        }
      ]
    },
    {
      "cell_type": "code",
      "source": [
        "x = [1,2,3,4]\n",
        "y= [\"Joao\", \"Maria\", \"Jose\", \"Pedro\"]\n",
        "\n",
        "for a,b in zip(x,y):\n",
        "  print(a,b)"
      ],
      "metadata": {
        "colab": {
          "base_uri": "https://localhost:8080/"
        },
        "id": "PJn6PR569csd",
        "outputId": "086acaf5-cd6c-497d-89ba-ec092aebff33"
      },
      "execution_count": null,
      "outputs": [
        {
          "output_type": "stream",
          "name": "stdout",
          "text": [
            "1 Joao\n",
            "2 Maria\n",
            "3 Jose\n",
            "4 Pedro\n"
          ]
        }
      ]
    },
    {
      "cell_type": "code",
      "source": [
        "chr(81)"
      ],
      "metadata": {
        "colab": {
          "base_uri": "https://localhost:8080/",
          "height": 35
        },
        "id": "woJY7Px_Af5D",
        "outputId": "728485b0-a5b3-4879-ee4d-a25eed716306"
      },
      "execution_count": null,
      "outputs": [
        {
          "output_type": "execute_result",
          "data": {
            "text/plain": [
              "'Q'"
            ],
            "application/vnd.google.colaboratory.intrinsic+json": {
              "type": "string"
            }
          },
          "metadata": {},
          "execution_count": 63
        }
      ]
    },
    {
      "cell_type": "code",
      "source": [
        "for i in range(300):\n",
        "  print(i, chr(i))"
      ],
      "metadata": {
        "colab": {
          "base_uri": "https://localhost:8080/"
        },
        "id": "MV8Vo_UCEVEd",
        "outputId": "f093fd11-cfc0-4742-cbc9-867d311745f7"
      },
      "execution_count": null,
      "outputs": [
        {
          "output_type": "stream",
          "name": "stdout",
          "text": [
            "0 \u0000\n",
            "1 \u0001\n",
            "2 \u0002\n",
            "3 \u0003\n",
            "4 \u0004\n",
            "5 \u0005\n",
            "6 \u0006\n",
            "7 \u0007\n",
            "8 \b\n",
            "9 \t\n",
            "10 \n",
            "\n",
            "11 \u000b\n",
            "12 \f\n",
            "13 \r\n",
            "14 \u000e\n",
            "15 \u000f\n",
            "16 \u0010\n",
            "17 \u0011\n",
            "18 \u0012\n",
            "19 \u0013\n",
            "20 \u0014\n",
            "21 \u0015\n",
            "22 \u0016\n",
            "23 \u0017\n",
            "24 \u0018\n",
            "25 \u0019\n",
            "26 \u001a\n",
            "27 \u001b\n",
            "28 \u001c\n",
            "29 \u001d\n",
            "30 \u001e\n",
            "31 \u001f\n",
            "32  \n",
            "33 !\n",
            "34 \"\n",
            "35 #\n",
            "36 $\n",
            "37 %\n",
            "38 &\n",
            "39 '\n",
            "40 (\n",
            "41 )\n",
            "42 *\n",
            "43 +\n",
            "44 ,\n",
            "45 -\n",
            "46 .\n",
            "47 /\n",
            "48 0\n",
            "49 1\n",
            "50 2\n",
            "51 3\n",
            "52 4\n",
            "53 5\n",
            "54 6\n",
            "55 7\n",
            "56 8\n",
            "57 9\n",
            "58 :\n",
            "59 ;\n",
            "60 <\n",
            "61 =\n",
            "62 >\n",
            "63 ?\n",
            "64 @\n",
            "65 A\n",
            "66 B\n",
            "67 C\n",
            "68 D\n",
            "69 E\n",
            "70 F\n",
            "71 G\n",
            "72 H\n",
            "73 I\n",
            "74 J\n",
            "75 K\n",
            "76 L\n",
            "77 M\n",
            "78 N\n",
            "79 O\n",
            "80 P\n",
            "81 Q\n",
            "82 R\n",
            "83 S\n",
            "84 T\n",
            "85 U\n",
            "86 V\n",
            "87 W\n",
            "88 X\n",
            "89 Y\n",
            "90 Z\n",
            "91 [\n",
            "92 \\\n",
            "93 ]\n",
            "94 ^\n",
            "95 _\n",
            "96 `\n",
            "97 a\n",
            "98 b\n",
            "99 c\n",
            "100 d\n",
            "101 e\n",
            "102 f\n",
            "103 g\n",
            "104 h\n",
            "105 i\n",
            "106 j\n",
            "107 k\n",
            "108 l\n",
            "109 m\n",
            "110 n\n",
            "111 o\n",
            "112 p\n",
            "113 q\n",
            "114 r\n",
            "115 s\n",
            "116 t\n",
            "117 u\n",
            "118 v\n",
            "119 w\n",
            "120 x\n",
            "121 y\n",
            "122 z\n",
            "123 {\n",
            "124 |\n",
            "125 }\n",
            "126 ~\n",
            "127 \n",
            "128 \n",
            "129 \n",
            "130 \n",
            "131 \n",
            "132 \n",
            "133 \n",
            "134 \n",
            "135 \n",
            "136 \n",
            "137 \n",
            "138 \n",
            "139 \n",
            "140 \n",
            "141 \n",
            "142 \n",
            "143 \n",
            "144 \n",
            "145 \n",
            "146 \n",
            "147 \n",
            "148 \n",
            "149 \n",
            "150 \n",
            "151 \n",
            "152 \n",
            "153 \n",
            "154 \n",
            "155 \n",
            "156 \n",
            "157 \n",
            "158 \n",
            "159 \n",
            "160  \n",
            "161 ¡\n",
            "162 ¢\n",
            "163 £\n",
            "164 ¤\n",
            "165 ¥\n",
            "166 ¦\n",
            "167 §\n",
            "168 ¨\n",
            "169 ©\n",
            "170 ª\n",
            "171 «\n",
            "172 ¬\n",
            "173 ­\n",
            "174 ®\n",
            "175 ¯\n",
            "176 °\n",
            "177 ±\n",
            "178 ²\n",
            "179 ³\n",
            "180 ´\n",
            "181 µ\n",
            "182 ¶\n",
            "183 ·\n",
            "184 ¸\n",
            "185 ¹\n",
            "186 º\n",
            "187 »\n",
            "188 ¼\n",
            "189 ½\n",
            "190 ¾\n",
            "191 ¿\n",
            "192 À\n",
            "193 Á\n",
            "194 Â\n",
            "195 Ã\n",
            "196 Ä\n",
            "197 Å\n",
            "198 Æ\n",
            "199 Ç\n",
            "200 È\n",
            "201 É\n",
            "202 Ê\n",
            "203 Ë\n",
            "204 Ì\n",
            "205 Í\n",
            "206 Î\n",
            "207 Ï\n",
            "208 Ð\n",
            "209 Ñ\n",
            "210 Ò\n",
            "211 Ó\n",
            "212 Ô\n",
            "213 Õ\n",
            "214 Ö\n",
            "215 ×\n",
            "216 Ø\n",
            "217 Ù\n",
            "218 Ú\n",
            "219 Û\n",
            "220 Ü\n",
            "221 Ý\n",
            "222 Þ\n",
            "223 ß\n",
            "224 à\n",
            "225 á\n",
            "226 â\n",
            "227 ã\n",
            "228 ä\n",
            "229 å\n",
            "230 æ\n",
            "231 ç\n",
            "232 è\n",
            "233 é\n",
            "234 ê\n",
            "235 ë\n",
            "236 ì\n",
            "237 í\n",
            "238 î\n",
            "239 ï\n",
            "240 ð\n",
            "241 ñ\n",
            "242 ò\n",
            "243 ó\n",
            "244 ô\n",
            "245 õ\n",
            "246 ö\n",
            "247 ÷\n",
            "248 ø\n",
            "249 ù\n",
            "250 ú\n",
            "251 û\n",
            "252 ü\n",
            "253 ý\n",
            "254 þ\n",
            "255 ÿ\n",
            "256 Ā\n",
            "257 ā\n",
            "258 Ă\n",
            "259 ă\n",
            "260 Ą\n",
            "261 ą\n",
            "262 Ć\n",
            "263 ć\n",
            "264 Ĉ\n",
            "265 ĉ\n",
            "266 Ċ\n",
            "267 ċ\n",
            "268 Č\n",
            "269 č\n",
            "270 Ď\n",
            "271 ď\n",
            "272 Đ\n",
            "273 đ\n",
            "274 Ē\n",
            "275 ē\n",
            "276 Ĕ\n",
            "277 ĕ\n",
            "278 Ė\n",
            "279 ė\n",
            "280 Ę\n",
            "281 ę\n",
            "282 Ě\n",
            "283 ě\n",
            "284 Ĝ\n",
            "285 ĝ\n",
            "286 Ğ\n",
            "287 ğ\n",
            "288 Ġ\n",
            "289 ġ\n",
            "290 Ģ\n",
            "291 ģ\n",
            "292 Ĥ\n",
            "293 ĥ\n",
            "294 Ħ\n",
            "295 ħ\n",
            "296 Ĩ\n",
            "297 ĩ\n",
            "298 Ī\n",
            "299 ī\n"
          ]
        }
      ]
    },
    {
      "cell_type": "code",
      "source": [
        "\"ratos\" in \"O rato roeu a roupa do rei de Roma\""
      ],
      "metadata": {
        "colab": {
          "base_uri": "https://localhost:8080/"
        },
        "id": "d61UEyJ-EhZP",
        "outputId": "bd3d10c5-bf28-4b79-819a-a5c56d97dd03"
      },
      "execution_count": null,
      "outputs": [
        {
          "output_type": "execute_result",
          "data": {
            "text/plain": [
              "False"
            ]
          },
          "metadata": {},
          "execution_count": 70
        }
      ]
    },
    {
      "cell_type": "code",
      "source": [
        "caractere = \",\"\n",
        "\n",
        "ord(caractere) >= ord(\"a\") and ord(caractere)<= ord(\"z\")"
      ],
      "metadata": {
        "colab": {
          "base_uri": "https://localhost:8080/"
        },
        "id": "x0KlhZXhFgdt",
        "outputId": "34ce4074-94f6-436c-85c0-91ecc5f34d99"
      },
      "execution_count": null,
      "outputs": [
        {
          "output_type": "execute_result",
          "data": {
            "text/plain": [
              "False"
            ]
          },
          "metadata": {},
          "execution_count": 72
        }
      ]
    },
    {
      "cell_type": "code",
      "source": [
        "char a = 'a'\n"
      ],
      "metadata": {
        "id": "Mi77uUtqGcME"
      },
      "execution_count": null,
      "outputs": []
    },
    {
      "cell_type": "code",
      "source": [
        "s = \"Olá, mundo!\"\n",
        "print(s)\n",
        "# Substitui uma substring por alguma outra coisa.\n",
        "s1 = s.replace(\"mundo\", \"meu Recife\")\n",
        "print(s1)"
      ],
      "metadata": {
        "colab": {
          "base_uri": "https://localhost:8080/"
        },
        "id": "_S2J55koKW-F",
        "outputId": "da344bca-3b25-4b13-f197-90b8b7171408"
      },
      "execution_count": null,
      "outputs": [
        {
          "output_type": "stream",
          "name": "stdout",
          "text": [
            "Olá, mundo!\n",
            "Olá, meu Recife!\n"
          ]
        }
      ]
    },
    {
      "cell_type": "code",
      "source": [
        "s"
      ],
      "metadata": {
        "colab": {
          "base_uri": "https://localhost:8080/",
          "height": 35
        },
        "id": "lUogWl7WKYOr",
        "outputId": "648b6655-4cc2-478c-c175-b9a3fe32f3f0"
      },
      "execution_count": null,
      "outputs": [
        {
          "output_type": "execute_result",
          "data": {
            "text/plain": [
              "'Olá, mundo!'"
            ],
            "application/vnd.google.colaboratory.intrinsic+json": {
              "type": "string"
            }
          },
          "metadata": {},
          "execution_count": 74
        }
      ]
    },
    {
      "cell_type": "code",
      "source": [],
      "metadata": {
        "id": "u3blvlfFKaKe"
      },
      "execution_count": null,
      "outputs": []
    }
  ]
}