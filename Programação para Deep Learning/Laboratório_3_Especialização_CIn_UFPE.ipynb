{
  "nbformat": 4,
  "nbformat_minor": 0,
  "metadata": {
    "colab": {
      "provenance": []
    },
    "kernelspec": {
      "name": "python3",
      "display_name": "Python 3"
    },
    "language_info": {
      "name": "python"
    }
  },
  "cells": [
    {
      "cell_type": "markdown",
      "metadata": {
        "id": "SBP_iLT85zx6"
      },
      "source": [
        "#### Assunto do Laboratório 3:\n",
        "- Comando de iteração"
      ]
    },
    {
      "cell_type": "markdown",
      "metadata": {
        "id": "xgARmo8p1G1S"
      },
      "source": [
        "### Questão 1:\n",
        "\n",
        "Crie um programa que imprima todos os números pares de 0 a 100."
      ]
    },
    {
      "cell_type": "code",
      "metadata": {
        "id": "ftTZoL601LPS"
      },
      "source": [
        "## codigo vai aqui\n"
      ],
      "execution_count": null,
      "outputs": []
    },
    {
      "cell_type": "markdown",
      "metadata": {
        "id": "CoXpwF-S1jpD"
      },
      "source": [
        "### Questão 2:\n",
        "\n",
        "Desenvolver um algoritmo que efetue a soma de todos os números ímpares que são múltiplos de três e que se encontram no conjunto dos números de 1 até 500."
      ]
    },
    {
      "cell_type": "code",
      "metadata": {
        "id": "cP5aW8Wx1lzB"
      },
      "source": [
        "## codigo vai aqui\n"
      ],
      "execution_count": null,
      "outputs": []
    },
    {
      "cell_type": "markdown",
      "metadata": {
        "id": "YbYcwRqD1p9m"
      },
      "source": [
        "### Questão 3:\n",
        "\n",
        "Desenvolver um algoritmo que leia a altura de 15 pessoas. Este programa deverá calcular e mostrar :\n",
        "\n",
        "a. A menor altura do grupo;\n",
        "\n",
        "b. A maior altura do grupo;"
      ]
    },
    {
      "cell_type": "code",
      "metadata": {
        "id": "99SPhTHK1vpn",
        "colab": {
          "base_uri": "https://localhost:8080/"
        },
        "outputId": "de2b756a-883c-4312-ff2d-b2b2804fcc08"
      },
      "source": [
        "##codigo vai aqui\n",
        "\n",
        "cont = 0\n",
        "\n",
        "maior_altura = 0\n",
        "menor_altura = 999999999\n",
        "\n",
        "while cont <15:\n",
        "    altura = float(input (\"Digite a altura da pessoa \"+str(cont+1)))\n",
        "    if altura > maior_altura:\n",
        "        maior_altura = altura\n",
        "    if altura < menor_altura:\n",
        "        menor_altura = altura\n",
        "    cont+=1\n",
        "\n",
        "print (\"A maior altura eh\", maior_altura, \"e a menor altura eh\", menor_altura)"
      ],
      "execution_count": null,
      "outputs": [
        {
          "output_type": "stream",
          "name": "stdout",
          "text": [
            "Digite a altura da pessoa 12\n",
            "Digite a altura da pessoa 23\n",
            "Digite a altura da pessoa 34\n",
            "Digite a altura da pessoa 45\n",
            "Digite a altura da pessoa 56\n",
            "Digite a altura da pessoa 67\n",
            "Digite a altura da pessoa 74\n",
            "Digite a altura da pessoa 83\n",
            "Digite a altura da pessoa 92\n",
            "Digite a altura da pessoa 101\n",
            "Digite a altura da pessoa 113\n",
            "Digite a altura da pessoa 124\n",
            "Digite a altura da pessoa 135\n",
            "Digite a altura da pessoa 146\n",
            "Digite a altura da pessoa 1578\n",
            "A maior altura eh 78.0 e a menor altura eh 1.0\n"
          ]
        }
      ]
    },
    {
      "cell_type": "markdown",
      "metadata": {
        "id": "Jpmd0T431Opv"
      },
      "source": [
        "3### Questão 4:\n",
        "\n",
        "Construa um programa que lê um número inteiro N a partir do teclado e calcula a raiz quinta inteira desse número, se houver. Caso não haja, ele deve informar isso ao usuário.\n",
        "\n",
        "\n"
      ]
    },
    {
      "cell_type": "code",
      "metadata": {
        "id": "R1Ww8HpJywz_",
        "colab": {
          "base_uri": "https://localhost:8080/"
        },
        "outputId": "a5130bac-d0ba-404e-d999-05f710a6623f"
      },
      "source": [
        "## codigo vai aqui\n",
        "\n",
        "x = int(input(\"Digite um número inteiro: \"))\n",
        "i =1\n",
        "raiz_quinta = 0\n",
        "\n",
        "while i < x and raiz_quinta == 0:\n",
        "  if i**5 == x:\n",
        "    raiz_quinta = i\n",
        "    print(f\"A raiz quinta de {x} é {raiz_quinta}.\")\n",
        "  i += 1\n",
        "\n",
        "if raiz_quinta == 0:\n",
        "  print(f\"{x} não tem raiz quinta inteira\")"
      ],
      "execution_count": null,
      "outputs": [
        {
          "output_type": "stream",
          "name": "stdout",
          "text": [
            "Digite um número inteiro: 100000\n",
            "A raiz quinta de 100000 é 10.\n"
          ]
        }
      ]
    },
    {
      "cell_type": "code",
      "source": [
        "num = int( input(\"digite um número: \") )\n",
        "\n",
        "ep = 10**(-10)\n",
        "\n",
        "raiz_quinta = num**(0.2)\n",
        "if raiz_quinta - int(raiz_quinta) <ep:\n",
        "  print(\"a raiz quinta de\", num, \"eh\", raiz_quinta)\n",
        "else:\n",
        "    print(\"raiz quinta não inteira\")"
      ],
      "metadata": {
        "colab": {
          "base_uri": "https://localhost:8080/"
        },
        "id": "iJIUx_zJEnOQ",
        "outputId": "01349591-6a52-48dd-fb65-ef82f2bd0f9e"
      },
      "execution_count": null,
      "outputs": [
        {
          "output_type": "stream",
          "name": "stdout",
          "text": [
            "digite um número: 42\n",
            "raiz quinta não inteira\n"
          ]
        }
      ]
    },
    {
      "cell_type": "code",
      "source": [
        "((10.0/2)**1)**1"
      ],
      "metadata": {
        "colab": {
          "base_uri": "https://localhost:8080/"
        },
        "id": "xAdlOz7ME7sw",
        "outputId": "5f022f73-fdbe-4496-92e4-85434f0fa51e"
      },
      "execution_count": null,
      "outputs": [
        {
          "output_type": "execute_result",
          "data": {
            "text/plain": [
              "5.0"
            ]
          },
          "metadata": {},
          "execution_count": 26
        }
      ]
    },
    {
      "cell_type": "markdown",
      "metadata": {
        "id": "oOj04WB91dPr"
      },
      "source": [
        "### Questão 5:\n",
        "\n",
        "Escrever um algoritmo que leia uma quantidade desconhecida de números e conte quantos deles estão nos seguintes intervalos: [0-25], [26-50], [51-75] e [76-100]. A entrada de dados deve terminar quando for lido um número negativo."
      ]
    },
    {
      "cell_type": "code",
      "metadata": {
        "id": "0BOxc3XD19xS",
        "colab": {
          "base_uri": "https://localhost:8080/"
        },
        "outputId": "666de2c7-8ccc-4ed2-b367-03a103b2c223"
      },
      "source": [
        "## codigo vai aqui\n",
        "2**5"
      ],
      "execution_count": null,
      "outputs": [
        {
          "output_type": "execute_result",
          "data": {
            "text/plain": [
              "32"
            ]
          },
          "metadata": {},
          "execution_count": 8
        }
      ]
    },
    {
      "cell_type": "markdown",
      "metadata": {
        "id": "NETHSKP94ZiU"
      },
      "source": [
        "### Questão 6:\n",
        "\n",
        "Faça um algoritmo estruturado que leia uma quantidade não determinada de números positivos. Calcule a quantidade de números pares e ímpares, a média de valores pares e a média geral dos números lidos. O número que encerrará a leitura será zero."
      ]
    },
    {
      "cell_type": "code",
      "metadata": {
        "id": "jGqNeLpm1HXQ"
      },
      "source": [
        "## codigo vai aqui\n"
      ],
      "execution_count": null,
      "outputs": []
    }
  ]
}