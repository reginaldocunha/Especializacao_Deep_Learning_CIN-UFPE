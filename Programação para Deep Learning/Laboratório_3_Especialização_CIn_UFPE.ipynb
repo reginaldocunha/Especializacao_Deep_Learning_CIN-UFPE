{
 "nbformat": 4,
 "nbformat_minor": 0,
 "metadata": {
  "colab": {
   "provenance": []
  },
  "kernelspec": {
   "name": "python3",
   "language": "python",
   "display_name": "Python 3 (ipykernel)"
  },
  "language_info": {
   "name": "python"
  }
 },
 "cells": [
  {
   "cell_type": "markdown",
   "metadata": {
    "id": "SBP_iLT85zx6"
   },
   "source": [
    "#### Assunto do Laboratório 3:\n",
    "- Comando de iteração"
   ]
  },
  {
   "cell_type": "code",
   "execution_count": 24,
   "outputs": [],
   "source": [
    "import pandas as pd"
   ],
   "metadata": {
    "collapsed": false,
    "ExecuteTime": {
     "end_time": "2024-01-06T01:35:26.478913Z",
     "start_time": "2024-01-06T01:35:25.229228Z"
    }
   }
  },
  {
   "cell_type": "markdown",
   "metadata": {
    "id": "xgARmo8p1G1S"
   },
   "source": [
    "### Questão 1:\n",
    "\n",
    "Crie um programa que imprima todos os números pares de 0 a 100."
   ]
  },
  {
   "cell_type": "code",
   "metadata": {
    "id": "ftTZoL601LPS",
    "ExecuteTime": {
     "end_time": "2024-01-06T00:51:03.542232Z",
     "start_time": "2024-01-06T00:51:03.540522Z"
    }
   },
   "source": [
    "## codigo vai aqui\n",
    "numeros_pares = []\n",
    "\n",
    "for numero in range(100):\n",
    "    if numero % 2 == 0:\n",
    "        numeros_pares.append(numero)\n",
    "\n",
    "print(numeros_pares)"
   ],
   "execution_count": 7,
   "outputs": [
    {
     "name": "stdout",
     "output_type": "stream",
     "text": [
      "[0, 2, 4, 6, 8, 10, 12, 14, 16, 18, 20, 22, 24, 26, 28, 30, 32, 34, 36, 38, 40, 42, 44, 46, 48, 50, 52, 54, 56, 58, 60, 62, 64, 66, 68, 70, 72, 74, 76, 78, 80, 82, 84, 86, 88, 90, 92, 94, 96, 98]\n"
     ]
    }
   ]
  },
  {
   "cell_type": "markdown",
   "metadata": {
    "id": "CoXpwF-S1jpD"
   },
   "source": [
    "### Questão 2:\n",
    "\n",
    "Desenvolver um algoritmo que efetue a soma de todos os números ímpares que são múltiplos de três e que se encontram no conjunto dos números de 1 até 500."
   ]
  },
  {
   "cell_type": "code",
   "metadata": {
    "id": "cP5aW8Wx1lzB",
    "ExecuteTime": {
     "end_time": "2024-01-06T00:58:25.651239Z",
     "start_time": "2024-01-06T00:58:25.646510Z"
    }
   },
   "source": [
    "## codigo vai aqui\n",
    "numeros_impares = 0\n",
    "\n",
    "for num in range(1, 500):\n",
    "    if num % 2 > 0:\n",
    "        if num % 3 == 0:\n",
    "            numeros_impares += num\n",
    "\n",
    "print(numeros_impares)"
   ],
   "execution_count": 15,
   "outputs": [
    {
     "name": "stdout",
     "output_type": "stream",
     "text": [
      "20667\n"
     ]
    }
   ]
  },
  {
   "cell_type": "markdown",
   "metadata": {
    "id": "YbYcwRqD1p9m"
   },
   "source": [
    "### Questão 3:\n",
    "\n",
    "Desenvolver um algoritmo que leia a altura de 15 pessoas. Este programa deverá calcular e mostrar :\n",
    "\n",
    "a. A menor altura do grupo;\n",
    "\n",
    "b. A maior altura do grupo;"
   ]
  },
  {
   "cell_type": "code",
   "metadata": {
    "id": "99SPhTHK1vpn",
    "colab": {
     "base_uri": "https://localhost:8080/"
    },
    "outputId": "de2b756a-883c-4312-ff2d-b2b2804fcc08"
   },
   "source": [
    "##codigo vai aqui\n",
    "\n",
    "cont = 0\n",
    "\n",
    "maior_altura = 0\n",
    "menor_altura = 999999999\n",
    "\n",
    "while cont <15:\n",
    "    altura = float(input (\"Digite a altura da pessoa \"+str(cont+1)))\n",
    "    if altura > maior_altura:\n",
    "        maior_altura = altura\n",
    "    if altura < menor_altura:\n",
    "        menor_altura = altura\n",
    "    cont+=1\n",
    "\n",
    "print (\"A maior altura eh\", maior_altura, \"e a menor altura eh\", menor_altura)"
   ],
   "execution_count": null,
   "outputs": [
    {
     "output_type": "stream",
     "name": "stdout",
     "text": [
      "Digite a altura da pessoa 12\n",
      "Digite a altura da pessoa 23\n",
      "Digite a altura da pessoa 34\n",
      "Digite a altura da pessoa 45\n",
      "Digite a altura da pessoa 56\n",
      "Digite a altura da pessoa 67\n",
      "Digite a altura da pessoa 74\n",
      "Digite a altura da pessoa 83\n",
      "Digite a altura da pessoa 92\n",
      "Digite a altura da pessoa 101\n",
      "Digite a altura da pessoa 113\n",
      "Digite a altura da pessoa 124\n",
      "Digite a altura da pessoa 135\n",
      "Digite a altura da pessoa 146\n",
      "Digite a altura da pessoa 1578\n",
      "A maior altura eh 78.0 e a menor altura eh 1.0\n"
     ]
    }
   ]
  },
  {
   "cell_type": "markdown",
   "metadata": {
    "id": "Jpmd0T431Opv"
   },
   "source": [
    "### Questão 4:\n",
    "\n",
    "Construa um programa que lê um número inteiro N a partir do teclado e calcula a raiz quinta inteira desse número, se houver. Caso não haja, ele deve informar isso ao usuário.\n",
    "\n",
    "\n"
   ]
  },
  {
   "cell_type": "code",
   "metadata": {
    "id": "R1Ww8HpJywz_",
    "colab": {
     "base_uri": "https://localhost:8080/"
    },
    "outputId": "a5130bac-d0ba-404e-d999-05f710a6623f"
   },
   "source": [
    "## codigo vai aqui\n",
    "\n",
    "x = int(input(\"Digite um número inteiro: \"))\n",
    "i =1\n",
    "raiz_quinta = 0\n",
    "\n",
    "while i < x and raiz_quinta == 0:\n",
    "  if i**5 == x:\n",
    "    raiz_quinta = i\n",
    "    print(f\"A raiz quinta de {x} é {raiz_quinta}.\")\n",
    "  i += 1\n",
    "\n",
    "if raiz_quinta == 0:\n",
    "  print(f\"{x} não tem raiz quinta inteira\")"
   ],
   "execution_count": null,
   "outputs": [
    {
     "output_type": "stream",
     "name": "stdout",
     "text": [
      "Digite um número inteiro: 100000\n",
      "A raiz quinta de 100000 é 10.\n"
     ]
    }
   ]
  },
  {
   "cell_type": "code",
   "source": [
    "num = int( input(\"digite um número: \") )\n",
    "\n",
    "ep = 10**(-10)\n",
    "\n",
    "raiz_quinta = num**(0.2)\n",
    "if raiz_quinta - int(raiz_quinta) <ep:\n",
    "  print(\"a raiz quinta de\", num, \"eh\", raiz_quinta)\n",
    "else:\n",
    "    print(\"raiz quinta não inteira\")"
   ],
   "metadata": {
    "colab": {
     "base_uri": "https://localhost:8080/"
    },
    "id": "iJIUx_zJEnOQ",
    "outputId": "01349591-6a52-48dd-fb65-ef82f2bd0f9e"
   },
   "execution_count": null,
   "outputs": [
    {
     "output_type": "stream",
     "name": "stdout",
     "text": [
      "digite um número: 42\n",
      "raiz quinta não inteira\n"
     ]
    }
   ]
  },
  {
   "cell_type": "markdown",
   "metadata": {
    "id": "oOj04WB91dPr"
   },
   "source": [
    "### Questão 5:\n",
    "\n",
    "Escrever um algoritmo que leia uma quantidade desconhecida de números e conte quantos deles estão nos seguintes intervalos: [0-25], [26-50], [51-75] e [76-100]. A entrada de dados deve terminar quando for lido um número negativo."
   ]
  },
  {
   "cell_type": "code",
   "metadata": {
    "id": "0BOxc3XD19xS",
    "colab": {
     "base_uri": "https://localhost:8080/"
    },
    "outputId": "666de2c7-8ccc-4ed2-b367-03a103b2c223",
    "ExecuteTime": {
     "end_time": "2024-01-06T01:23:49.473557Z",
     "start_time": "2024-01-06T01:23:34.755354Z"
    }
   },
   "source": [
    "## codigo vai aqui\n",
    "n = 0\n",
    "int_0_25 = 0\n",
    "int_26_50 = 0\n",
    "int_51_75 = 0\n",
    "int_76_100 = 0\n",
    "\n",
    "while n >= 0:\n",
    "    n = float(input(\"Digite o número: \"))\n",
    "    \n",
    "    if n >= 0 and n <= 25:\n",
    "        int_0_25 += 1\n",
    "    \n",
    "    if n >= 26 and n <= 50:\n",
    "        int_26_50 += 1\n",
    "        \n",
    "    if n >= 51 and n <= 75:\n",
    "        int_51_75 += 1\n",
    "    \n",
    "    if n >= 76 and n <= 100:\n",
    "        int_76_100 += 1\n",
    "\n",
    "print('int_0_25 = ', int_0_25)\n",
    "print('int_26_50 = ', int_26_50)\n",
    "print('int_51_75 = ', int_51_75)\n",
    "print('int_76_100 = ', int_76_100)"
   ],
   "execution_count": 23,
   "outputs": [
    {
     "name": "stdout",
     "output_type": "stream",
     "text": [
      "int_0_25 =  4\n",
      "int_26_50 =  1\n",
      "int_51_75 =  1\n",
      "int_76_100 =  2\n"
     ]
    }
   ]
  },
  {
   "cell_type": "markdown",
   "metadata": {
    "id": "NETHSKP94ZiU"
   },
   "source": [
    "### Questão 6:\n",
    "\n",
    "Faça um algoritmo estruturado que leia uma quantidade não determinada de números positivos. Calcule a quantidade de números pares e ímpares, a média de valores pares e a média geral dos números lidos. O número que encerrará a leitura será zero."
   ]
  },
  {
   "cell_type": "code",
   "metadata": {
    "id": "jGqNeLpm1HXQ",
    "ExecuteTime": {
     "end_time": "2024-01-06T02:00:35.875218Z",
     "start_time": "2024-01-06T02:00:28.315649Z"
    }
   },
   "source": [
    "## codigo vai aqui\n",
    "cont = 1\n",
    "pares = []\n",
    "geral = []\n",
    "qtd_pares = 0\n",
    "qtd_impares = 0\n",
    "qtd_geral = 0\n",
    "media_pares = 0\n",
    "media_geral = 0\n",
    "\n",
    "while cont >= 1:\n",
    "    number = float(input(\"Digite o número: \"))\n",
    "    cont = number\n",
    "    \n",
    "    if number != 0:\n",
    "        geral.append(number)\n",
    "        qtd_geral += 1\n",
    "        media_geral = sum(geral) / qtd_geral\n",
    "    \n",
    "    if number % 2 == 0 and number != 0:\n",
    "        pares.append(number)\n",
    "        qtd_pares += 1\n",
    "        media_pares = sum(pares) / qtd_pares\n",
    "    elif number % 2 != 0 and number != 0:\n",
    "        qtd_impares += 1\n",
    "\n",
    "print(\"A quantidade de pares eh:\", qtd_pares)\n",
    "print(\"A quantidade de impares eh:\", qtd_impares)\n",
    "print(\"A media dos valores pares eh:\", media_pares)\n",
    "print(\"A media dos valores geral eh:\", media_geral)"
   ],
   "execution_count": 42,
   "outputs": [
    {
     "name": "stdout",
     "output_type": "stream",
     "text": [
      "A quantidade de pares eh: 5\n",
      "A quantidade de impares eh: 5\n",
      "A media dos valores pares eh: 6.0\n",
      "A media dos valores geral eh: 5.5\n"
     ]
    }
   ]
  }
 ]
}
