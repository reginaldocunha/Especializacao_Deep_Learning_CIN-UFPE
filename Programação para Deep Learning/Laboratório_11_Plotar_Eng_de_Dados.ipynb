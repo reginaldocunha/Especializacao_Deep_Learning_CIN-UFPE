{
  "nbformat": 4,
  "nbformat_minor": 0,
  "metadata": {
    "colab": {
      "provenance": []
    },
    "kernelspec": {
      "name": "python3",
      "display_name": "Python 3"
    },
    "language_info": {
      "name": "python"
    }
  },
  "cells": [
    {
      "cell_type": "markdown",
      "metadata": {
        "id": "B17enD2MbYDX"
      },
      "source": [
        "Laboratório 11:\n",
        "\n",
        "- Visualização descritiva de dados\n",
        "- Consultas no DataFrame\n"
      ]
    },
    {
      "cell_type": "markdown",
      "metadata": {
        "id": "L3pctAz7bqvX"
      },
      "source": [
        "### Questão 1\n",
        "\n",
        "Apresente de forma visual as informações descritivas da base de dados do Minessota (Usuários, Avaliações e Filmes) usando a biblioteca\n",
        "\n",
        "https://plotly.com/python/\n",
        "\n",
        "a) Descreva visualmente a quantidade de cada valor possível das variavéis (quando for uma variável categórica)\n",
        "\n",
        "b) Detalhe os valores máximos, mínimos, média e moda de cada variável numérica (apresente em forma de gráfico)\n",
        "\n",
        "c) Crie um gráfico temporal, ou seja, um gráfico que leva em consideração o tempo (dia, mês ou ano).\n",
        "\n",
        "d) Crie outros gráficos que façam sentido para essa base."
      ]
    },
    {
      "cell_type": "code",
      "metadata": {
        "id": "1pDUR1QybW4p"
      },
      "source": [
        "## código vai aqui"
      ],
      "execution_count": null,
      "outputs": []
    },
    {
      "cell_type": "markdown",
      "metadata": {
        "id": "ZNDPJ6pmb8FX"
      },
      "source": [
        "### Questão 2\n",
        "Responda as questões abaixo:\n",
        "\n",
        "a) Gere um dataframe em que possua apenas os usuários que possuem gênero masculino e trabalham como student e que tenham idade acima de 20 anos.\n",
        "\n",
        "b) Quantos alunos que são programadores e que são do sexo feminino?\n",
        "\n",
        "c) Quantas avaliações foram feitas acima de 3 (4 ou 5)?"
      ]
    },
    {
      "cell_type": "code",
      "metadata": {
        "id": "PauCXMFScek1"
      },
      "source": [
        "## codigo vai aqui"
      ],
      "execution_count": null,
      "outputs": []
    }
  ]
}