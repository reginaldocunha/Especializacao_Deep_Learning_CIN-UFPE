{
 "cells": [
  {
   "cell_type": "code",
   "execution_count": 1,
   "id": "initial_id",
   "metadata": {
    "collapsed": true,
    "ExecuteTime": {
     "end_time": "2024-01-09T16:46:17.605134Z",
     "start_time": "2024-01-09T16:46:17.528192Z"
    }
   },
   "outputs": [],
   "source": [
    "import numpy as np"
   ]
  },
  {
   "cell_type": "markdown",
   "source": [
    "### Calculando a Eliminação Gaussiana com a função Solve"
   ],
   "metadata": {
    "collapsed": false
   },
   "id": "58cc09f903ba2662"
  },
  {
   "cell_type": "code",
   "execution_count": 2,
   "outputs": [],
   "source": [
    "# Criando array A\n",
    "A = np.array([[3, 2, 7], [-6, 5, 1], [3, 11, -1]])"
   ],
   "metadata": {
    "collapsed": false,
    "ExecuteTime": {
     "end_time": "2024-01-09T16:46:17.608170Z",
     "start_time": "2024-01-09T16:46:17.584195Z"
    }
   },
   "id": "9a0e6abd75fc511b"
  },
  {
   "cell_type": "code",
   "execution_count": 3,
   "outputs": [],
   "source": [
    "# Criando array b\n",
    "b = np.array([[8], [-10], [-9]])"
   ],
   "metadata": {
    "collapsed": false,
    "ExecuteTime": {
     "end_time": "2024-01-09T16:46:17.608918Z",
     "start_time": "2024-01-09T16:46:17.604902Z"
    }
   },
   "id": "8d7f17e0656e9d0d"
  },
  {
   "cell_type": "code",
   "execution_count": 4,
   "outputs": [
    {
     "data": {
      "text/plain": "array([[ 1.],\n       [-1.],\n       [ 1.]])"
     },
     "execution_count": 4,
     "metadata": {},
     "output_type": "execute_result"
    }
   ],
   "source": [
    "# Calculando a eliminacao gaussiana com a funcao solve\n",
    "np.linalg.solve(A, b)"
   ],
   "metadata": {
    "collapsed": false,
    "ExecuteTime": {
     "end_time": "2024-01-09T16:46:17.617438Z",
     "start_time": "2024-01-09T16:46:17.612337Z"
    }
   },
   "id": "d6c30fa9136ccdd3"
  },
  {
   "cell_type": "markdown",
   "source": [
    "### Calculando a Eliminação Gaussiana passo a passo"
   ],
   "metadata": {
    "collapsed": false
   },
   "id": "6f1ef8ad6c51b47c"
  },
  {
   "cell_type": "code",
   "execution_count": 5,
   "outputs": [
    {
     "data": {
      "text/plain": "array([[ 3,  2,  7],\n       [-6,  5,  1],\n       [ 3, 11, -1]])"
     },
     "execution_count": 5,
     "metadata": {},
     "output_type": "execute_result"
    }
   ],
   "source": [
    "# Imprimindo a matriz A\n",
    "A"
   ],
   "metadata": {
    "collapsed": false,
    "ExecuteTime": {
     "end_time": "2024-01-09T16:46:17.632246Z",
     "start_time": "2024-01-09T16:46:17.616807Z"
    }
   },
   "id": "849cfdb7e3f9e045"
  },
  {
   "cell_type": "code",
   "execution_count": 6,
   "outputs": [
    {
     "data": {
      "text/plain": "array([[  8],\n       [-10],\n       [ -9]])"
     },
     "execution_count": 6,
     "metadata": {},
     "output_type": "execute_result"
    }
   ],
   "source": [
    "# Imprimindo a matriz b\n",
    "b"
   ],
   "metadata": {
    "collapsed": false,
    "ExecuteTime": {
     "end_time": "2024-01-09T16:46:17.632502Z",
     "start_time": "2024-01-09T16:46:17.624057Z"
    }
   },
   "id": "1d107dc45dca838b"
  },
  {
   "cell_type": "code",
   "execution_count": 7,
   "outputs": [],
   "source": [
    "# calculando a lin 1 col 0 a 2 de A e lin 1 de b\n",
    "A[1, 0] = A[1, 0] + 2 * A[0, 0]\n",
    "A[1, 1] = A[1, 1] + 2 * A[0, 1]\n",
    "A[1, 2] = A[1, 2] + 2 * A[0, 2]\n",
    "b[1] = b[1] + 2 * b[0]"
   ],
   "metadata": {
    "collapsed": false,
    "ExecuteTime": {
     "end_time": "2024-01-09T16:46:17.652140Z",
     "start_time": "2024-01-09T16:46:17.628279Z"
    }
   },
   "id": "d06d7b16e0b43017"
  },
  {
   "cell_type": "code",
   "execution_count": 8,
   "outputs": [],
   "source": [
    "# calculando a lin 2 col 0 a 2 de A e lin 2 de b\n",
    "A[2, 0] = A[2, 0] - 1 * A[0, 0]\n",
    "A[2, 1] = A[2, 1] - 1 * A[0, 1]\n",
    "A[2, 2] = A[2, 2] - 1 * A[0, 2]\n",
    "b[2] = b[2] - 1 * b[0]"
   ],
   "metadata": {
    "collapsed": false,
    "ExecuteTime": {
     "end_time": "2024-01-09T16:46:17.652356Z",
     "start_time": "2024-01-09T16:46:17.638029Z"
    }
   },
   "id": "79ebb3c270c5864a"
  },
  {
   "cell_type": "code",
   "execution_count": 9,
   "outputs": [],
   "source": [
    "# calculando a lin 2 col 2 de A e lin 2 de b\n",
    "A[2, 0] = A[2, 0] - 1 * A[1, 0]\n",
    "A[2, 1] = A[2, 1] - 1 * A[1, 1]\n",
    "A[2, 2] = A[2, 2] - 1 * A[1, 2]\n",
    "b[2] = b[2] - 1 * b[1]"
   ],
   "metadata": {
    "collapsed": false,
    "ExecuteTime": {
     "end_time": "2024-01-09T16:46:17.652534Z",
     "start_time": "2024-01-09T16:46:17.641240Z"
    }
   },
   "id": "42dd6f85acdf0ae"
  },
  {
   "cell_type": "code",
   "execution_count": 10,
   "outputs": [
    {
     "data": {
      "text/plain": "array([[  3,   2,   7],\n       [  0,   9,  15],\n       [  0,   0, -23]])"
     },
     "execution_count": 10,
     "metadata": {},
     "output_type": "execute_result"
    }
   ],
   "source": [
    "# Imprimindo a matriz A\n",
    "A"
   ],
   "metadata": {
    "collapsed": false,
    "ExecuteTime": {
     "end_time": "2024-01-09T16:46:17.652879Z",
     "start_time": "2024-01-09T16:46:17.648473Z"
    }
   },
   "id": "93ac134a0d3bfabd"
  },
  {
   "cell_type": "code",
   "execution_count": 11,
   "outputs": [
    {
     "data": {
      "text/plain": "array([[  8],\n       [  6],\n       [-23]])"
     },
     "execution_count": 11,
     "metadata": {},
     "output_type": "execute_result"
    }
   ],
   "source": [
    "# Imprimindo a matriz b\n",
    "b"
   ],
   "metadata": {
    "collapsed": false,
    "ExecuteTime": {
     "end_time": "2024-01-09T16:46:17.685165Z",
     "start_time": "2024-01-09T16:46:17.653447Z"
    }
   },
   "id": "f9112c6dbeb74c83"
  },
  {
   "cell_type": "code",
   "execution_count": 12,
   "outputs": [
    {
     "data": {
      "text/plain": "array([1.])"
     },
     "execution_count": 12,
     "metadata": {},
     "output_type": "execute_result"
    }
   ],
   "source": [
    "# Calculo da variável x2\n",
    "x2 = A[2, 2] / b[2]\n",
    "x2"
   ],
   "metadata": {
    "collapsed": false,
    "ExecuteTime": {
     "end_time": "2024-01-09T16:46:17.705452Z",
     "start_time": "2024-01-09T16:46:17.657975Z"
    }
   },
   "id": "ce36370da9eab4e6"
  },
  {
   "cell_type": "code",
   "execution_count": 13,
   "outputs": [
    {
     "data": {
      "text/plain": "array([-1.])"
     },
     "execution_count": 13,
     "metadata": {},
     "output_type": "execute_result"
    }
   ],
   "source": [
    "# Calculo da variável x1\n",
    "x1 = (b[1] - A[1, 2] * x2) / A[1, 1]\n",
    "x1"
   ],
   "metadata": {
    "collapsed": false,
    "ExecuteTime": {
     "end_time": "2024-01-09T16:46:17.706245Z",
     "start_time": "2024-01-09T16:46:17.662061Z"
    }
   },
   "id": "632dd3c416d5dbc3"
  },
  {
   "cell_type": "code",
   "execution_count": 14,
   "outputs": [
    {
     "data": {
      "text/plain": "array([1.])"
     },
     "execution_count": 14,
     "metadata": {},
     "output_type": "execute_result"
    }
   ],
   "source": [
    "# Calculo da variável x0\n",
    "x0 = (b[0] - A[0, 1] * x1 - A[0, 2] * x2) / A[0, 0]\n",
    "x0"
   ],
   "metadata": {
    "collapsed": false,
    "ExecuteTime": {
     "end_time": "2024-01-09T16:46:17.706929Z",
     "start_time": "2024-01-09T16:46:17.668426Z"
    }
   },
   "id": "fd6f098b70af6e2d"
  }
 ],
 "metadata": {
  "kernelspec": {
   "display_name": "Python 3",
   "language": "python",
   "name": "python3"
  },
  "language_info": {
   "codemirror_mode": {
    "name": "ipython",
    "version": 2
   },
   "file_extension": ".py",
   "mimetype": "text/x-python",
   "name": "python",
   "nbconvert_exporter": "python",
   "pygments_lexer": "ipython2",
   "version": "2.7.6"
  }
 },
 "nbformat": 4,
 "nbformat_minor": 5
}
