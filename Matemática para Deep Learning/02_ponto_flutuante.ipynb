{
  "cells": [
    {
      "cell_type": "markdown",
      "metadata": {
        "id": "waYrHbdo7SQl"
      },
      "source": [
        "<a href=\"https://githubtocolab.com/cn-ufpe/cn-ufpe.github.io/blob/master/material/02_ponto_flutuante.ipynb\" target=\"_parent\"><img src=\"https://colab.research.google.com/assets/colab-badge.svg\" alt=\"Open in Colab\"/></a>\n",
        "\n",
        "# Números com ponto flutuante"
      ]
    },
    {
      "cell_type": "markdown",
      "metadata": {
        "id": "ScLVJnwU7SQm"
      },
      "source": [
        "### Mudança de base"
      ]
    },
    {
      "cell_type": "markdown",
      "metadata": {
        "id": "mrb7703Q7SQn"
      },
      "source": [
        "Qual a representação binária dos números 37 e 0.1? Por que o 0.1 não é representado corretamente no computador."
      ]
    },
    {
      "cell_type": "code",
      "source": [
        "a = 0.1\n",
        "print(a)"
      ],
      "metadata": {
        "id": "ZvejU1sVovVC"
      },
      "execution_count": null,
      "outputs": []
    },
    {
      "cell_type": "markdown",
      "metadata": {
        "id": "8f5wq2GK7SQn"
      },
      "source": [
        "### Quais os limites de representação de números do tipo float?"
      ]
    },
    {
      "cell_type": "code",
      "execution_count": null,
      "metadata": {
        "id": "tVealic17SQo",
        "colab": {
          "base_uri": "https://localhost:8080/"
        },
        "outputId": "1416e88b-b26d-4bf5-dc46-dac895659f07"
      },
      "outputs": [
        {
          "output_type": "stream",
          "name": "stdout",
          "text": [
            "a =  2450.0 \n",
            "b =  2450.0\n"
          ]
        }
      ],
      "source": [
        "a = 2.45 * (10**3)\n",
        "b = 2.45e3\n",
        "print('a = ', a, '\\nb = ',b)"
      ]
    },
    {
      "cell_type": "markdown",
      "metadata": {
        "id": "5RIdp-yI7SQp"
      },
      "source": [
        "O maior expoente da base 10 que um número pode ter é 308. O que ocorre se quisermos representar o número $10^{309}$?"
      ]
    },
    {
      "cell_type": "code",
      "execution_count": null,
      "metadata": {
        "id": "iq_sQ3Kq7SQq",
        "colab": {
          "base_uri": "https://localhost:8080/"
        },
        "outputId": "aa53bfa0-7fab-4139-d047-611f4a075819"
      },
      "outputs": [
        {
          "output_type": "execute_result",
          "data": {
            "text/plain": [
              "308"
            ]
          },
          "metadata": {},
          "execution_count": 2
        }
      ],
      "source": [
        "import sys\n",
        "sys.float_info.max_10_exp"
      ]
    },
    {
      "cell_type": "code",
      "execution_count": null,
      "metadata": {
        "id": "h5Aep6Lj7SQq",
        "colab": {
          "base_uri": "https://localhost:8080/"
        },
        "outputId": "bad7b225-b23f-4396-834a-83832c9dc043"
      },
      "outputs": [
        {
          "output_type": "execute_result",
          "data": {
            "text/plain": [
              "inf"
            ]
          },
          "metadata": {},
          "execution_count": 5
        }
      ],
      "source": [
        "1e309"
      ]
    },
    {
      "cell_type": "markdown",
      "metadata": {
        "id": "NTsHJ92w7SQr"
      },
      "source": [
        "O termo \"inf\" representa um número (muito grande, em módulo), que extrapola o limite de representação desta máquina (sendo representado por \"inf\"). Na reta real, está região é chamada de  **overflow** (ocorre para números positivos e para números negativos)."
      ]
    },
    {
      "cell_type": "markdown",
      "metadata": {
        "id": "dgFB1eyT7SQr"
      },
      "source": [
        "O menor expoente que esta máquina suporta representar é -308. E se quisermos representar o número $10^{-400}$?"
      ]
    },
    {
      "cell_type": "code",
      "execution_count": null,
      "metadata": {
        "id": "4DCFohXQ7SQr",
        "colab": {
          "base_uri": "https://localhost:8080/"
        },
        "outputId": "76806c60-fa2c-447d-b4d1-4c8c22ca09ce"
      },
      "outputs": [
        {
          "output_type": "stream",
          "name": "stdout",
          "text": [
            "b =  1.2e-308\n"
          ]
        }
      ],
      "source": [
        "b = 1.2e-308\n",
        "print('b = ',b)"
      ]
    },
    {
      "cell_type": "code",
      "execution_count": null,
      "metadata": {
        "id": "hYFZBSI97SQs",
        "colab": {
          "base_uri": "https://localhost:8080/"
        },
        "outputId": "b6a14405-7ad4-4ff2-aa60-963bf6c1c847"
      },
      "outputs": [
        {
          "output_type": "stream",
          "name": "stdout",
          "text": [
            "b =  0.0\n"
          ]
        }
      ],
      "source": [
        "b = 1.2e-400\n",
        "print('b = ',b)"
      ]
    },
    {
      "cell_type": "markdown",
      "metadata": {
        "id": "jLIY-3jr7SQs"
      },
      "source": [
        "A região dos pequenos números (em módulo), que a máquina não consegue representar (e aponta todos eles para o zero) é chamada de **underflow**. Observe que a na reta real de underflow consiste de um subconjunto de números positivo e o mesmo refletido dos negativos. O \"zero\" não pertence ao underflow, pois a máquina consegue representá-lo."
      ]
    },
    {
      "cell_type": "code",
      "execution_count": null,
      "metadata": {
        "id": "8IYnX1sW7SQt",
        "colab": {
          "base_uri": "https://localhost:8080/"
        },
        "outputId": "b3681ff4-f849-4606-c133-7ffbace8a738"
      },
      "outputs": [
        {
          "output_type": "stream",
          "name": "stderr",
          "text": [
            "<ipython-input-13-7601f395a3d5>:2: RuntimeWarning: invalid value encountered in sqrt\n",
            "  sqrt(-1)\n"
          ]
        },
        {
          "output_type": "execute_result",
          "data": {
            "text/plain": [
              "nan"
            ]
          },
          "metadata": {},
          "execution_count": 13
        }
      ],
      "source": [
        "from numpy import sqrt\n",
        "sqrt(-1)"
      ]
    },
    {
      "cell_type": "markdown",
      "metadata": {
        "id": "ABmtIOhq7SQt"
      },
      "source": [
        "o termo \"nan\" representa \"not a number\", ou seja, o resultado da operação não pode ser representado por um número ... algo similar acontece quando temos divsão 0/0 ou infinito/infinito ..."
      ]
    },
    {
      "cell_type": "code",
      "execution_count": null,
      "metadata": {
        "id": "0rmiIBVQ7SQt",
        "colab": {
          "base_uri": "https://localhost:8080/"
        },
        "outputId": "baefbb6e-9bd2-4498-f447-bc6666fbbc81"
      },
      "outputs": [
        {
          "output_type": "execute_result",
          "data": {
            "text/plain": [
              "nan"
            ]
          },
          "metadata": {},
          "execution_count": 14
        }
      ],
      "source": [
        "float('inf') / float('inf')"
      ]
    },
    {
      "cell_type": "code",
      "execution_count": null,
      "metadata": {
        "id": "SvC8r2v07SQu",
        "colab": {
          "base_uri": "https://localhost:8080/"
        },
        "outputId": "e1b430fd-b6a4-416e-dc81-2a5616cf5c92"
      },
      "outputs": [
        {
          "output_type": "execute_result",
          "data": {
            "text/plain": [
              "nan"
            ]
          },
          "metadata": {},
          "execution_count": 15
        }
      ],
      "source": [
        "float('inf') - float('inf')"
      ]
    },
    {
      "cell_type": "markdown",
      "metadata": {
        "id": "Z-uGcch97SQu"
      },
      "source": [
        "### Cancelamento catastrófico"
      ]
    },
    {
      "cell_type": "code",
      "execution_count": null,
      "metadata": {
        "id": "bm-on8p27SQv",
        "colab": {
          "base_uri": "https://localhost:8080/"
        },
        "outputId": "88c01b9e-65a1-4407-9dd5-7e2d7f653f06"
      },
      "outputs": [
        {
          "output_type": "stream",
          "name": "stdout",
          "text": [
            "a =  1.4142135623730951\n"
          ]
        }
      ],
      "source": [
        "a = sqrt(2)\n",
        "print('a = ', a)"
      ]
    },
    {
      "cell_type": "markdown",
      "metadata": {
        "id": "OTErriyG7SQv"
      },
      "source": [
        "O valor da variável ```a``` é uma aproximação de $\\sqrt{2}$. Existem erros de arredondamento, pois o computador só pode representar um conjunto finito de dígitos."
      ]
    },
    {
      "cell_type": "code",
      "execution_count": null,
      "metadata": {
        "id": "TWWE5lrW7SQw",
        "colab": {
          "base_uri": "https://localhost:8080/"
        },
        "outputId": "e7fb4a24-d208-4e7f-d507-8134dd352a0f"
      },
      "outputs": [
        {
          "output_type": "execute_result",
          "data": {
            "text/plain": [
              "4.440892098500626e-16"
            ]
          },
          "metadata": {},
          "execution_count": 17
        }
      ],
      "source": [
        "a**2 - 2 # deveria resultar em 0"
      ]
    },
    {
      "cell_type": "code",
      "execution_count": null,
      "metadata": {
        "id": "axqEdKSq7SQw",
        "colab": {
          "base_uri": "https://localhost:8080/"
        },
        "outputId": "e7adc5ab-d60e-408f-a23f-a1db03b691f8"
      },
      "outputs": [
        {
          "output_type": "execute_result",
          "data": {
            "text/plain": [
              "44408.92098500626"
            ]
          },
          "metadata": {},
          "execution_count": 18
        }
      ],
      "source": [
        "(a**2 - 2) * 1e20 # deveria resultar em 0"
      ]
    },
    {
      "cell_type": "markdown",
      "metadata": {
        "id": "JxFH9msr7SQx"
      },
      "source": [
        "Cancelamentos devido a subtração que mudam a ordem de grandeza podem introduzir erros numéricos."
      ]
    },
    {
      "cell_type": "markdown",
      "metadata": {
        "id": "fRvpmyMs7SQx"
      },
      "source": [
        "### Número de dígitos significativos\n",
        "\n",
        "Para representar o número 763, são necessários três digitos, enquanto que para representar o número 6432 são necessário quatro dígitos. Na verdade com três dígitos é possivel representar 1000 inteiros, de 0 até 999. Com quatro dígitos é possivel representar 10000 inteiros, de 0 a 9999. Assim, usando a relação nº digitos ≈ log10(quantidade números) é possível calcular a ordem de dígitos decimais significativos. Dessa forma, se a quantidade de números distintos vale $2^{53}$, então ..."
      ]
    },
    {
      "cell_type": "code",
      "execution_count": null,
      "metadata": {
        "id": "gL2IOtN_7SQy",
        "colab": {
          "base_uri": "https://localhost:8080/"
        },
        "outputId": "a674ea9b-d6e1-4289-da06-0887decc0ee1"
      },
      "outputs": [
        {
          "output_type": "stream",
          "name": "stdout",
          "text": [
            "num_digitos_decimal =  15.954589770191003\n",
            "num_digitos_decimal =  15\n"
          ]
        }
      ],
      "source": [
        "import numpy as np\n",
        "a = 2**53\n",
        "num_digitos_decimal = np.log10(a)\n",
        "print('num_digitos_decimal = ', num_digitos_decimal)\n",
        "print('num_digitos_decimal = ', int(num_digitos_decimal))"
      ]
    },
    {
      "cell_type": "markdown",
      "metadata": {
        "id": "xa2uFGzm7SQy"
      },
      "source": [
        "O que ocorre se inicializarmos um número de ponto flutuante com 17 dígitos significativos?"
      ]
    },
    {
      "cell_type": "code",
      "execution_count": null,
      "metadata": {
        "id": "m9sdXZ7t7SQy",
        "colab": {
          "base_uri": "https://localhost:8080/"
        },
        "outputId": "2ea2326b-86df-45dc-f170-b1941ea72010"
      },
      "outputs": [
        {
          "output_type": "stream",
          "name": "stdout",
          "text": [
            "1.234567890123456690432135474111\n"
          ]
        }
      ],
      "source": [
        "numero = 1.2345678901234567890\n",
        "print(\"{:.30f}\".format(numero))"
      ]
    },
    {
      "cell_type": "markdown",
      "metadata": {
        "id": "ksIP3qil7SQz"
      },
      "source": [
        "Existe uma perda de precisão a partir do 15 dígito. Obtemos o número 1.234567890123456**690432135474111** ao invés de 1.234567890123456**7890**"
      ]
    },
    {
      "cell_type": "markdown",
      "metadata": {
        "id": "4Wcp6cXl7SQz"
      },
      "source": [
        "Este erro de precisão pode ocorrer ao realizar adições de números com magnitude muito diferentes.\n",
        "$10^{16} + 10^{-1} = 10^{16}$? Justifique."
      ]
    },
    {
      "cell_type": "code",
      "execution_count": null,
      "metadata": {
        "id": "ys5tsjK07SQz",
        "colab": {
          "base_uri": "https://localhost:8080/"
        },
        "outputId": "19def970-37b9-4151-a6db-1c1c25ab74a6"
      },
      "outputs": [
        {
          "output_type": "execute_result",
          "data": {
            "text/plain": [
              "True"
            ]
          },
          "metadata": {},
          "execution_count": 22
        }
      ],
      "source": [
        "10. ** 16. + 10. ** -1. == 10.**16."
      ]
    },
    {
      "cell_type": "code",
      "source": [],
      "metadata": {
        "id": "9qfuBEjap-qP"
      },
      "execution_count": null,
      "outputs": []
    }
  ],
  "metadata": {
    "kernelspec": {
      "display_name": "Python 3",
      "language": "python",
      "name": "python3"
    },
    "language_info": {
      "codemirror_mode": {
        "name": "ipython",
        "version": 3
      },
      "file_extension": ".py",
      "mimetype": "text/x-python",
      "name": "python",
      "nbconvert_exporter": "python",
      "pygments_lexer": "ipython3",
      "version": "3.7.6"
    },
    "colab": {
      "provenance": []
    }
  },
  "nbformat": 4,
  "nbformat_minor": 0
}