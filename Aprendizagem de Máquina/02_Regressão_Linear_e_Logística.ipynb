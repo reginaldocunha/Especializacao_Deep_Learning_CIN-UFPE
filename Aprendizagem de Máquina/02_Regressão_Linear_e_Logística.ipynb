{
 "cells": [
  {
   "cell_type": "markdown",
   "metadata": {
    "id": "MyGZ8zKFAPMK"
   },
   "source": [
    "# Regressão Logística\n",
    "***"
   ]
  },
  {
   "cell_type": "markdown",
   "metadata": {
    "id": "rJthfgFBAPMM"
   },
   "source": [
    "## Importando bibliotecas"
   ]
  },
  {
   "cell_type": "code",
   "execution_count": 1,
   "metadata": {
    "id": "iBKVKN6RJIR3",
    "ExecuteTime": {
     "end_time": "2023-12-02T00:51:25.822096Z",
     "start_time": "2023-12-02T00:51:25.678949Z"
    }
   },
   "outputs": [],
   "source": [
    "#Bibliotecas de manipualção e visualização de dados\n",
    "import numpy as np\n",
    "import pandas as pd\n",
    "import matplotlib.pyplot as plt\n",
    "from mlxtend.plotting import plot_decision_regions\n",
    "import seaborn as sns\n",
    "\n",
    "#Classes do modelo de aprendizado\n",
    "from sklearn.linear_model import LogisticRegression\n",
    "\n",
    "#Funções de avaliação dos modelos\n",
    "from sklearn.metrics import classification_report\n",
    "from sklearn.model_selection import train_test_split, GridSearchCV\n",
    "\n",
    "import warnings\n",
    "warnings.filterwarnings('ignore')"
   ]
  },
  {
   "cell_type": "code",
   "execution_count": 2,
   "metadata": {
    "id": "wE-YBsGLJJws",
    "ExecuteTime": {
     "end_time": "2023-12-02T00:51:26.262723Z",
     "start_time": "2023-12-02T00:51:25.822598Z"
    }
   },
   "outputs": [],
   "source": [
    "#Carregando o dataset\n",
    "dataset = pd.read_csv('https://raw.githubusercontent.com/Francimaria/especializacao_DNN/main/datasets/Iris.csv')\n",
    "\n",
    "# Mapeando os valores da classe para inteiro (para fins de visualização da região de decisão)\n",
    "dataset['Species'] = pd.factorize(dataset['Species'])[0]"
   ]
  },
  {
   "cell_type": "code",
   "execution_count": 3,
   "metadata": {
    "colab": {
     "base_uri": "https://localhost:8080/",
     "height": 424
    },
    "id": "RK9TPkMmJMgC",
    "outputId": "d94327f9-cb3c-430c-e1f3-da8a1cf28e54",
    "ExecuteTime": {
     "end_time": "2023-12-02T00:51:26.274833Z",
     "start_time": "2023-12-02T00:51:26.265819Z"
    }
   },
   "outputs": [
    {
     "data": {
      "text/plain": "   SepalLengthCm  SepalWidthCm  PetalLengthCm  PetalWidthCm  Species\n0            5.1           3.5            1.4           0.2        0\n1            4.9           3.0            1.4           0.2        0\n2            4.7           3.2            1.3           0.2        0\n3            4.6           3.1            1.5           0.2        0\n4            5.0           3.6            1.4           0.2        0",
      "text/html": "<div>\n<style scoped>\n    .dataframe tbody tr th:only-of-type {\n        vertical-align: middle;\n    }\n\n    .dataframe tbody tr th {\n        vertical-align: top;\n    }\n\n    .dataframe thead th {\n        text-align: right;\n    }\n</style>\n<table border=\"1\" class=\"dataframe\">\n  <thead>\n    <tr style=\"text-align: right;\">\n      <th></th>\n      <th>SepalLengthCm</th>\n      <th>SepalWidthCm</th>\n      <th>PetalLengthCm</th>\n      <th>PetalWidthCm</th>\n      <th>Species</th>\n    </tr>\n  </thead>\n  <tbody>\n    <tr>\n      <th>0</th>\n      <td>5.1</td>\n      <td>3.5</td>\n      <td>1.4</td>\n      <td>0.2</td>\n      <td>0</td>\n    </tr>\n    <tr>\n      <th>1</th>\n      <td>4.9</td>\n      <td>3.0</td>\n      <td>1.4</td>\n      <td>0.2</td>\n      <td>0</td>\n    </tr>\n    <tr>\n      <th>2</th>\n      <td>4.7</td>\n      <td>3.2</td>\n      <td>1.3</td>\n      <td>0.2</td>\n      <td>0</td>\n    </tr>\n    <tr>\n      <th>3</th>\n      <td>4.6</td>\n      <td>3.1</td>\n      <td>1.5</td>\n      <td>0.2</td>\n      <td>0</td>\n    </tr>\n    <tr>\n      <th>4</th>\n      <td>5.0</td>\n      <td>3.6</td>\n      <td>1.4</td>\n      <td>0.2</td>\n      <td>0</td>\n    </tr>\n  </tbody>\n</table>\n</div>"
     },
     "execution_count": 3,
     "metadata": {},
     "output_type": "execute_result"
    }
   ],
   "source": [
    "dataset.head()"
   ]
  },
  {
   "cell_type": "markdown",
   "metadata": {
    "id": "xSoq341FGVI-"
   },
   "source": [
    "**Separando o conjunto de dados**"
   ]
  },
  {
   "cell_type": "code",
   "execution_count": 4,
   "metadata": {
    "id": "Ikvor-24JPa1",
    "ExecuteTime": {
     "end_time": "2023-12-02T00:51:26.278901Z",
     "start_time": "2023-12-02T00:51:26.276431Z"
    }
   },
   "outputs": [],
   "source": [
    "#Vamos usar somente duas features PetalLengthCm e PetalWidthCm\n",
    "X = dataset.iloc[:,[2,3]]\n",
    "y = dataset.iloc[:,[4]]\n",
    "\n",
    "#Separando o conjunto de dados em treinamento e teste\n",
    "X_train, X_test, y_train, y_test = train_test_split(X, y)"
   ]
  },
  {
   "cell_type": "markdown",
   "metadata": {
    "id": "USML-Y6YGZnD"
   },
   "source": [
    "## Treinamento do modelo"
   ]
  },
  {
   "cell_type": "code",
   "execution_count": 5,
   "metadata": {
    "colab": {
     "base_uri": "https://localhost:8080/"
    },
    "id": "hixm2ZGTJS5s",
    "outputId": "21ae65b7-27c6-4ced-90e4-d3f94b465c52",
    "ExecuteTime": {
     "end_time": "2023-12-02T00:51:26.317422Z",
     "start_time": "2023-12-02T00:51:26.281017Z"
    }
   },
   "outputs": [
    {
     "name": "stdout",
     "output_type": "stream",
     "text": [
      "              precision    recall  f1-score   support\n",
      "\n",
      "           0       1.00      1.00      1.00        12\n",
      "           1       0.92      1.00      0.96        12\n",
      "           2       1.00      0.93      0.96        14\n",
      "\n",
      "    accuracy                           0.97        38\n",
      "   macro avg       0.97      0.98      0.97        38\n",
      "weighted avg       0.98      0.97      0.97        38\n"
     ]
    }
   ],
   "source": [
    "model = LogisticRegression()\n",
    "\n",
    "#treinando o modelo\n",
    "model.fit(X_train, y_train)\n",
    "\n",
    "#predição\n",
    "y_pred = model.predict(X_test)\n",
    "\n",
    "#Resultados do classificador\n",
    "print(classification_report(y_test, y_pred))"
   ]
  },
  {
   "cell_type": "markdown",
   "metadata": {
    "id": "V1FveOeNGi9-"
   },
   "source": [
    "### Região de decisão"
   ]
  },
  {
   "cell_type": "code",
   "execution_count": 6,
   "metadata": {
    "id": "GXgh-EXGJemj",
    "ExecuteTime": {
     "end_time": "2023-12-02T00:51:26.320230Z",
     "start_time": "2023-12-02T00:51:26.295363Z"
    }
   },
   "outputs": [],
   "source": [
    "def show_decision_region(X, y, model):\n",
    "    feature_0 = X.columns[0]\n",
    "    feature_1 = X.columns[1]\n",
    "\n",
    "    plot_decision_regions(np.array([X[feature_0].values,\n",
    "                                    X[feature_1].values]).T,\n",
    "                                    y.values.flatten(), model)\n",
    "    plt.xlabel(feature_0)\n",
    "    plt.ylabel(feature_1)\n",
    "\n",
    "    plt.title(model.__class__.__name__)\n",
    "    plt.show()"
   ]
  },
  {
   "cell_type": "code",
   "execution_count": 7,
   "metadata": {
    "id": "dRTHui4UAPMP",
    "outputId": "e5570cd9-bda0-4e29-e4eb-10f1cc8149a8",
    "ExecuteTime": {
     "end_time": "2023-12-02T00:51:26.416732Z",
     "start_time": "2023-12-02T00:51:26.297820Z"
    }
   },
   "outputs": [
    {
     "data": {
      "text/plain": "<Figure size 640x480 with 1 Axes>",
      "image/png": "[encoded data removed]"
     },
     "metadata": {},
     "output_type": "display_data"
    }
   ],
   "source": [
    "show_decision_region(X_test, y_test, model)"
   ]
  },
  {
   "cell_type": "markdown",
   "metadata": {
    "id": "U1Xtew9zAPMP"
   },
   "source": [
    "## E se ajustarmos os parâmetros"
   ]
  },
  {
   "cell_type": "code",
   "execution_count": 8,
   "metadata": {
    "id": "t_preMDIAPMQ",
    "outputId": "ef612f0a-c2fe-4f3f-855c-51eb140ee3f0",
    "ExecuteTime": {
     "end_time": "2023-12-02T00:51:26.460593Z",
     "start_time": "2023-12-02T00:51:26.420034Z"
    }
   },
   "outputs": [
    {
     "name": "stdout",
     "output_type": "stream",
     "text": [
      "Melhor parametro: {'penalty': 'none'}\n",
      "              precision    recall  f1-score   support\n",
      "\n",
      "           0       1.00      1.00      1.00        12\n",
      "           1       0.92      1.00      0.96        12\n",
      "           2       1.00      0.93      0.96        14\n",
      "\n",
      "    accuracy                           0.97        38\n",
      "   macro avg       0.97      0.98      0.97        38\n",
      "weighted avg       0.98      0.97      0.97        38\n"
     ]
    }
   ],
   "source": [
    "#https://scikit-learn.org/stable/modules/generated/sklearn.linear_model.LogisticRegression.html\n",
    "# ... referenciando o modelo\n",
    "model = LogisticRegression()\n",
    "\n",
    "#penalty - depende do algoritmo usado para otimização (solver) padrão: ‘lbfgs’ - [‘l2’, None]\n",
    "# 'none': nenhuma penalidade é adicionada;\n",
    "# 'l2': adiciona um termo de penalidade L2 e é a escolha padrão;\n",
    "\n",
    "parameters = {'penalty': ['L2', 'none']}\n",
    "\n",
    "grid = GridSearchCV(estimator = model,\n",
    "                    param_grid = parameters,\n",
    "                    scoring = 'f1_macro',          # métrica de avaliação\n",
    "                    cv = 5 )                        # cross-validation\n",
    "\n",
    "#treinando o modelo para seleção dos parâmetros\n",
    "grid.fit(X_train, y_train)\n",
    "\n",
    "y_pred = grid.predict(X_test)\n",
    "\n",
    "print(\"Melhor parametro:\", grid.best_params_)\n",
    "\n",
    "# e ver a sua performance no dataset de teste\n",
    "print(classification_report(y_test, y_pred))"
   ]
  }
 ],
 "metadata": {
  "colab": {
   "name": "02-Regressão Linear e Logística.ipynb",
   "provenance": []
  },
  "kernelspec": {
   "name": "biodiesel",
   "language": "python",
   "display_name": "biodiesel"
  },
  "language_info": {
   "codemirror_mode": {
    "name": "ipython",
    "version": 3
   },
   "file_extension": ".py",
   "mimetype": "text/x-python",
   "name": "python",
   "nbconvert_exporter": "python",
   "pygments_lexer": "ipython3",
   "version": "3.10.12"
  }
 },
 "nbformat": 4,
 "nbformat_minor": 0
}
